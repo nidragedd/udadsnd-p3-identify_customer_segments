{
 "cells": [
  {
   "cell_type": "markdown",
   "metadata": {},
   "source": [
    "# Project: Identify Customer Segments\n",
    "\n",
    "In this project, you will apply unsupervised learning techniques to identify segments of the population that form the core customer base for a mail-order sales company in Germany. These segments can then be used to direct marketing campaigns towards audiences that will have the highest expected rate of returns. The data that you will use has been provided by our partners at Bertelsmann Arvato Analytics, and represents a real-life data science task.\n",
    "\n",
    "This notebook will help you complete this task by providing a framework within which you will perform your analysis steps. In each step of the project, you will see some text describing the subtask that you will perform, followed by one or more code cells for you to complete your work. **Feel free to add additional code and markdown cells as you go along so that you can explore everything in precise chunks.** The code cells provided in the base template will outline only the major tasks, and will usually not be enough to cover all of the minor tasks that comprise it.\n",
    "\n",
    "It should be noted that while there will be precise guidelines on how you should handle certain tasks in the project, there will also be places where an exact specification is not provided. **There will be times in the project where you will need to make and justify your own decisions on how to treat the data.** These are places where there may not be only one way to handle the data. In real-life tasks, there may be many valid ways to approach an analysis task. One of the most important things you can do is clearly document your approach so that other scientists can understand the decisions you've made.\n",
    "\n",
    "At the end of most sections, there will be a Markdown cell labeled **Discussion**. In these cells, you will report your findings for the completed section, as well as document the decisions that you made in your approach to each subtask. **Your project will be evaluated not just on the code used to complete the tasks outlined, but also your communication about your observations and conclusions at each stage.**"
   ]
  },
  {
   "cell_type": "code",
   "execution_count": 85,
   "metadata": {},
   "outputs": [],
   "source": [
    "# import libraries here; add more as necessary\n",
    "import numpy as np\n",
    "import pandas as pd\n",
    "import matplotlib.pyplot as plt\n",
    "import seaborn as sns\n",
    "\n",
    "# Added by me for the purpose of this project\n",
    "from ast import literal_eval\n",
    "\n",
    "from sklearn.preprocessing import Imputer\n",
    "from sklearn.pipeline import Pipeline\n",
    "from sklearn.preprocessing import StandardScaler\n",
    "from sklearn.decomposition import PCA\n",
    "\n",
    "from sklearn.cluster import KMeans\n",
    "\n",
    "# magic word for producing visualizations in notebook\n",
    "%matplotlib inline"
   ]
  },
  {
   "cell_type": "markdown",
   "metadata": {},
   "source": [
    "### Step 0: Load the Data\n",
    "\n",
    "There are four files associated with this project (not including this one):\n",
    "\n",
    "- `Udacity_AZDIAS_Subset.csv`: Demographics data for the general population of Germany; 891211 persons (rows) x 85 features (columns).\n",
    "- `Udacity_CUSTOMERS_Subset.csv`: Demographics data for customers of a mail-order company; 191652 persons (rows) x 85 features (columns).\n",
    "- `Data_Dictionary.md`: Detailed information file about the features in the provided datasets.\n",
    "- `AZDIAS_Feature_Summary.csv`: Summary of feature attributes for demographics data; 85 features (rows) x 4 columns\n",
    "\n",
    "Each row of the demographics files represents a single person, but also includes information outside of individuals, including information about their household, building, and neighborhood. You will use this information to cluster the general population into groups with similar demographic properties. Then, you will see how the people in the customers dataset fit into those created clusters. The hope here is that certain clusters are over-represented in the customers data, as compared to the general population; those over-represented clusters will be assumed to be part of the core userbase. This information can then be used for further applications, such as targeting for a marketing campaign.\n",
    "\n",
    "To start off with, load in the demographics data for the general population into a pandas DataFrame, and do the same for the feature attributes summary. Note for all of the `.csv` data files in this project: they're semicolon (`;`) delimited, so you'll need an additional argument in your [`read_csv()`](https://pandas.pydata.org/pandas-docs/stable/generated/pandas.read_csv.html) call to read in the data properly. Also, considering the size of the main dataset, it may take some time for it to load completely.\n",
    "\n",
    "Once the dataset is loaded, it's recommended that you take a little bit of time just browsing the general structure of the dataset and feature summary file. You'll be getting deep into the innards of the cleaning in the first major step of the project, so gaining some general familiarity can help you get your bearings."
   ]
  },
  {
   "cell_type": "markdown",
   "metadata": {},
   "source": [
    "#### Load the files and then display sizes + first rows"
   ]
  },
  {
   "cell_type": "code",
   "execution_count": 86,
   "metadata": {},
   "outputs": [
    {
     "name": "stdout",
     "output_type": "stream",
     "text": [
      "Udacity_AZDIAS_Subset.csv shape is (891221, 85)\n",
      "AZDIAS_Feature_Summary.csv shape is (85, 4)\n"
     ]
    }
   ],
   "source": [
    "RAW_AZDIAS_FILENAME = 'Udacity_AZDIAS_Subset.csv'\n",
    "RAW_FEAT_SUMMARY_FILENAME = 'AZDIAS_Feature_Summary.csv'\n",
    "RAW_CUSTOMERS_FILENAME = 'Udacity_CUSTOMERS_Subset.csv'\n",
    "\n",
    "# Load in the general demographics data.\n",
    "azdias = pd.read_csv(RAW_AZDIAS_FILENAME, sep=';')\n",
    "# Load in the feature summary file.\n",
    "feat_info = pd.read_csv(RAW_FEAT_SUMMARY_FILENAME, sep=';')\n",
    "# Check the structure of the data after it's loaded\n",
    "print(\"{} shape is {}\".format(RAW_AZDIAS_FILENAME, azdias.shape))\n",
    "print(\"{} shape is {}\".format(RAW_FEAT_SUMMARY_FILENAME, feat_info.shape))\n",
    "\n",
    "NB_ROWS_RAW_AZDIAS = azdias.shape[0]"
   ]
  },
  {
   "cell_type": "code",
   "execution_count": 87,
   "metadata": {},
   "outputs": [
    {
     "data": {
      "text/html": [
       "<div>\n",
       "<style scoped>\n",
       "    .dataframe tbody tr th:only-of-type {\n",
       "        vertical-align: middle;\n",
       "    }\n",
       "\n",
       "    .dataframe tbody tr th {\n",
       "        vertical-align: top;\n",
       "    }\n",
       "\n",
       "    .dataframe thead th {\n",
       "        text-align: right;\n",
       "    }\n",
       "</style>\n",
       "<table border=\"1\" class=\"dataframe\">\n",
       "  <thead>\n",
       "    <tr style=\"text-align: right;\">\n",
       "      <th></th>\n",
       "      <th>attribute</th>\n",
       "      <th>information_level</th>\n",
       "      <th>type</th>\n",
       "      <th>missing_or_unknown</th>\n",
       "    </tr>\n",
       "  </thead>\n",
       "  <tbody>\n",
       "    <tr>\n",
       "      <th>0</th>\n",
       "      <td>AGER_TYP</td>\n",
       "      <td>person</td>\n",
       "      <td>categorical</td>\n",
       "      <td>[-1,0]</td>\n",
       "    </tr>\n",
       "    <tr>\n",
       "      <th>1</th>\n",
       "      <td>ALTERSKATEGORIE_GROB</td>\n",
       "      <td>person</td>\n",
       "      <td>ordinal</td>\n",
       "      <td>[-1,0,9]</td>\n",
       "    </tr>\n",
       "    <tr>\n",
       "      <th>2</th>\n",
       "      <td>ANREDE_KZ</td>\n",
       "      <td>person</td>\n",
       "      <td>categorical</td>\n",
       "      <td>[-1,0]</td>\n",
       "    </tr>\n",
       "    <tr>\n",
       "      <th>3</th>\n",
       "      <td>CJT_GESAMTTYP</td>\n",
       "      <td>person</td>\n",
       "      <td>categorical</td>\n",
       "      <td>[0]</td>\n",
       "    </tr>\n",
       "    <tr>\n",
       "      <th>4</th>\n",
       "      <td>FINANZ_MINIMALIST</td>\n",
       "      <td>person</td>\n",
       "      <td>ordinal</td>\n",
       "      <td>[-1]</td>\n",
       "    </tr>\n",
       "  </tbody>\n",
       "</table>\n",
       "</div>"
      ],
      "text/plain": [
       "              attribute information_level         type missing_or_unknown\n",
       "0              AGER_TYP            person  categorical             [-1,0]\n",
       "1  ALTERSKATEGORIE_GROB            person      ordinal           [-1,0,9]\n",
       "2             ANREDE_KZ            person  categorical             [-1,0]\n",
       "3         CJT_GESAMTTYP            person  categorical                [0]\n",
       "4     FINANZ_MINIMALIST            person      ordinal               [-1]"
      ]
     },
     "execution_count": 87,
     "metadata": {},
     "output_type": "execute_result"
    }
   ],
   "source": [
    "feat_info.head(5)"
   ]
  },
  {
   "cell_type": "code",
   "execution_count": 88,
   "metadata": {},
   "outputs": [
    {
     "data": {
      "text/html": [
       "<div>\n",
       "<style scoped>\n",
       "    .dataframe tbody tr th:only-of-type {\n",
       "        vertical-align: middle;\n",
       "    }\n",
       "\n",
       "    .dataframe tbody tr th {\n",
       "        vertical-align: top;\n",
       "    }\n",
       "\n",
       "    .dataframe thead th {\n",
       "        text-align: right;\n",
       "    }\n",
       "</style>\n",
       "<table border=\"1\" class=\"dataframe\">\n",
       "  <thead>\n",
       "    <tr style=\"text-align: right;\">\n",
       "      <th></th>\n",
       "      <th>AGER_TYP</th>\n",
       "      <th>ALTERSKATEGORIE_GROB</th>\n",
       "      <th>ANREDE_KZ</th>\n",
       "      <th>CJT_GESAMTTYP</th>\n",
       "      <th>FINANZ_MINIMALIST</th>\n",
       "      <th>FINANZ_SPARER</th>\n",
       "      <th>FINANZ_VORSORGER</th>\n",
       "      <th>FINANZ_ANLEGER</th>\n",
       "      <th>FINANZ_UNAUFFAELLIGER</th>\n",
       "      <th>FINANZ_HAUSBAUER</th>\n",
       "      <th>...</th>\n",
       "      <th>PLZ8_ANTG1</th>\n",
       "      <th>PLZ8_ANTG2</th>\n",
       "      <th>PLZ8_ANTG3</th>\n",
       "      <th>PLZ8_ANTG4</th>\n",
       "      <th>PLZ8_BAUMAX</th>\n",
       "      <th>PLZ8_HHZ</th>\n",
       "      <th>PLZ8_GBZ</th>\n",
       "      <th>ARBEIT</th>\n",
       "      <th>ORTSGR_KLS9</th>\n",
       "      <th>RELAT_AB</th>\n",
       "    </tr>\n",
       "  </thead>\n",
       "  <tbody>\n",
       "    <tr>\n",
       "      <th>0</th>\n",
       "      <td>-1</td>\n",
       "      <td>2</td>\n",
       "      <td>1</td>\n",
       "      <td>2.0</td>\n",
       "      <td>3</td>\n",
       "      <td>4</td>\n",
       "      <td>3</td>\n",
       "      <td>5</td>\n",
       "      <td>5</td>\n",
       "      <td>3</td>\n",
       "      <td>...</td>\n",
       "      <td>NaN</td>\n",
       "      <td>NaN</td>\n",
       "      <td>NaN</td>\n",
       "      <td>NaN</td>\n",
       "      <td>NaN</td>\n",
       "      <td>NaN</td>\n",
       "      <td>NaN</td>\n",
       "      <td>NaN</td>\n",
       "      <td>NaN</td>\n",
       "      <td>NaN</td>\n",
       "    </tr>\n",
       "    <tr>\n",
       "      <th>1</th>\n",
       "      <td>-1</td>\n",
       "      <td>1</td>\n",
       "      <td>2</td>\n",
       "      <td>5.0</td>\n",
       "      <td>1</td>\n",
       "      <td>5</td>\n",
       "      <td>2</td>\n",
       "      <td>5</td>\n",
       "      <td>4</td>\n",
       "      <td>5</td>\n",
       "      <td>...</td>\n",
       "      <td>2.0</td>\n",
       "      <td>3.0</td>\n",
       "      <td>2.0</td>\n",
       "      <td>1.0</td>\n",
       "      <td>1.0</td>\n",
       "      <td>5.0</td>\n",
       "      <td>4.0</td>\n",
       "      <td>3.0</td>\n",
       "      <td>5.0</td>\n",
       "      <td>4.0</td>\n",
       "    </tr>\n",
       "    <tr>\n",
       "      <th>2</th>\n",
       "      <td>-1</td>\n",
       "      <td>3</td>\n",
       "      <td>2</td>\n",
       "      <td>3.0</td>\n",
       "      <td>1</td>\n",
       "      <td>4</td>\n",
       "      <td>1</td>\n",
       "      <td>2</td>\n",
       "      <td>3</td>\n",
       "      <td>5</td>\n",
       "      <td>...</td>\n",
       "      <td>3.0</td>\n",
       "      <td>3.0</td>\n",
       "      <td>1.0</td>\n",
       "      <td>0.0</td>\n",
       "      <td>1.0</td>\n",
       "      <td>4.0</td>\n",
       "      <td>4.0</td>\n",
       "      <td>3.0</td>\n",
       "      <td>5.0</td>\n",
       "      <td>2.0</td>\n",
       "    </tr>\n",
       "    <tr>\n",
       "      <th>3</th>\n",
       "      <td>2</td>\n",
       "      <td>4</td>\n",
       "      <td>2</td>\n",
       "      <td>2.0</td>\n",
       "      <td>4</td>\n",
       "      <td>2</td>\n",
       "      <td>5</td>\n",
       "      <td>2</td>\n",
       "      <td>1</td>\n",
       "      <td>2</td>\n",
       "      <td>...</td>\n",
       "      <td>2.0</td>\n",
       "      <td>2.0</td>\n",
       "      <td>2.0</td>\n",
       "      <td>0.0</td>\n",
       "      <td>1.0</td>\n",
       "      <td>3.0</td>\n",
       "      <td>4.0</td>\n",
       "      <td>2.0</td>\n",
       "      <td>3.0</td>\n",
       "      <td>3.0</td>\n",
       "    </tr>\n",
       "    <tr>\n",
       "      <th>4</th>\n",
       "      <td>-1</td>\n",
       "      <td>3</td>\n",
       "      <td>1</td>\n",
       "      <td>5.0</td>\n",
       "      <td>4</td>\n",
       "      <td>3</td>\n",
       "      <td>4</td>\n",
       "      <td>1</td>\n",
       "      <td>3</td>\n",
       "      <td>2</td>\n",
       "      <td>...</td>\n",
       "      <td>2.0</td>\n",
       "      <td>4.0</td>\n",
       "      <td>2.0</td>\n",
       "      <td>1.0</td>\n",
       "      <td>2.0</td>\n",
       "      <td>3.0</td>\n",
       "      <td>3.0</td>\n",
       "      <td>4.0</td>\n",
       "      <td>6.0</td>\n",
       "      <td>5.0</td>\n",
       "    </tr>\n",
       "  </tbody>\n",
       "</table>\n",
       "<p>5 rows × 85 columns</p>\n",
       "</div>"
      ],
      "text/plain": [
       "   AGER_TYP  ALTERSKATEGORIE_GROB  ANREDE_KZ  CJT_GESAMTTYP  \\\n",
       "0        -1                     2          1            2.0   \n",
       "1        -1                     1          2            5.0   \n",
       "2        -1                     3          2            3.0   \n",
       "3         2                     4          2            2.0   \n",
       "4        -1                     3          1            5.0   \n",
       "\n",
       "   FINANZ_MINIMALIST  FINANZ_SPARER  FINANZ_VORSORGER  FINANZ_ANLEGER  \\\n",
       "0                  3              4                 3               5   \n",
       "1                  1              5                 2               5   \n",
       "2                  1              4                 1               2   \n",
       "3                  4              2                 5               2   \n",
       "4                  4              3                 4               1   \n",
       "\n",
       "   FINANZ_UNAUFFAELLIGER  FINANZ_HAUSBAUER    ...     PLZ8_ANTG1  PLZ8_ANTG2  \\\n",
       "0                      5                 3    ...            NaN         NaN   \n",
       "1                      4                 5    ...            2.0         3.0   \n",
       "2                      3                 5    ...            3.0         3.0   \n",
       "3                      1                 2    ...            2.0         2.0   \n",
       "4                      3                 2    ...            2.0         4.0   \n",
       "\n",
       "   PLZ8_ANTG3  PLZ8_ANTG4  PLZ8_BAUMAX  PLZ8_HHZ  PLZ8_GBZ  ARBEIT  \\\n",
       "0         NaN         NaN          NaN       NaN       NaN     NaN   \n",
       "1         2.0         1.0          1.0       5.0       4.0     3.0   \n",
       "2         1.0         0.0          1.0       4.0       4.0     3.0   \n",
       "3         2.0         0.0          1.0       3.0       4.0     2.0   \n",
       "4         2.0         1.0          2.0       3.0       3.0     4.0   \n",
       "\n",
       "   ORTSGR_KLS9  RELAT_AB  \n",
       "0          NaN       NaN  \n",
       "1          5.0       4.0  \n",
       "2          5.0       2.0  \n",
       "3          3.0       3.0  \n",
       "4          6.0       5.0  \n",
       "\n",
       "[5 rows x 85 columns]"
      ]
     },
     "execution_count": 88,
     "metadata": {},
     "output_type": "execute_result"
    }
   ],
   "source": [
    "azdias.head()"
   ]
  },
  {
   "cell_type": "markdown",
   "metadata": {},
   "source": [
    "***Observations:*** it seems this _`feature info`_ dataset must be used to get more informations on type of each feature (85 overall) and their value in the dataset in case it was missing. For example, `AGER_TYP` with a -1 or 0 value means that this value is actually a missing one => so deal with it.  \n",
    "We have also informations about the type, `AGER_TYP` being categorical means each value corresponds to a specific category (we will have to decide later if one-hot encoding will be needed)."
   ]
  },
  {
   "cell_type": "code",
   "execution_count": 89,
   "metadata": {},
   "outputs": [
    {
     "data": {
      "text/html": [
       "<div>\n",
       "<style scoped>\n",
       "    .dataframe tbody tr th:only-of-type {\n",
       "        vertical-align: middle;\n",
       "    }\n",
       "\n",
       "    .dataframe tbody tr th {\n",
       "        vertical-align: top;\n",
       "    }\n",
       "\n",
       "    .dataframe thead th {\n",
       "        text-align: right;\n",
       "    }\n",
       "</style>\n",
       "<table border=\"1\" class=\"dataframe\">\n",
       "  <thead>\n",
       "    <tr style=\"text-align: right;\">\n",
       "      <th></th>\n",
       "      <th>AGER_TYP</th>\n",
       "      <th>ALTERSKATEGORIE_GROB</th>\n",
       "      <th>ANREDE_KZ</th>\n",
       "      <th>CJT_GESAMTTYP</th>\n",
       "      <th>FINANZ_MINIMALIST</th>\n",
       "      <th>FINANZ_SPARER</th>\n",
       "      <th>FINANZ_VORSORGER</th>\n",
       "      <th>FINANZ_ANLEGER</th>\n",
       "      <th>FINANZ_UNAUFFAELLIGER</th>\n",
       "      <th>FINANZ_HAUSBAUER</th>\n",
       "      <th>...</th>\n",
       "      <th>PLZ8_ANTG1</th>\n",
       "      <th>PLZ8_ANTG2</th>\n",
       "      <th>PLZ8_ANTG3</th>\n",
       "      <th>PLZ8_ANTG4</th>\n",
       "      <th>PLZ8_BAUMAX</th>\n",
       "      <th>PLZ8_HHZ</th>\n",
       "      <th>PLZ8_GBZ</th>\n",
       "      <th>ARBEIT</th>\n",
       "      <th>ORTSGR_KLS9</th>\n",
       "      <th>RELAT_AB</th>\n",
       "    </tr>\n",
       "  </thead>\n",
       "  <tbody>\n",
       "    <tr>\n",
       "      <th>count</th>\n",
       "      <td>891221.000000</td>\n",
       "      <td>891221.000000</td>\n",
       "      <td>891221.000000</td>\n",
       "      <td>886367.000000</td>\n",
       "      <td>891221.000000</td>\n",
       "      <td>891221.000000</td>\n",
       "      <td>891221.000000</td>\n",
       "      <td>891221.000000</td>\n",
       "      <td>891221.000000</td>\n",
       "      <td>891221.000000</td>\n",
       "      <td>...</td>\n",
       "      <td>774706.000000</td>\n",
       "      <td>774706.000000</td>\n",
       "      <td>774706.000000</td>\n",
       "      <td>774706.000000</td>\n",
       "      <td>774706.000000</td>\n",
       "      <td>774706.000000</td>\n",
       "      <td>774706.000000</td>\n",
       "      <td>794005.000000</td>\n",
       "      <td>794005.000000</td>\n",
       "      <td>794005.00000</td>\n",
       "    </tr>\n",
       "    <tr>\n",
       "      <th>unique</th>\n",
       "      <td>NaN</td>\n",
       "      <td>NaN</td>\n",
       "      <td>NaN</td>\n",
       "      <td>NaN</td>\n",
       "      <td>NaN</td>\n",
       "      <td>NaN</td>\n",
       "      <td>NaN</td>\n",
       "      <td>NaN</td>\n",
       "      <td>NaN</td>\n",
       "      <td>NaN</td>\n",
       "      <td>...</td>\n",
       "      <td>NaN</td>\n",
       "      <td>NaN</td>\n",
       "      <td>NaN</td>\n",
       "      <td>NaN</td>\n",
       "      <td>NaN</td>\n",
       "      <td>NaN</td>\n",
       "      <td>NaN</td>\n",
       "      <td>NaN</td>\n",
       "      <td>NaN</td>\n",
       "      <td>NaN</td>\n",
       "    </tr>\n",
       "    <tr>\n",
       "      <th>top</th>\n",
       "      <td>NaN</td>\n",
       "      <td>NaN</td>\n",
       "      <td>NaN</td>\n",
       "      <td>NaN</td>\n",
       "      <td>NaN</td>\n",
       "      <td>NaN</td>\n",
       "      <td>NaN</td>\n",
       "      <td>NaN</td>\n",
       "      <td>NaN</td>\n",
       "      <td>NaN</td>\n",
       "      <td>...</td>\n",
       "      <td>NaN</td>\n",
       "      <td>NaN</td>\n",
       "      <td>NaN</td>\n",
       "      <td>NaN</td>\n",
       "      <td>NaN</td>\n",
       "      <td>NaN</td>\n",
       "      <td>NaN</td>\n",
       "      <td>NaN</td>\n",
       "      <td>NaN</td>\n",
       "      <td>NaN</td>\n",
       "    </tr>\n",
       "    <tr>\n",
       "      <th>freq</th>\n",
       "      <td>NaN</td>\n",
       "      <td>NaN</td>\n",
       "      <td>NaN</td>\n",
       "      <td>NaN</td>\n",
       "      <td>NaN</td>\n",
       "      <td>NaN</td>\n",
       "      <td>NaN</td>\n",
       "      <td>NaN</td>\n",
       "      <td>NaN</td>\n",
       "      <td>NaN</td>\n",
       "      <td>...</td>\n",
       "      <td>NaN</td>\n",
       "      <td>NaN</td>\n",
       "      <td>NaN</td>\n",
       "      <td>NaN</td>\n",
       "      <td>NaN</td>\n",
       "      <td>NaN</td>\n",
       "      <td>NaN</td>\n",
       "      <td>NaN</td>\n",
       "      <td>NaN</td>\n",
       "      <td>NaN</td>\n",
       "    </tr>\n",
       "    <tr>\n",
       "      <th>mean</th>\n",
       "      <td>-0.358435</td>\n",
       "      <td>2.777398</td>\n",
       "      <td>1.522098</td>\n",
       "      <td>3.632838</td>\n",
       "      <td>3.074528</td>\n",
       "      <td>2.821039</td>\n",
       "      <td>3.401106</td>\n",
       "      <td>3.033328</td>\n",
       "      <td>2.874167</td>\n",
       "      <td>3.075121</td>\n",
       "      <td>...</td>\n",
       "      <td>2.253330</td>\n",
       "      <td>2.801858</td>\n",
       "      <td>1.595426</td>\n",
       "      <td>0.699166</td>\n",
       "      <td>1.943913</td>\n",
       "      <td>3.612821</td>\n",
       "      <td>3.381087</td>\n",
       "      <td>3.167854</td>\n",
       "      <td>5.293002</td>\n",
       "      <td>3.07222</td>\n",
       "    </tr>\n",
       "    <tr>\n",
       "      <th>std</th>\n",
       "      <td>1.198724</td>\n",
       "      <td>1.068775</td>\n",
       "      <td>0.499512</td>\n",
       "      <td>1.595021</td>\n",
       "      <td>1.321055</td>\n",
       "      <td>1.464749</td>\n",
       "      <td>1.322134</td>\n",
       "      <td>1.529603</td>\n",
       "      <td>1.486731</td>\n",
       "      <td>1.353248</td>\n",
       "      <td>...</td>\n",
       "      <td>0.972008</td>\n",
       "      <td>0.920309</td>\n",
       "      <td>0.986736</td>\n",
       "      <td>0.727137</td>\n",
       "      <td>1.459654</td>\n",
       "      <td>0.973967</td>\n",
       "      <td>1.111598</td>\n",
       "      <td>1.002376</td>\n",
       "      <td>2.303739</td>\n",
       "      <td>1.36298</td>\n",
       "    </tr>\n",
       "    <tr>\n",
       "      <th>min</th>\n",
       "      <td>-1.000000</td>\n",
       "      <td>1.000000</td>\n",
       "      <td>1.000000</td>\n",
       "      <td>1.000000</td>\n",
       "      <td>1.000000</td>\n",
       "      <td>1.000000</td>\n",
       "      <td>1.000000</td>\n",
       "      <td>1.000000</td>\n",
       "      <td>1.000000</td>\n",
       "      <td>1.000000</td>\n",
       "      <td>...</td>\n",
       "      <td>0.000000</td>\n",
       "      <td>0.000000</td>\n",
       "      <td>0.000000</td>\n",
       "      <td>0.000000</td>\n",
       "      <td>1.000000</td>\n",
       "      <td>1.000000</td>\n",
       "      <td>1.000000</td>\n",
       "      <td>1.000000</td>\n",
       "      <td>0.000000</td>\n",
       "      <td>1.00000</td>\n",
       "    </tr>\n",
       "    <tr>\n",
       "      <th>25%</th>\n",
       "      <td>-1.000000</td>\n",
       "      <td>2.000000</td>\n",
       "      <td>1.000000</td>\n",
       "      <td>2.000000</td>\n",
       "      <td>2.000000</td>\n",
       "      <td>1.000000</td>\n",
       "      <td>3.000000</td>\n",
       "      <td>2.000000</td>\n",
       "      <td>2.000000</td>\n",
       "      <td>2.000000</td>\n",
       "      <td>...</td>\n",
       "      <td>1.000000</td>\n",
       "      <td>2.000000</td>\n",
       "      <td>1.000000</td>\n",
       "      <td>0.000000</td>\n",
       "      <td>1.000000</td>\n",
       "      <td>3.000000</td>\n",
       "      <td>3.000000</td>\n",
       "      <td>3.000000</td>\n",
       "      <td>4.000000</td>\n",
       "      <td>2.00000</td>\n",
       "    </tr>\n",
       "    <tr>\n",
       "      <th>50%</th>\n",
       "      <td>-1.000000</td>\n",
       "      <td>3.000000</td>\n",
       "      <td>2.000000</td>\n",
       "      <td>4.000000</td>\n",
       "      <td>3.000000</td>\n",
       "      <td>3.000000</td>\n",
       "      <td>3.000000</td>\n",
       "      <td>3.000000</td>\n",
       "      <td>3.000000</td>\n",
       "      <td>3.000000</td>\n",
       "      <td>...</td>\n",
       "      <td>2.000000</td>\n",
       "      <td>3.000000</td>\n",
       "      <td>2.000000</td>\n",
       "      <td>1.000000</td>\n",
       "      <td>1.000000</td>\n",
       "      <td>4.000000</td>\n",
       "      <td>3.000000</td>\n",
       "      <td>3.000000</td>\n",
       "      <td>5.000000</td>\n",
       "      <td>3.00000</td>\n",
       "    </tr>\n",
       "    <tr>\n",
       "      <th>75%</th>\n",
       "      <td>-1.000000</td>\n",
       "      <td>4.000000</td>\n",
       "      <td>2.000000</td>\n",
       "      <td>5.000000</td>\n",
       "      <td>4.000000</td>\n",
       "      <td>4.000000</td>\n",
       "      <td>5.000000</td>\n",
       "      <td>5.000000</td>\n",
       "      <td>4.000000</td>\n",
       "      <td>4.000000</td>\n",
       "      <td>...</td>\n",
       "      <td>3.000000</td>\n",
       "      <td>3.000000</td>\n",
       "      <td>2.000000</td>\n",
       "      <td>1.000000</td>\n",
       "      <td>3.000000</td>\n",
       "      <td>4.000000</td>\n",
       "      <td>4.000000</td>\n",
       "      <td>4.000000</td>\n",
       "      <td>7.000000</td>\n",
       "      <td>4.00000</td>\n",
       "    </tr>\n",
       "    <tr>\n",
       "      <th>max</th>\n",
       "      <td>3.000000</td>\n",
       "      <td>9.000000</td>\n",
       "      <td>2.000000</td>\n",
       "      <td>6.000000</td>\n",
       "      <td>5.000000</td>\n",
       "      <td>5.000000</td>\n",
       "      <td>5.000000</td>\n",
       "      <td>5.000000</td>\n",
       "      <td>5.000000</td>\n",
       "      <td>5.000000</td>\n",
       "      <td>...</td>\n",
       "      <td>4.000000</td>\n",
       "      <td>4.000000</td>\n",
       "      <td>3.000000</td>\n",
       "      <td>2.000000</td>\n",
       "      <td>5.000000</td>\n",
       "      <td>5.000000</td>\n",
       "      <td>5.000000</td>\n",
       "      <td>9.000000</td>\n",
       "      <td>9.000000</td>\n",
       "      <td>9.00000</td>\n",
       "    </tr>\n",
       "  </tbody>\n",
       "</table>\n",
       "<p>11 rows × 85 columns</p>\n",
       "</div>"
      ],
      "text/plain": [
       "             AGER_TYP  ALTERSKATEGORIE_GROB      ANREDE_KZ  CJT_GESAMTTYP  \\\n",
       "count   891221.000000         891221.000000  891221.000000  886367.000000   \n",
       "unique            NaN                   NaN            NaN            NaN   \n",
       "top               NaN                   NaN            NaN            NaN   \n",
       "freq              NaN                   NaN            NaN            NaN   \n",
       "mean        -0.358435              2.777398       1.522098       3.632838   \n",
       "std          1.198724              1.068775       0.499512       1.595021   \n",
       "min         -1.000000              1.000000       1.000000       1.000000   \n",
       "25%         -1.000000              2.000000       1.000000       2.000000   \n",
       "50%         -1.000000              3.000000       2.000000       4.000000   \n",
       "75%         -1.000000              4.000000       2.000000       5.000000   \n",
       "max          3.000000              9.000000       2.000000       6.000000   \n",
       "\n",
       "        FINANZ_MINIMALIST  FINANZ_SPARER  FINANZ_VORSORGER  FINANZ_ANLEGER  \\\n",
       "count       891221.000000  891221.000000     891221.000000   891221.000000   \n",
       "unique                NaN            NaN               NaN             NaN   \n",
       "top                   NaN            NaN               NaN             NaN   \n",
       "freq                  NaN            NaN               NaN             NaN   \n",
       "mean             3.074528       2.821039          3.401106        3.033328   \n",
       "std              1.321055       1.464749          1.322134        1.529603   \n",
       "min              1.000000       1.000000          1.000000        1.000000   \n",
       "25%              2.000000       1.000000          3.000000        2.000000   \n",
       "50%              3.000000       3.000000          3.000000        3.000000   \n",
       "75%              4.000000       4.000000          5.000000        5.000000   \n",
       "max              5.000000       5.000000          5.000000        5.000000   \n",
       "\n",
       "        FINANZ_UNAUFFAELLIGER  FINANZ_HAUSBAUER      ...          PLZ8_ANTG1  \\\n",
       "count           891221.000000     891221.000000      ...       774706.000000   \n",
       "unique                    NaN               NaN      ...                 NaN   \n",
       "top                       NaN               NaN      ...                 NaN   \n",
       "freq                      NaN               NaN      ...                 NaN   \n",
       "mean                 2.874167          3.075121      ...            2.253330   \n",
       "std                  1.486731          1.353248      ...            0.972008   \n",
       "min                  1.000000          1.000000      ...            0.000000   \n",
       "25%                  2.000000          2.000000      ...            1.000000   \n",
       "50%                  3.000000          3.000000      ...            2.000000   \n",
       "75%                  4.000000          4.000000      ...            3.000000   \n",
       "max                  5.000000          5.000000      ...            4.000000   \n",
       "\n",
       "           PLZ8_ANTG2     PLZ8_ANTG3     PLZ8_ANTG4    PLZ8_BAUMAX  \\\n",
       "count   774706.000000  774706.000000  774706.000000  774706.000000   \n",
       "unique            NaN            NaN            NaN            NaN   \n",
       "top               NaN            NaN            NaN            NaN   \n",
       "freq              NaN            NaN            NaN            NaN   \n",
       "mean         2.801858       1.595426       0.699166       1.943913   \n",
       "std          0.920309       0.986736       0.727137       1.459654   \n",
       "min          0.000000       0.000000       0.000000       1.000000   \n",
       "25%          2.000000       1.000000       0.000000       1.000000   \n",
       "50%          3.000000       2.000000       1.000000       1.000000   \n",
       "75%          3.000000       2.000000       1.000000       3.000000   \n",
       "max          4.000000       3.000000       2.000000       5.000000   \n",
       "\n",
       "             PLZ8_HHZ       PLZ8_GBZ         ARBEIT    ORTSGR_KLS9  \\\n",
       "count   774706.000000  774706.000000  794005.000000  794005.000000   \n",
       "unique            NaN            NaN            NaN            NaN   \n",
       "top               NaN            NaN            NaN            NaN   \n",
       "freq              NaN            NaN            NaN            NaN   \n",
       "mean         3.612821       3.381087       3.167854       5.293002   \n",
       "std          0.973967       1.111598       1.002376       2.303739   \n",
       "min          1.000000       1.000000       1.000000       0.000000   \n",
       "25%          3.000000       3.000000       3.000000       4.000000   \n",
       "50%          4.000000       3.000000       3.000000       5.000000   \n",
       "75%          4.000000       4.000000       4.000000       7.000000   \n",
       "max          5.000000       5.000000       9.000000       9.000000   \n",
       "\n",
       "            RELAT_AB  \n",
       "count   794005.00000  \n",
       "unique           NaN  \n",
       "top              NaN  \n",
       "freq             NaN  \n",
       "mean         3.07222  \n",
       "std          1.36298  \n",
       "min          1.00000  \n",
       "25%          2.00000  \n",
       "50%          3.00000  \n",
       "75%          4.00000  \n",
       "max          9.00000  \n",
       "\n",
       "[11 rows x 85 columns]"
      ]
     },
     "execution_count": 89,
     "metadata": {},
     "output_type": "execute_result"
    }
   ],
   "source": [
    "# Let's display few statistics elements\n",
    "azdias.describe(include='all')"
   ]
  },
  {
   "cell_type": "markdown",
   "metadata": {},
   "source": [
    "---\n",
    "## Step 1: Preprocessing\n",
    "\n",
    "### Step 1.1: Assess Missing Data\n",
    "\n",
    "The feature summary file contains a summary of properties for each demographics data column. You will use this file to help you make cleaning decisions during this stage of the project. First of all, you should assess the demographics data in terms of missing data. Pay attention to the following points as you perform your analysis, and take notes on what you observe. Make sure that you fill in the **Discussion** cell with your findings and decisions at the end of each step that has one!\n",
    "\n",
    "#### Step 1.1.1: Convert Missing Value Codes to NaNs\n",
    "The fourth column of the feature attributes summary (loaded in above as `feat_info`) documents the codes from the data dictionary that indicate missing or unknown data. While the file encodes this as a list (e.g. `[-1,0]`), this will get read in as a string object. You'll need to do a little bit of parsing to make use of it to identify and clean the data. Convert data that matches a 'missing' or 'unknown' value code into a numpy NaN value. You might want to see how much data takes on a 'missing' or 'unknown' code, and how much data is naturally missing, as a point of interest."
   ]
  },
  {
   "cell_type": "code",
   "execution_count": 90,
   "metadata": {},
   "outputs": [
    {
     "data": {
      "text/plain": [
       "KK_KUNDENTYP             584612\n",
       "KBA05_ANTG1              133324\n",
       "KBA05_ANTG2              133324\n",
       "KBA05_ANTG3              133324\n",
       "KBA05_ANTG4              133324\n",
       "KBA05_BAUMAX             133324\n",
       "KBA05_GBZ                133324\n",
       "MOBI_REGIO               133324\n",
       "REGIOTYP                 121196\n",
       "KKK                      121196\n",
       "PLZ8_ANTG3               116515\n",
       "PLZ8_ANTG1               116515\n",
       "PLZ8_GBZ                 116515\n",
       "PLZ8_ANTG2               116515\n",
       "PLZ8_HHZ                 116515\n",
       "PLZ8_BAUMAX              116515\n",
       "PLZ8_ANTG4               116515\n",
       "W_KEIT_KIND_HH           107602\n",
       "KBA13_ANZAHL_PKW         105800\n",
       "CAMEO_INTL_2015           98979\n",
       "CAMEO_DEU_2015            98979\n",
       "CAMEO_DEUG_2015           98979\n",
       "ORTSGR_KLS9               97216\n",
       "ARBEIT                    97216\n",
       "RELAT_AB                  97216\n",
       "ANZ_HH_TITEL              97008\n",
       "BALLRAUM                  93740\n",
       "EWDICHTE                  93740\n",
       "INNENSTADT                93740\n",
       "GEBAEUDETYP_RASTER        93155\n",
       "                          ...  \n",
       "FINANZ_HAUSBAUER              0\n",
       "FINANZTYP                     0\n",
       "GEBURTSJAHR                   0\n",
       "FINANZ_VORSORGER              0\n",
       "GREEN_AVANTGARDE              0\n",
       "HEALTH_TYP                    0\n",
       "FINANZ_SPARER                 0\n",
       "ANREDE_KZ                     0\n",
       "ALTERSKATEGORIE_GROB          0\n",
       "FINANZ_MINIMALIST             0\n",
       "ZABEOTYP                      0\n",
       "NATIONALITAET_KZ              0\n",
       "SEMIO_RAT                     0\n",
       "VERS_TYP                      0\n",
       "SHOPPER_TYP                   0\n",
       "SEMIO_TRADV                   0\n",
       "SEMIO_PFLICHT                 0\n",
       "SEMIO_KAEM                    0\n",
       "SEMIO_DOM                     0\n",
       "SEMIO_KRIT                    0\n",
       "SEMIO_KULT                    0\n",
       "PRAEGENDE_JUGENDJAHRE         0\n",
       "SEMIO_ERL                     0\n",
       "SEMIO_LUST                    0\n",
       "SEMIO_VERT                    0\n",
       "SEMIO_MAT                     0\n",
       "SEMIO_REL                     0\n",
       "SEMIO_FAM                     0\n",
       "SEMIO_SOZ                     0\n",
       "AGER_TYP                      0\n",
       "Length: 85, dtype: int64"
      ]
     },
     "execution_count": 90,
     "metadata": {},
     "output_type": "execute_result"
    }
   ],
   "source": [
    "# Before performing transformation, are there columns with missing values ? How many ? Which ones ?\n",
    "missing_lst = azdias.isna().sum().sort_values(ascending=False)\n",
    "missing_lst"
   ]
  },
  {
   "cell_type": "markdown",
   "metadata": {},
   "source": [
    "Ouch, there are a lot ! Let's try to see how many features actually contains missing values:"
   ]
  },
  {
   "cell_type": "code",
   "execution_count": 91,
   "metadata": {},
   "outputs": [
    {
     "name": "stdout",
     "output_type": "stream",
     "text": [
      "There are 53 columns that contains missing values in the row file Udacity_AZDIAS_Subset.csv\n"
     ]
    }
   ],
   "source": [
    "# How many columns contains missing values ?\n",
    "missing_nb = len([x for x in missing_lst if x > 0])\n",
    "print(\"There are {} columns that contains missing values in the row file {}\".format(missing_nb, RAW_AZDIAS_FILENAME))"
   ]
  },
  {
   "cell_type": "markdown",
   "metadata": {},
   "source": [
    "For some columns, there is a clear pattern:\n",
    "* columns where name starts with `KBA05` contains 133324 missing values\n",
    "* columns where name starts with `PLZ8` contains 116515 missing values\n",
    "* columns where name starts with `CAMEO` contains 98979 missing values  \n",
    "etc...\n",
    "\n",
    "***Note:*** there are 584612 missing values for the column named `'KK_KUNDENTYP'`, it represents 65.6% of the number of samples, almost 2/3. It makes sense as per the dictionnary definition it is related to _\"Consumer pattern over past 12 months\"_ and not all people are customers I guess."
   ]
  },
  {
   "cell_type": "markdown",
   "metadata": {},
   "source": [
    "#### Identify missing or unknown data values and convert them to NaNs.\n",
    "First step: display values in the `'missing_or_unknown'` column to see their type/distribution and see if it will be possible to rebuild the original python list object by using [`literal_eval`](https://docs.python.org/3/library/ast.html#ast.literal_eval) method from `ast` package"
   ]
  },
  {
   "cell_type": "code",
   "execution_count": 92,
   "metadata": {},
   "outputs": [
    {
     "data": {
      "text/plain": [
       "0       [-1,0]\n",
       "1     [-1,0,9]\n",
       "2       [-1,0]\n",
       "3          [0]\n",
       "4         [-1]\n",
       "5         [-1]\n",
       "6         [-1]\n",
       "7         [-1]\n",
       "8         [-1]\n",
       "9         [-1]\n",
       "10        [-1]\n",
       "11         [0]\n",
       "12          []\n",
       "13          []\n",
       "14      [-1,0]\n",
       "15         [0]\n",
       "16         [0]\n",
       "17         [0]\n",
       "18         [0]\n",
       "19         [0]\n",
       "20         [0]\n",
       "21      [-1,0]\n",
       "22      [-1,0]\n",
       "23         [0]\n",
       "24      [-1,9]\n",
       "25      [-1,9]\n",
       "26      [-1,9]\n",
       "27      [-1,9]\n",
       "28      [-1,9]\n",
       "29      [-1,9]\n",
       "        ...   \n",
       "55        [-1]\n",
       "56        [-1]\n",
       "57      [-1,X]\n",
       "58        [XX]\n",
       "59     [-1,XX]\n",
       "60        [-1]\n",
       "61        [-1]\n",
       "62        [-1]\n",
       "63        [-1]\n",
       "64      [-1,0]\n",
       "65      [-1,0]\n",
       "66        [-1]\n",
       "67        [-1]\n",
       "68        [-1]\n",
       "69          []\n",
       "70      [-1,0]\n",
       "71          []\n",
       "72          []\n",
       "73      [-1,0]\n",
       "74          []\n",
       "75        [-1]\n",
       "76        [-1]\n",
       "77        [-1]\n",
       "78        [-1]\n",
       "79      [-1,0]\n",
       "80        [-1]\n",
       "81        [-1]\n",
       "82      [-1,9]\n",
       "83      [-1,0]\n",
       "84      [-1,9]\n",
       "Name: missing_or_unknown, Length: 85, dtype: object"
      ]
     },
     "execution_count": 92,
     "metadata": {},
     "output_type": "execute_result"
    }
   ],
   "source": [
    "feat_info['missing_or_unknown']"
   ]
  },
  {
   "cell_type": "code",
   "execution_count": 93,
   "metadata": {},
   "outputs": [
    {
     "data": {
      "text/plain": [
       "'[-1,X]'"
      ]
     },
     "execution_count": 93,
     "metadata": {},
     "output_type": "execute_result"
    }
   ],
   "source": [
    "# Hummm, this specific one will fail as the X character is not surrounded by quotes (so cannot be considered as a string)\n",
    "feat_info['missing_or_unknown'].iloc[57]"
   ]
  },
  {
   "cell_type": "markdown",
   "metadata": {},
   "source": [
    "##### ==> Let's replace non string X with 'X'"
   ]
  },
  {
   "cell_type": "code",
   "execution_count": 94,
   "metadata": {},
   "outputs": [
    {
     "data": {
      "text/plain": [
       "57     [-1,'X']\n",
       "58       ['XX']\n",
       "59    [-1,'XX']\n",
       "Name: missing_or_unknown, dtype: object"
      ]
     },
     "execution_count": 94,
     "metadata": {},
     "output_type": "execute_result"
    }
   ],
   "source": [
    "# We need to use regex=True to use regex and replace inplace.\n",
    "# The first expression is a positive-lookbehind + positive look-ahead to be sure to replace one and only one occurrence of X per 'X'\n",
    "# Otherwise the double XX would also be replaced by 'X''X' and that's definitely not what we expect\n",
    "feat_info['missing_or_unknown'].replace('(?<=[^X])X(?=[^X])', \"'X'\", inplace=True, regex=True)\n",
    "feat_info['missing_or_unknown'].replace('X{2}', \"'XX'\", inplace=True, regex=True)\n",
    "feat_info.loc[feat_info.missing_or_unknown.str.find('X') > -1, 'missing_or_unknown']"
   ]
  },
  {
   "cell_type": "code",
   "execution_count": 95,
   "metadata": {},
   "outputs": [],
   "source": [
    "# Now we can rebuild the 'missing_or_unknown' column to the original list object by using literal_eval\n",
    "feat_info['missing_or_unknown'] = feat_info['missing_or_unknown'].apply(lambda x: literal_eval(x))"
   ]
  },
  {
   "cell_type": "code",
   "execution_count": 96,
   "metadata": {},
   "outputs": [
    {
     "data": {
      "text/plain": [
       "[-1, 'X']"
      ]
     },
     "execution_count": 96,
     "metadata": {},
     "output_type": "execute_result"
    }
   ],
   "source": [
    "feat_info['missing_or_unknown'].iloc[57]"
   ]
  },
  {
   "cell_type": "markdown",
   "metadata": {},
   "source": [
    "##### Seems OK now, so lets' replace missing values with numpy 'Nan' into our dataset"
   ]
  },
  {
   "cell_type": "code",
   "execution_count": 97,
   "metadata": {
    "scrolled": false
   },
   "outputs": [
    {
     "data": {
      "text/html": [
       "<div>\n",
       "<style scoped>\n",
       "    .dataframe tbody tr th:only-of-type {\n",
       "        vertical-align: middle;\n",
       "    }\n",
       "\n",
       "    .dataframe tbody tr th {\n",
       "        vertical-align: top;\n",
       "    }\n",
       "\n",
       "    .dataframe thead th {\n",
       "        text-align: right;\n",
       "    }\n",
       "</style>\n",
       "<table border=\"1\" class=\"dataframe\">\n",
       "  <thead>\n",
       "    <tr style=\"text-align: right;\">\n",
       "      <th></th>\n",
       "      <th>AGER_TYP</th>\n",
       "      <th>ALTERSKATEGORIE_GROB</th>\n",
       "      <th>ANREDE_KZ</th>\n",
       "      <th>CJT_GESAMTTYP</th>\n",
       "      <th>FINANZ_MINIMALIST</th>\n",
       "      <th>FINANZ_SPARER</th>\n",
       "      <th>FINANZ_VORSORGER</th>\n",
       "      <th>FINANZ_ANLEGER</th>\n",
       "      <th>FINANZ_UNAUFFAELLIGER</th>\n",
       "      <th>FINANZ_HAUSBAUER</th>\n",
       "      <th>...</th>\n",
       "      <th>PLZ8_ANTG1</th>\n",
       "      <th>PLZ8_ANTG2</th>\n",
       "      <th>PLZ8_ANTG3</th>\n",
       "      <th>PLZ8_ANTG4</th>\n",
       "      <th>PLZ8_BAUMAX</th>\n",
       "      <th>PLZ8_HHZ</th>\n",
       "      <th>PLZ8_GBZ</th>\n",
       "      <th>ARBEIT</th>\n",
       "      <th>ORTSGR_KLS9</th>\n",
       "      <th>RELAT_AB</th>\n",
       "    </tr>\n",
       "  </thead>\n",
       "  <tbody>\n",
       "    <tr>\n",
       "      <th>0</th>\n",
       "      <td>-1</td>\n",
       "      <td>2</td>\n",
       "      <td>1</td>\n",
       "      <td>2.0</td>\n",
       "      <td>3</td>\n",
       "      <td>4</td>\n",
       "      <td>3</td>\n",
       "      <td>5</td>\n",
       "      <td>5</td>\n",
       "      <td>3</td>\n",
       "      <td>...</td>\n",
       "      <td>NaN</td>\n",
       "      <td>NaN</td>\n",
       "      <td>NaN</td>\n",
       "      <td>NaN</td>\n",
       "      <td>NaN</td>\n",
       "      <td>NaN</td>\n",
       "      <td>NaN</td>\n",
       "      <td>NaN</td>\n",
       "      <td>NaN</td>\n",
       "      <td>NaN</td>\n",
       "    </tr>\n",
       "    <tr>\n",
       "      <th>1</th>\n",
       "      <td>-1</td>\n",
       "      <td>1</td>\n",
       "      <td>2</td>\n",
       "      <td>5.0</td>\n",
       "      <td>1</td>\n",
       "      <td>5</td>\n",
       "      <td>2</td>\n",
       "      <td>5</td>\n",
       "      <td>4</td>\n",
       "      <td>5</td>\n",
       "      <td>...</td>\n",
       "      <td>2.0</td>\n",
       "      <td>3.0</td>\n",
       "      <td>2.0</td>\n",
       "      <td>1.0</td>\n",
       "      <td>1.0</td>\n",
       "      <td>5.0</td>\n",
       "      <td>4.0</td>\n",
       "      <td>3.0</td>\n",
       "      <td>5.0</td>\n",
       "      <td>4.0</td>\n",
       "    </tr>\n",
       "    <tr>\n",
       "      <th>2</th>\n",
       "      <td>-1</td>\n",
       "      <td>3</td>\n",
       "      <td>2</td>\n",
       "      <td>3.0</td>\n",
       "      <td>1</td>\n",
       "      <td>4</td>\n",
       "      <td>1</td>\n",
       "      <td>2</td>\n",
       "      <td>3</td>\n",
       "      <td>5</td>\n",
       "      <td>...</td>\n",
       "      <td>3.0</td>\n",
       "      <td>3.0</td>\n",
       "      <td>1.0</td>\n",
       "      <td>0.0</td>\n",
       "      <td>1.0</td>\n",
       "      <td>4.0</td>\n",
       "      <td>4.0</td>\n",
       "      <td>3.0</td>\n",
       "      <td>5.0</td>\n",
       "      <td>2.0</td>\n",
       "    </tr>\n",
       "    <tr>\n",
       "      <th>3</th>\n",
       "      <td>2</td>\n",
       "      <td>4</td>\n",
       "      <td>2</td>\n",
       "      <td>2.0</td>\n",
       "      <td>4</td>\n",
       "      <td>2</td>\n",
       "      <td>5</td>\n",
       "      <td>2</td>\n",
       "      <td>1</td>\n",
       "      <td>2</td>\n",
       "      <td>...</td>\n",
       "      <td>2.0</td>\n",
       "      <td>2.0</td>\n",
       "      <td>2.0</td>\n",
       "      <td>0.0</td>\n",
       "      <td>1.0</td>\n",
       "      <td>3.0</td>\n",
       "      <td>4.0</td>\n",
       "      <td>2.0</td>\n",
       "      <td>3.0</td>\n",
       "      <td>3.0</td>\n",
       "    </tr>\n",
       "    <tr>\n",
       "      <th>4</th>\n",
       "      <td>-1</td>\n",
       "      <td>3</td>\n",
       "      <td>1</td>\n",
       "      <td>5.0</td>\n",
       "      <td>4</td>\n",
       "      <td>3</td>\n",
       "      <td>4</td>\n",
       "      <td>1</td>\n",
       "      <td>3</td>\n",
       "      <td>2</td>\n",
       "      <td>...</td>\n",
       "      <td>2.0</td>\n",
       "      <td>4.0</td>\n",
       "      <td>2.0</td>\n",
       "      <td>1.0</td>\n",
       "      <td>2.0</td>\n",
       "      <td>3.0</td>\n",
       "      <td>3.0</td>\n",
       "      <td>4.0</td>\n",
       "      <td>6.0</td>\n",
       "      <td>5.0</td>\n",
       "    </tr>\n",
       "  </tbody>\n",
       "</table>\n",
       "<p>5 rows × 85 columns</p>\n",
       "</div>"
      ],
      "text/plain": [
       "   AGER_TYP  ALTERSKATEGORIE_GROB  ANREDE_KZ  CJT_GESAMTTYP  \\\n",
       "0        -1                     2          1            2.0   \n",
       "1        -1                     1          2            5.0   \n",
       "2        -1                     3          2            3.0   \n",
       "3         2                     4          2            2.0   \n",
       "4        -1                     3          1            5.0   \n",
       "\n",
       "   FINANZ_MINIMALIST  FINANZ_SPARER  FINANZ_VORSORGER  FINANZ_ANLEGER  \\\n",
       "0                  3              4                 3               5   \n",
       "1                  1              5                 2               5   \n",
       "2                  1              4                 1               2   \n",
       "3                  4              2                 5               2   \n",
       "4                  4              3                 4               1   \n",
       "\n",
       "   FINANZ_UNAUFFAELLIGER  FINANZ_HAUSBAUER    ...     PLZ8_ANTG1  PLZ8_ANTG2  \\\n",
       "0                      5                 3    ...            NaN         NaN   \n",
       "1                      4                 5    ...            2.0         3.0   \n",
       "2                      3                 5    ...            3.0         3.0   \n",
       "3                      1                 2    ...            2.0         2.0   \n",
       "4                      3                 2    ...            2.0         4.0   \n",
       "\n",
       "   PLZ8_ANTG3  PLZ8_ANTG4  PLZ8_BAUMAX  PLZ8_HHZ  PLZ8_GBZ  ARBEIT  \\\n",
       "0         NaN         NaN          NaN       NaN       NaN     NaN   \n",
       "1         2.0         1.0          1.0       5.0       4.0     3.0   \n",
       "2         1.0         0.0          1.0       4.0       4.0     3.0   \n",
       "3         2.0         0.0          1.0       3.0       4.0     2.0   \n",
       "4         2.0         1.0          2.0       3.0       3.0     4.0   \n",
       "\n",
       "   ORTSGR_KLS9  RELAT_AB  \n",
       "0          NaN       NaN  \n",
       "1          5.0       4.0  \n",
       "2          5.0       2.0  \n",
       "3          3.0       3.0  \n",
       "4          6.0       5.0  \n",
       "\n",
       "[5 rows x 85 columns]"
      ]
     },
     "execution_count": 97,
     "metadata": {},
     "output_type": "execute_result"
    }
   ],
   "source": [
    "azdias.head()"
   ]
  },
  {
   "cell_type": "markdown",
   "metadata": {},
   "source": [
    "***Note:*** _BEFORE APPLYING_ NaN transformation, let's do a specific check for columns with 'X' to replace with NaN. We'll then be able to check if it worked as expected."
   ]
  },
  {
   "cell_type": "code",
   "execution_count": 98,
   "metadata": {
    "scrolled": true
   },
   "outputs": [
    {
     "data": {
      "text/plain": [
       "2511    X\n",
       "4569    X\n",
       "9803    X\n",
       "Name: CAMEO_DEUG_2015, dtype: object"
      ]
     },
     "execution_count": 98,
     "metadata": {},
     "output_type": "execute_result"
    }
   ],
   "source": [
    "azdias[azdias['CAMEO_DEUG_2015'].str.find('X') > -1]['CAMEO_DEUG_2015'].head(3)"
   ]
  },
  {
   "cell_type": "markdown",
   "metadata": {},
   "source": [
    "OK, let's keep that in mind. Now we can iterate over all columns and, for each one, apply the \"NaN transformation\" for all values that should be converted."
   ]
  },
  {
   "cell_type": "code",
   "execution_count": 99,
   "metadata": {},
   "outputs": [],
   "source": [
    "# We will now work on a preprocessing copy of the original dataset so that we can still be able to compare\n",
    "azdias_pp = azdias.copy()"
   ]
  },
  {
   "cell_type": "code",
   "execution_count": 100,
   "metadata": {
    "scrolled": true
   },
   "outputs": [],
   "source": [
    "def replace_missing_with_NaN(df, df_feat_info):\n",
    "    \"\"\"\n",
    "    Replace missing values with numpy NaN in the given df. Values to transform are retrieved from the 'attribute' column\n",
    "    of the second dataset (df_feat_info)\n",
    "    :parameter df: (pandas Dataframe) the dataset to transform\n",
    "    :parameter df_feat_info: (pandas Dataframe) the dataset to use to retrieve each value to change into numpy NaN\n",
    "    :return: (pandas Dataframe) the dataset transformed\n",
    "    \"\"\"\n",
    "    for col in feat_info['attribute']:\n",
    "        nan_values = feat_info[feat_info['attribute'] == col]['missing_or_unknown'].tolist()[0]\n",
    "        df[col] = df[col].apply(lambda x: np.NaN if x in nan_values else x)\n",
    "    return df"
   ]
  },
  {
   "cell_type": "code",
   "execution_count": 101,
   "metadata": {
    "scrolled": true
   },
   "outputs": [
    {
     "name": "stdout",
     "output_type": "stream",
     "text": [
      "CPU times: user 32.9 s, sys: 1.7 s, total: 34.6 s\n",
      "Wall time: 34.7 s\n"
     ]
    }
   ],
   "source": [
    "%%time\n",
    "azdias_pp = replace_missing_with_NaN(azdias_pp, feat_info)"
   ]
  },
  {
   "cell_type": "markdown",
   "metadata": {},
   "source": [
    "##### ==> Sanity check before/after (with previously found values that should now be converted to NaN)"
   ]
  },
  {
   "cell_type": "code",
   "execution_count": 102,
   "metadata": {},
   "outputs": [
    {
     "data": {
      "text/plain": [
       "'X'"
      ]
     },
     "execution_count": 102,
     "metadata": {},
     "output_type": "execute_result"
    }
   ],
   "source": [
    "azdias.iloc[2511]['CAMEO_DEUG_2015']"
   ]
  },
  {
   "cell_type": "code",
   "execution_count": 103,
   "metadata": {},
   "outputs": [
    {
     "data": {
      "text/plain": [
       "nan"
      ]
     },
     "execution_count": 103,
     "metadata": {},
     "output_type": "execute_result"
    }
   ],
   "source": [
    "azdias_pp.iloc[2511]['CAMEO_DEUG_2015']"
   ]
  },
  {
   "cell_type": "markdown",
   "metadata": {},
   "source": [
    "So far so good, it seems it worked, let's display more globally and then we will compare our new dataset with previously found NaN values (before the preprocessing)."
   ]
  },
  {
   "cell_type": "code",
   "execution_count": 104,
   "metadata": {
    "scrolled": true
   },
   "outputs": [
    {
     "data": {
      "text/html": [
       "<div>\n",
       "<style scoped>\n",
       "    .dataframe tbody tr th:only-of-type {\n",
       "        vertical-align: middle;\n",
       "    }\n",
       "\n",
       "    .dataframe tbody tr th {\n",
       "        vertical-align: top;\n",
       "    }\n",
       "\n",
       "    .dataframe thead th {\n",
       "        text-align: right;\n",
       "    }\n",
       "</style>\n",
       "<table border=\"1\" class=\"dataframe\">\n",
       "  <thead>\n",
       "    <tr style=\"text-align: right;\">\n",
       "      <th></th>\n",
       "      <th>AGER_TYP</th>\n",
       "      <th>ALTERSKATEGORIE_GROB</th>\n",
       "      <th>ANREDE_KZ</th>\n",
       "      <th>CJT_GESAMTTYP</th>\n",
       "      <th>FINANZ_MINIMALIST</th>\n",
       "      <th>FINANZ_SPARER</th>\n",
       "      <th>FINANZ_VORSORGER</th>\n",
       "      <th>FINANZ_ANLEGER</th>\n",
       "      <th>FINANZ_UNAUFFAELLIGER</th>\n",
       "      <th>FINANZ_HAUSBAUER</th>\n",
       "      <th>...</th>\n",
       "      <th>PLZ8_ANTG1</th>\n",
       "      <th>PLZ8_ANTG2</th>\n",
       "      <th>PLZ8_ANTG3</th>\n",
       "      <th>PLZ8_ANTG4</th>\n",
       "      <th>PLZ8_BAUMAX</th>\n",
       "      <th>PLZ8_HHZ</th>\n",
       "      <th>PLZ8_GBZ</th>\n",
       "      <th>ARBEIT</th>\n",
       "      <th>ORTSGR_KLS9</th>\n",
       "      <th>RELAT_AB</th>\n",
       "    </tr>\n",
       "  </thead>\n",
       "  <tbody>\n",
       "    <tr>\n",
       "      <th>0</th>\n",
       "      <td>NaN</td>\n",
       "      <td>2.0</td>\n",
       "      <td>1</td>\n",
       "      <td>2.0</td>\n",
       "      <td>3</td>\n",
       "      <td>4</td>\n",
       "      <td>3</td>\n",
       "      <td>5</td>\n",
       "      <td>5</td>\n",
       "      <td>3</td>\n",
       "      <td>...</td>\n",
       "      <td>NaN</td>\n",
       "      <td>NaN</td>\n",
       "      <td>NaN</td>\n",
       "      <td>NaN</td>\n",
       "      <td>NaN</td>\n",
       "      <td>NaN</td>\n",
       "      <td>NaN</td>\n",
       "      <td>NaN</td>\n",
       "      <td>NaN</td>\n",
       "      <td>NaN</td>\n",
       "    </tr>\n",
       "    <tr>\n",
       "      <th>1</th>\n",
       "      <td>NaN</td>\n",
       "      <td>1.0</td>\n",
       "      <td>2</td>\n",
       "      <td>5.0</td>\n",
       "      <td>1</td>\n",
       "      <td>5</td>\n",
       "      <td>2</td>\n",
       "      <td>5</td>\n",
       "      <td>4</td>\n",
       "      <td>5</td>\n",
       "      <td>...</td>\n",
       "      <td>2.0</td>\n",
       "      <td>3.0</td>\n",
       "      <td>2.0</td>\n",
       "      <td>1.0</td>\n",
       "      <td>1.0</td>\n",
       "      <td>5.0</td>\n",
       "      <td>4.0</td>\n",
       "      <td>3.0</td>\n",
       "      <td>5.0</td>\n",
       "      <td>4.0</td>\n",
       "    </tr>\n",
       "    <tr>\n",
       "      <th>2</th>\n",
       "      <td>NaN</td>\n",
       "      <td>3.0</td>\n",
       "      <td>2</td>\n",
       "      <td>3.0</td>\n",
       "      <td>1</td>\n",
       "      <td>4</td>\n",
       "      <td>1</td>\n",
       "      <td>2</td>\n",
       "      <td>3</td>\n",
       "      <td>5</td>\n",
       "      <td>...</td>\n",
       "      <td>3.0</td>\n",
       "      <td>3.0</td>\n",
       "      <td>1.0</td>\n",
       "      <td>0.0</td>\n",
       "      <td>1.0</td>\n",
       "      <td>4.0</td>\n",
       "      <td>4.0</td>\n",
       "      <td>3.0</td>\n",
       "      <td>5.0</td>\n",
       "      <td>2.0</td>\n",
       "    </tr>\n",
       "    <tr>\n",
       "      <th>3</th>\n",
       "      <td>2.0</td>\n",
       "      <td>4.0</td>\n",
       "      <td>2</td>\n",
       "      <td>2.0</td>\n",
       "      <td>4</td>\n",
       "      <td>2</td>\n",
       "      <td>5</td>\n",
       "      <td>2</td>\n",
       "      <td>1</td>\n",
       "      <td>2</td>\n",
       "      <td>...</td>\n",
       "      <td>2.0</td>\n",
       "      <td>2.0</td>\n",
       "      <td>2.0</td>\n",
       "      <td>0.0</td>\n",
       "      <td>1.0</td>\n",
       "      <td>3.0</td>\n",
       "      <td>4.0</td>\n",
       "      <td>2.0</td>\n",
       "      <td>3.0</td>\n",
       "      <td>3.0</td>\n",
       "    </tr>\n",
       "    <tr>\n",
       "      <th>4</th>\n",
       "      <td>NaN</td>\n",
       "      <td>3.0</td>\n",
       "      <td>1</td>\n",
       "      <td>5.0</td>\n",
       "      <td>4</td>\n",
       "      <td>3</td>\n",
       "      <td>4</td>\n",
       "      <td>1</td>\n",
       "      <td>3</td>\n",
       "      <td>2</td>\n",
       "      <td>...</td>\n",
       "      <td>2.0</td>\n",
       "      <td>4.0</td>\n",
       "      <td>2.0</td>\n",
       "      <td>1.0</td>\n",
       "      <td>2.0</td>\n",
       "      <td>3.0</td>\n",
       "      <td>3.0</td>\n",
       "      <td>4.0</td>\n",
       "      <td>6.0</td>\n",
       "      <td>5.0</td>\n",
       "    </tr>\n",
       "  </tbody>\n",
       "</table>\n",
       "<p>5 rows × 85 columns</p>\n",
       "</div>"
      ],
      "text/plain": [
       "   AGER_TYP  ALTERSKATEGORIE_GROB  ANREDE_KZ  CJT_GESAMTTYP  \\\n",
       "0       NaN                   2.0          1            2.0   \n",
       "1       NaN                   1.0          2            5.0   \n",
       "2       NaN                   3.0          2            3.0   \n",
       "3       2.0                   4.0          2            2.0   \n",
       "4       NaN                   3.0          1            5.0   \n",
       "\n",
       "   FINANZ_MINIMALIST  FINANZ_SPARER  FINANZ_VORSORGER  FINANZ_ANLEGER  \\\n",
       "0                  3              4                 3               5   \n",
       "1                  1              5                 2               5   \n",
       "2                  1              4                 1               2   \n",
       "3                  4              2                 5               2   \n",
       "4                  4              3                 4               1   \n",
       "\n",
       "   FINANZ_UNAUFFAELLIGER  FINANZ_HAUSBAUER    ...     PLZ8_ANTG1  PLZ8_ANTG2  \\\n",
       "0                      5                 3    ...            NaN         NaN   \n",
       "1                      4                 5    ...            2.0         3.0   \n",
       "2                      3                 5    ...            3.0         3.0   \n",
       "3                      1                 2    ...            2.0         2.0   \n",
       "4                      3                 2    ...            2.0         4.0   \n",
       "\n",
       "   PLZ8_ANTG3  PLZ8_ANTG4  PLZ8_BAUMAX  PLZ8_HHZ  PLZ8_GBZ  ARBEIT  \\\n",
       "0         NaN         NaN          NaN       NaN       NaN     NaN   \n",
       "1         2.0         1.0          1.0       5.0       4.0     3.0   \n",
       "2         1.0         0.0          1.0       4.0       4.0     3.0   \n",
       "3         2.0         0.0          1.0       3.0       4.0     2.0   \n",
       "4         2.0         1.0          2.0       3.0       3.0     4.0   \n",
       "\n",
       "   ORTSGR_KLS9  RELAT_AB  \n",
       "0          NaN       NaN  \n",
       "1          5.0       4.0  \n",
       "2          5.0       2.0  \n",
       "3          3.0       3.0  \n",
       "4          6.0       5.0  \n",
       "\n",
       "[5 rows x 85 columns]"
      ]
     },
     "execution_count": 104,
     "metadata": {},
     "output_type": "execute_result"
    }
   ],
   "source": [
    "azdias_pp.head()"
   ]
  },
  {
   "cell_type": "markdown",
   "metadata": {},
   "source": [
    "---\n",
    "#### Step 1.1.2: Assess Missing Data in Each Column\n",
    "\n",
    "How much missing data is present in each column? There are a few columns that are outliers in terms of the proportion of values that are missing. You will want to use matplotlib's [`hist()`](https://matplotlib.org/api/_as_gen/matplotlib.pyplot.hist.html) function to visualize the distribution of missing value counts to find these columns. Identify and document these columns. While some of these columns might have justifications for keeping or re-encoding the data, for this project you should just remove them from the dataframe. (Feel free to make remarks about these outlier columns in the discussion, however!)\n",
    "\n",
    "For the remaining features, are there any patterns in which columns have, or share, missing data?\n",
    "\n",
    "##### After having replaced missing values with numpy NaN, check the new amount of missing data and compare to previous results"
   ]
  },
  {
   "cell_type": "code",
   "execution_count": 105,
   "metadata": {
    "scrolled": false
   },
   "outputs": [
    {
     "data": {
      "text/plain": [
       "TITEL_KZ                 889061\n",
       "AGER_TYP                 685843\n",
       "KK_KUNDENTYP             584612\n",
       "KBA05_BAUMAX             476524\n",
       "GEBURTSJAHR              392318\n",
       "ALTER_HH                 310267\n",
       "REGIOTYP                 158064\n",
       "KKK                      158064\n",
       "W_KEIT_KIND_HH           147988\n",
       "KBA05_ANTG4              133324\n",
       "KBA05_GBZ                133324\n",
       "MOBI_REGIO               133324\n",
       "KBA05_ANTG1              133324\n",
       "KBA05_ANTG2              133324\n",
       "KBA05_ANTG3              133324\n",
       "PLZ8_GBZ                 116515\n",
       "PLZ8_HHZ                 116515\n",
       "PLZ8_BAUMAX              116515\n",
       "PLZ8_ANTG4               116515\n",
       "PLZ8_ANTG1               116515\n",
       "PLZ8_ANTG3               116515\n",
       "PLZ8_ANTG2               116515\n",
       "SHOPPER_TYP              111196\n",
       "VERS_TYP                 111196\n",
       "HEALTH_TYP               111196\n",
       "NATIONALITAET_KZ         108315\n",
       "PRAEGENDE_JUGENDJAHRE    108164\n",
       "KBA13_ANZAHL_PKW         105800\n",
       "ANZ_HAUSHALTE_AKTIV       99611\n",
       "CAMEO_INTL_2015           99352\n",
       "                          ...  \n",
       "RETOURTYP_BK_S             4854\n",
       "ONLINE_AFFINITAET          4854\n",
       "LP_STATUS_FEIN             4854\n",
       "LP_STATUS_GROB             4854\n",
       "GFK_URLAUBERTYP            4854\n",
       "ALTERSKATEGORIE_GROB       2881\n",
       "FINANZTYP                     0\n",
       "GREEN_AVANTGARDE              0\n",
       "FINANZ_HAUSBAUER              0\n",
       "FINANZ_UNAUFFAELLIGER         0\n",
       "FINANZ_ANLEGER                0\n",
       "FINANZ_SPARER                 0\n",
       "FINANZ_MINIMALIST             0\n",
       "ANREDE_KZ                     0\n",
       "FINANZ_VORSORGER              0\n",
       "SEMIO_FAM                     0\n",
       "SEMIO_SOZ                     0\n",
       "SEMIO_REL                     0\n",
       "SEMIO_MAT                     0\n",
       "SEMIO_VERT                    0\n",
       "SEMIO_LUST                    0\n",
       "SEMIO_ERL                     0\n",
       "SEMIO_KULT                    0\n",
       "SEMIO_RAT                     0\n",
       "SEMIO_KRIT                    0\n",
       "SEMIO_DOM                     0\n",
       "SEMIO_KAEM                    0\n",
       "SEMIO_PFLICHT                 0\n",
       "SEMIO_TRADV                   0\n",
       "ZABEOTYP                      0\n",
       "Length: 85, dtype: int64"
      ]
     },
     "execution_count": 105,
     "metadata": {},
     "output_type": "execute_result"
    }
   ],
   "source": [
    "nb_nan_overall = azdias_pp.isna().sum().sort_values(ascending=False)\n",
    "nb_nan_overall"
   ]
  },
  {
   "cell_type": "code",
   "execution_count": 106,
   "metadata": {},
   "outputs": [
    {
     "data": {
      "text/plain": [
       "8"
      ]
     },
     "execution_count": 106,
     "metadata": {},
     "output_type": "execute_result"
    }
   ],
   "source": [
    "missing_nb_after = len([x for x in nb_nan_overall.tolist() if x > 0]) \n",
    "missing_nb_after - missing_nb"
   ]
  },
  {
   "cell_type": "markdown",
   "metadata": {},
   "source": [
    "Okay, there are some new columns (8). Pay attention to those 2 new columns with a high number of missing values (`TITEL_KZ` and `AGER_TYP`).  \n",
    "As previously said, there is a clear pattern:\n",
    "* columns where name starts with `KBA05` contains **133324** missing values\n",
    "* columns where name starts with `PLZ8` contains **116515** missing values\n",
    "* `HEALTH_TYP`, `SHOPPER_TYP`, `VERS_TYP` contains **111196** missing values\n",
    "* columns where name starts with `CAMEO` contains **99352** missing values (note that it is more than before as we have added new NaN values)\n",
    "* `BALLRAUM`, `EWDICHTE` and `INNENSTADT` contains **93740** missing values\n",
    "* `GEBAEUDETYP`, `MIN_GEBAEUDEJAHR`, `WOHNLAGE` and `OST_WEST_KZ` contains **93148** missing values \n",
    "* `LP_FAMILIE_FEIN` and `LP_FAMILIE_GROB` contains **77792** missing values\n",
    "* `SOHO_KZ`, `ANZ_PERSONEN`, `WOHNDAUER_2008` and `ANZ_TITEL` contains **73499** missing values\n",
    "* `CJT_GESAMTTYP`, `GFK_URLAUBERTYP`, `LP_STATUS_FEIN`, `LP_STATUS_GROB`, `RETOURTYP_BK_S` and `ONLINE_AFFINITAET` contains **4854** missing values"
   ]
  },
  {
   "cell_type": "code",
   "execution_count": 107,
   "metadata": {
    "scrolled": true
   },
   "outputs": [
    {
     "data": {
      "text/html": [
       "<div>\n",
       "<style scoped>\n",
       "    .dataframe tbody tr th:only-of-type {\n",
       "        vertical-align: middle;\n",
       "    }\n",
       "\n",
       "    .dataframe tbody tr th {\n",
       "        vertical-align: top;\n",
       "    }\n",
       "\n",
       "    .dataframe thead th {\n",
       "        text-align: right;\n",
       "    }\n",
       "</style>\n",
       "<table border=\"1\" class=\"dataframe\">\n",
       "  <thead>\n",
       "    <tr style=\"text-align: right;\">\n",
       "      <th></th>\n",
       "      <th>attribute</th>\n",
       "      <th>nb_missing</th>\n",
       "      <th>percentage_missing</th>\n",
       "    </tr>\n",
       "  </thead>\n",
       "  <tbody>\n",
       "    <tr>\n",
       "      <th>0</th>\n",
       "      <td>TITEL_KZ</td>\n",
       "      <td>889061</td>\n",
       "      <td>0.997576</td>\n",
       "    </tr>\n",
       "    <tr>\n",
       "      <th>1</th>\n",
       "      <td>AGER_TYP</td>\n",
       "      <td>685843</td>\n",
       "      <td>0.769554</td>\n",
       "    </tr>\n",
       "    <tr>\n",
       "      <th>2</th>\n",
       "      <td>KK_KUNDENTYP</td>\n",
       "      <td>584612</td>\n",
       "      <td>0.655967</td>\n",
       "    </tr>\n",
       "    <tr>\n",
       "      <th>3</th>\n",
       "      <td>KBA05_BAUMAX</td>\n",
       "      <td>476524</td>\n",
       "      <td>0.534687</td>\n",
       "    </tr>\n",
       "    <tr>\n",
       "      <th>4</th>\n",
       "      <td>GEBURTSJAHR</td>\n",
       "      <td>392318</td>\n",
       "      <td>0.440203</td>\n",
       "    </tr>\n",
       "    <tr>\n",
       "      <th>5</th>\n",
       "      <td>ALTER_HH</td>\n",
       "      <td>310267</td>\n",
       "      <td>0.348137</td>\n",
       "    </tr>\n",
       "    <tr>\n",
       "      <th>6</th>\n",
       "      <td>REGIOTYP</td>\n",
       "      <td>158064</td>\n",
       "      <td>0.177357</td>\n",
       "    </tr>\n",
       "    <tr>\n",
       "      <th>7</th>\n",
       "      <td>KKK</td>\n",
       "      <td>158064</td>\n",
       "      <td>0.177357</td>\n",
       "    </tr>\n",
       "  </tbody>\n",
       "</table>\n",
       "</div>"
      ],
      "text/plain": [
       "      attribute  nb_missing  percentage_missing\n",
       "0      TITEL_KZ      889061            0.997576\n",
       "1      AGER_TYP      685843            0.769554\n",
       "2  KK_KUNDENTYP      584612            0.655967\n",
       "3  KBA05_BAUMAX      476524            0.534687\n",
       "4   GEBURTSJAHR      392318            0.440203\n",
       "5      ALTER_HH      310267            0.348137\n",
       "6      REGIOTYP      158064            0.177357\n",
       "7           KKK      158064            0.177357"
      ]
     },
     "execution_count": 107,
     "metadata": {},
     "output_type": "execute_result"
    }
   ],
   "source": [
    "# Let's put that in a Dataframe if we want to use it later\n",
    "stats_missing_df = nb_nan_overall.reset_index()\n",
    "stats_missing_df.columns = ['attribute', 'nb_missing']\n",
    "stats_missing_df['percentage_missing'] = stats_missing_df['nb_missing'].apply(lambda x: x/NB_ROWS_RAW_AZDIAS)\n",
    "stats_missing_df.head(8)"
   ]
  },
  {
   "cell_type": "code",
   "execution_count": 108,
   "metadata": {},
   "outputs": [
    {
     "data": {
      "image/png": "[encoded data removed]",
      "text/plain": [
       "<matplotlib.figure.Figure at 0x7f8626d2a898>"
      ]
     },
     "metadata": {
      "needs_background": "light"
     },
     "output_type": "display_data"
    }
   ],
   "source": [
    "fig, ax = plt.subplots(1, 1, figsize=(15,5))\n",
    "ax.bar(stats_missing_df['attribute'], stats_missing_df['nb_missing'])\n",
    "plt.xlabel('Attributes')\n",
    "plt.xticks(rotation=90)\n",
    "plt.ylabel('Nb missing')\n",
    "plt.title('Distribution of missing')\n",
    "plt.grid(True)\n",
    "plt.show()"
   ]
  },
  {
   "cell_type": "markdown",
   "metadata": {},
   "source": [
    "#####  Based on dictionnary file, investigation on patterns in the amount of missing data in each column:\n",
    "* columns where name starts with `KBA05` contains **133324** missing values  \n",
    "They are all related to 'family houses' so it makes sense that the number of missing values is the same  \n",
    "==> when the information is not known for one feature it is not known for the others that belongs to this 'category'.\n",
    "\n",
    "\n",
    "* columns where name starts with `PLZ8` contains **116515** missing values  \n",
    "It is also related to 'family houses', that might explain why the amount of missing values is almost the same as for `KBA05`."
   ]
  },
  {
   "cell_type": "code",
   "execution_count": 109,
   "metadata": {},
   "outputs": [
    {
     "data": {
      "text/plain": [
       "KBA05_ANTG4    133324\n",
       "KBA05_GBZ      133324\n",
       "MOBI_REGIO     133324\n",
       "KBA05_ANTG1    133324\n",
       "KBA05_ANTG2    133324\n",
       "KBA05_ANTG3    133324\n",
       "dtype: int64"
      ]
     },
     "execution_count": 109,
     "metadata": {},
     "output_type": "execute_result"
    }
   ],
   "source": [
    "# 133324 missing for: KBA05_ANTG4, KBA05_GBZ, MOBI_REGIO, KBA05_ANTG1, KBA05_ANTG2, KBA05_ANTG3\n",
    "# When one 'KBA05_xxx' column is null, others KBA05 are as well\n",
    "azdias_pp[(azdias_pp['KBA05_ANTG4'].isnull())][['KBA05_ANTG4', 'KBA05_GBZ', 'MOBI_REGIO', 'KBA05_ANTG1', \n",
    "                                                'KBA05_ANTG2', 'KBA05_ANTG3']].isna().sum()"
   ]
  },
  {
   "cell_type": "code",
   "execution_count": 110,
   "metadata": {},
   "outputs": [
    {
     "data": {
      "text/plain": [
       "PLZ8_GBZ       116515\n",
       "PLZ8_HHZ       116515\n",
       "PLZ8_BAUMAX    116515\n",
       "PLZ8_ANTG4     116515\n",
       "PLZ8_ANTG1     116515\n",
       "PLZ8_ANTG3     116515\n",
       "PLZ8_ANTG2     116515\n",
       "dtype: int64"
      ]
     },
     "execution_count": 110,
     "metadata": {},
     "output_type": "execute_result"
    }
   ],
   "source": [
    "# 116515 missing for: PLZ8_GBZ, PLZ8_HHZ, PLZ8_BAUMAX, PLZ8_ANTG4, PLZ8_ANTG1, PLZ8_ANTG3, PLZ8_ANTG2\n",
    "# When one 'PLZ8_xxx' column is null, others PLZ8 are as well\n",
    "azdias_pp[(azdias_pp['PLZ8_GBZ'].isnull())][['PLZ8_GBZ', 'PLZ8_HHZ', 'PLZ8_BAUMAX', 'PLZ8_ANTG4', 'PLZ8_ANTG1', \n",
    "                                            'PLZ8_ANTG3', 'PLZ8_ANTG2']].isna().sum()"
   ]
  },
  {
   "cell_type": "code",
   "execution_count": 111,
   "metadata": {},
   "outputs": [
    {
     "data": {
      "text/plain": [
       "107066"
      ]
     },
     "execution_count": 111,
     "metadata": {},
     "output_type": "execute_result"
    }
   ],
   "source": [
    "# 133324 missing for: KBA05_ANTG4, KBA05_GBZ, MOBI_REGIO, KBA05_ANTG1, KBA05_ANTG2, KBA05_ANTG3\n",
    "# 116515 missing for: PLZ8_GBZ, PLZ8_HHZ, PLZ8_BAUMAX, PLZ8_ANTG4, PLZ8_ANTG1, PLZ8_ANTG3, PLZ8_ANTG2\n",
    "azdias_pp[(azdias_pp['KBA05_ANTG4'].isnull())]['PLZ8_GBZ'].isna().sum()"
   ]
  },
  {
   "cell_type": "markdown",
   "metadata": {},
   "source": [
    "***Note:*** the major part of rows with missing value on `PLZ8` columns has also missing value for `KBA05` columns: 107066 over 116515 (~92%)"
   ]
  },
  {
   "cell_type": "markdown",
   "metadata": {},
   "source": [
    "* `HEALTH_TYP`, `SHOPPER_TYP`, `VERS_TYP` contains **111196** missing values  \n",
    "Respectively:\n",
    "    * Health typology\n",
    "    * Shopper typology\n",
    "    * Insurance typology  \n",
    "==> Check if all are the same people"
   ]
  },
  {
   "cell_type": "code",
   "execution_count": 112,
   "metadata": {},
   "outputs": [
    {
     "name": "stdout",
     "output_type": "stream",
     "text": [
      "111196\n",
      "111196\n",
      "111196\n"
     ]
    }
   ],
   "source": [
    "print(azdias_pp[(azdias_pp['HEALTH_TYP'].isnull())]['SHOPPER_TYP'].isna().sum())\n",
    "print(azdias_pp[(azdias_pp['HEALTH_TYP'].isnull())]['VERS_TYP'].isna().sum())\n",
    "print(azdias_pp[(azdias_pp['SHOPPER_TYP'].isnull())]['VERS_TYP'].isna().sum())"
   ]
  },
  {
   "cell_type": "markdown",
   "metadata": {},
   "source": [
    "***Note:*** we can confirm that when one value in null for one of those 3 columns, it is also null on the 2 others."
   ]
  },
  {
   "cell_type": "markdown",
   "metadata": {},
   "source": [
    "* columns where name starts with `CAMEO` contains **99352** missing values (note that it is more than before as we have added new NaN values)  \n",
    "All related to 'Wealth / Life Stage Typology' with different scale for the same information, that's why missing values are the same  \n",
    "==> when you don't have for one you don't have for the others.\n",
    "\n",
    "\n",
    "* `BALLRAUM`, `EWDICHTE` and `INNENSTADT` contains **93740** missing values  \n",
    "All 'postcode-level' features. Respectively:\n",
    "    * Distance to nearest urban center\n",
    "    * Density of households per square kilometer\n",
    "    * Distance to city center (downtown)  \n",
    "    ==> Same remark: once you have the value for one feature, you can guess/compute value for the 2 others.\n",
    "\n",
    "\n",
    "* `GEBAEUDETYP`, `MIN_GEBAEUDEJAHR`, `WOHNLAGE` and `OST_WEST_KZ` contains **93148** missing values  \n",
    "Respectively:  \n",
    "    * Ratio of residential to commercial activity\n",
    "    * First year building was mentioned in the database\n",
    "    * Neighborhood quality (or rural flag)\n",
    "    * Building location via former East / West Germany (GDR / FRG)  \n",
    "==> I am not sure there is a link between those features, we will check that missing values are always for same samples."
   ]
  },
  {
   "cell_type": "code",
   "execution_count": 113,
   "metadata": {},
   "outputs": [
    {
     "name": "stdout",
     "output_type": "stream",
     "text": [
      "MIN_GEBAEUDEJAHR    93148\n",
      "WOHNLAGE            93148\n",
      "OST_WEST_KZ         93148\n",
      "dtype: int64\n"
     ]
    }
   ],
   "source": [
    "print(azdias_pp[(azdias_pp['GEBAEUDETYP'].isnull())][['MIN_GEBAEUDEJAHR', 'WOHNLAGE', 'OST_WEST_KZ']].isna().sum())"
   ]
  },
  {
   "cell_type": "markdown",
   "metadata": {},
   "source": [
    "***Note:*** we can confirm that when one value in null for one of those 4 columns, it is also null on the 3 others."
   ]
  },
  {
   "cell_type": "markdown",
   "metadata": {},
   "source": [
    "* `LP_FAMILIE_FEIN` and `LP_FAMILIE_GROB` contains **77792** missing values  \n",
    "Related to 'Family type' put on 2 different scales.\n",
    "\n",
    "\n",
    "* `SOHO_KZ`, `ANZ_PERSONEN`, `WOHNDAUER_2008` and `ANZ_TITEL` contains **73499** missing values  \n",
    "Respectively:  \n",
    "    * Small office / home office flag\n",
    "    * Number of adults in household\n",
    "    * Length of residence\n",
    "    * Number of professional academic title holders in household  \n",
    "==> Also to check whether missing values are linked to same samples."
   ]
  },
  {
   "cell_type": "code",
   "execution_count": 114,
   "metadata": {},
   "outputs": [
    {
     "name": "stdout",
     "output_type": "stream",
     "text": [
      "ANZ_PERSONEN      73499\n",
      "WOHNDAUER_2008    73499\n",
      "ANZ_TITEL         73499\n",
      "dtype: int64\n"
     ]
    }
   ],
   "source": [
    "print(azdias_pp[(azdias_pp['SOHO_KZ'].isnull())][['ANZ_PERSONEN', 'WOHNDAUER_2008', 'ANZ_TITEL']].isna().sum())"
   ]
  },
  {
   "cell_type": "markdown",
   "metadata": {},
   "source": [
    "***Note:*** we can confirm that when one value in null for one of those 4 columns, it is also null on the 3 others."
   ]
  },
  {
   "cell_type": "markdown",
   "metadata": {},
   "source": [
    "* `CJT_GESAMTTYP`, `GFK_URLAUBERTYP`, `LP_STATUS_FEIN`, `LP_STATUS_GROB`, `RETOURTYP_BK_S` and `ONLINE_AFFINITAET` contains **4854** missing values  \n",
    "Respectively:  \n",
    "    * Customer-Journey-Typology\n",
    "    * Vacation habits\n",
    "    * Social status in both fine and rough scale\n",
    "    * Return type\n",
    "    * Online affinity  \n",
    "==> We could say that those features seems to be related to 'customer habits'"
   ]
  },
  {
   "cell_type": "markdown",
   "metadata": {},
   "source": [
    "#### Deal with outliers columns\n",
    "Let's first remember what are the columns with highest number of missing values:"
   ]
  },
  {
   "cell_type": "code",
   "execution_count": 115,
   "metadata": {},
   "outputs": [
    {
     "data": {
      "text/html": [
       "<div>\n",
       "<style scoped>\n",
       "    .dataframe tbody tr th:only-of-type {\n",
       "        vertical-align: middle;\n",
       "    }\n",
       "\n",
       "    .dataframe tbody tr th {\n",
       "        vertical-align: top;\n",
       "    }\n",
       "\n",
       "    .dataframe thead th {\n",
       "        text-align: right;\n",
       "    }\n",
       "</style>\n",
       "<table border=\"1\" class=\"dataframe\">\n",
       "  <thead>\n",
       "    <tr style=\"text-align: right;\">\n",
       "      <th></th>\n",
       "      <th>attribute</th>\n",
       "      <th>nb_missing</th>\n",
       "      <th>percentage_missing</th>\n",
       "    </tr>\n",
       "  </thead>\n",
       "  <tbody>\n",
       "    <tr>\n",
       "      <th>0</th>\n",
       "      <td>TITEL_KZ</td>\n",
       "      <td>889061</td>\n",
       "      <td>0.997576</td>\n",
       "    </tr>\n",
       "    <tr>\n",
       "      <th>1</th>\n",
       "      <td>AGER_TYP</td>\n",
       "      <td>685843</td>\n",
       "      <td>0.769554</td>\n",
       "    </tr>\n",
       "    <tr>\n",
       "      <th>2</th>\n",
       "      <td>KK_KUNDENTYP</td>\n",
       "      <td>584612</td>\n",
       "      <td>0.655967</td>\n",
       "    </tr>\n",
       "    <tr>\n",
       "      <th>3</th>\n",
       "      <td>KBA05_BAUMAX</td>\n",
       "      <td>476524</td>\n",
       "      <td>0.534687</td>\n",
       "    </tr>\n",
       "    <tr>\n",
       "      <th>4</th>\n",
       "      <td>GEBURTSJAHR</td>\n",
       "      <td>392318</td>\n",
       "      <td>0.440203</td>\n",
       "    </tr>\n",
       "    <tr>\n",
       "      <th>5</th>\n",
       "      <td>ALTER_HH</td>\n",
       "      <td>310267</td>\n",
       "      <td>0.348137</td>\n",
       "    </tr>\n",
       "    <tr>\n",
       "      <th>6</th>\n",
       "      <td>REGIOTYP</td>\n",
       "      <td>158064</td>\n",
       "      <td>0.177357</td>\n",
       "    </tr>\n",
       "    <tr>\n",
       "      <th>7</th>\n",
       "      <td>KKK</td>\n",
       "      <td>158064</td>\n",
       "      <td>0.177357</td>\n",
       "    </tr>\n",
       "  </tbody>\n",
       "</table>\n",
       "</div>"
      ],
      "text/plain": [
       "      attribute  nb_missing  percentage_missing\n",
       "0      TITEL_KZ      889061            0.997576\n",
       "1      AGER_TYP      685843            0.769554\n",
       "2  KK_KUNDENTYP      584612            0.655967\n",
       "3  KBA05_BAUMAX      476524            0.534687\n",
       "4   GEBURTSJAHR      392318            0.440203\n",
       "5      ALTER_HH      310267            0.348137\n",
       "6      REGIOTYP      158064            0.177357\n",
       "7           KKK      158064            0.177357"
      ]
     },
     "execution_count": 115,
     "metadata": {},
     "output_type": "execute_result"
    }
   ],
   "source": [
    "stats_missing_df.head(8)"
   ]
  },
  {
   "cell_type": "code",
   "execution_count": 116,
   "metadata": {},
   "outputs": [
    {
     "data": {
      "text/plain": [
       "['TITEL_KZ',\n",
       " 'AGER_TYP',\n",
       " 'KK_KUNDENTYP',\n",
       " 'KBA05_BAUMAX',\n",
       " 'GEBURTSJAHR',\n",
       " 'ALTER_HH']"
      ]
     },
     "execution_count": 116,
     "metadata": {},
     "output_type": "execute_result"
    }
   ],
   "source": [
    "# Remove the outlier columns from the dataset where there is more than 200K missing values\n",
    "cols_to_del = stats_missing_df[stats_missing_df['nb_missing'] > 200000].attribute.tolist()\n",
    "cols_to_del"
   ]
  },
  {
   "cell_type": "code",
   "execution_count": 117,
   "metadata": {},
   "outputs": [
    {
     "data": {
      "text/plain": [
       "(891221, 79)"
      ]
     },
     "execution_count": 117,
     "metadata": {},
     "output_type": "execute_result"
    }
   ],
   "source": [
    "azdias_pp = azdias_pp.drop(cols_to_del, axis=1)\n",
    "# Sanity check: there should be 6 columns less so 79\n",
    "azdias_pp.shape"
   ]
  },
  {
   "cell_type": "markdown",
   "metadata": {},
   "source": [
    "---\n",
    "#### Discussion 1.1.2: Assess Missing Data in Each Column\n",
    "As seen earlier with the graph, we have 6 columns that contains more than 200K (which represents a little bit more than 20% of the samples) missing values:\n",
    "* `TITEL_KZ`: Academic title flag, almost never known (perhaps because few people are eligible to this title...)\n",
    "* `AGER_TYP`: Best-ager typology, 77% unknown\n",
    "* `KK_KUNDENTYP`: Consumer pattern over past 12 months, , 66% unknown\n",
    "* `KBA05_BAUMAX`: Most common building type within the microcell, 53% unknown\n",
    "* `GEBURTSJAHR`: Year of birth, 44% unknown\n",
    "* `ALTER_HH`: Birthdate of head of household, 34% unknown\n",
    "\n",
    "Those columns have been removed.  \n",
    "We have also discovered some relationships between columns in the dataset regarding missing values. This totally makes sense because some features are based on the same raw data put on a different scale, for example `LP_FAMILIE_FEIN` and `LP_FAMILIE_GROB` columns.  \n",
    "Sometimes there are a lot of missing values related to one 'topic', it probably means that this information could not be collected for this person so all features related to this group are set to 'NaN'. This is something that we will analyze more deeply in the next section.  \n",
    "Anyway, this first observation has shown that there is clearly something to do to reduce the number of features because the information is sometimes redundant.\n",
    "\n",
    "---"
   ]
  },
  {
   "cell_type": "markdown",
   "metadata": {},
   "source": [
    "#### Step 1.1.3: Assess Missing Data in Each Row\n",
    "\n",
    "Now, you'll perform a similar assessment for the rows of the dataset. How much data is missing in each row? As with the columns, you should see some groups of points that have a very different numbers of missing values. Divide the data into two subsets: one for data points that are above some threshold for missing values, and a second subset for points below that threshold.\n",
    "\n",
    "In order to know what to do with the outlier rows, we should see if the distribution of data values on columns that are not missing data (or are missing very little data) are similar or different between the two groups. Select at least five of these columns and compare the distribution of values.\n",
    "- You can use seaborn's [`countplot()`](https://seaborn.pydata.org/generated/seaborn.countplot.html) function to create a bar chart of code frequencies and matplotlib's [`subplot()`](https://matplotlib.org/api/_as_gen/matplotlib.pyplot.subplot.html) function to put bar charts for the two subplots side by side.\n",
    "- To reduce repeated code, you might want to write a function that can perform this comparison, taking as one of its arguments a column to be compared.\n",
    "\n",
    "Depending on what you observe in your comparison, this will have implications on how you approach your conclusions later in the analysis. If the distributions of non-missing features look similar between the data with many missing values and the data with few or no missing values, then we could argue that simply dropping those points from the analysis won't present a major issue. On the other hand, if the data with many missing values looks very different from the data with few or no missing values, then we should make a note on those data as special. We'll revisit these data later on. **Either way, you should continue your analysis for now using just the subset of the data with few or no missing values.**"
   ]
  },
  {
   "cell_type": "code",
   "execution_count": 118,
   "metadata": {
    "scrolled": false
   },
   "outputs": [
    {
     "data": {
      "text/plain": [
       "643174    49\n",
       "732775    49\n",
       "472919    48\n",
       "183108    47\n",
       "139316    47\n",
       "691141    47\n",
       "691142    47\n",
       "691171    47\n",
       "691183    47\n",
       "139332    47\n",
       "691197    47\n",
       "139323    47\n",
       "691212    47\n",
       "691122    47\n",
       "139267    47\n",
       "139255    47\n",
       "139250    47\n",
       "139248    47\n",
       "139245    47\n",
       "139243    47\n",
       "691317    47\n",
       "691129    47\n",
       "691118    47\n",
       "139236    47\n",
       "139478    47\n",
       "690871    47\n",
       "690876    47\n",
       "690878    47\n",
       "690887    47\n",
       "139521    47\n",
       "          ..\n",
       "540246     0\n",
       "540244     0\n",
       "540243     0\n",
       "540242     0\n",
       "540241     0\n",
       "540240     0\n",
       "540239     0\n",
       "540269     0\n",
       "540271     0\n",
       "540300     0\n",
       "540289     0\n",
       "540299     0\n",
       "540298     0\n",
       "540296     0\n",
       "540295     0\n",
       "540293     0\n",
       "540292     0\n",
       "540291     0\n",
       "540290     0\n",
       "540287     0\n",
       "540273     0\n",
       "540286     0\n",
       "540284     0\n",
       "540283     0\n",
       "540281     0\n",
       "540280     0\n",
       "540277     0\n",
       "540275     0\n",
       "540274     0\n",
       "445610     0\n",
       "Length: 891221, dtype: int64"
      ]
     },
     "execution_count": 118,
     "metadata": {},
     "output_type": "execute_result"
    }
   ],
   "source": [
    "# How much data is missing in each row of the dataset?\n",
    "nb_missing_per_row = azdias_pp.isnull().sum(axis=1).sort_values(ascending=False)\n",
    "azdias_pp['nb_missing_in_row'] = nb_missing_per_row\n",
    "nb_missing_per_row"
   ]
  },
  {
   "cell_type": "markdown",
   "metadata": {},
   "source": [
    "***Note:*** we can have rows with 49 NaN values (over 79 !). Let's see how many rows per nb of missing values we have:"
   ]
  },
  {
   "cell_type": "code",
   "execution_count": 119,
   "metadata": {},
   "outputs": [],
   "source": [
    "# Uncomment the cell below to get the number of rows per \"nb missing values in row\"\n",
    "# azdias_pp.groupby('nb_missing_in_row').nb_missing_in_row.count()#.sort_values(ascending=False)"
   ]
  },
  {
   "cell_type": "code",
   "execution_count": 120,
   "metadata": {
    "scrolled": false
   },
   "outputs": [
    {
     "data": {
      "image/png": "[encoded data removed]",
      "text/plain": [
       "<matplotlib.figure.Figure at 0x7f862b7deef0>"
      ]
     },
     "metadata": {
      "needs_background": "light"
     },
     "output_type": "display_data"
    }
   ],
   "source": [
    "# Let's plot that to have a better understanding\n",
    "fig, ax = plt.subplots(2, 1, figsize=(15,15))\n",
    "ax[0].set_title(\"Nb missing values per row (including 'no missing')\")\n",
    "ax[1].set_title(\"Nb missing values per row (excluding 'no missing')\")\n",
    "sns.countplot(x='nb_missing_in_row', data=azdias_pp, ax=ax[0])\n",
    "sns.countplot(x='nb_missing_in_row', data=azdias_pp[azdias_pp['nb_missing_in_row'] > 0], ax=ax[1])\n",
    "plt.show()"
   ]
  },
  {
   "cell_type": "code",
   "execution_count": 121,
   "metadata": {},
   "outputs": [],
   "source": [
    "nb_rows = azdias.shape[0]\n",
    "def count_rows_under_limit(df, nb_rows, limit):\n",
    "    nb_limit = df[df['nb_missing_in_row'] <= limit].nb_missing_in_row.count()\n",
    "    print(\"{:.2f}% of the dataset is kept if the limit is set to {}\".format(100 * (nb_limit/nb_rows), limit))"
   ]
  },
  {
   "cell_type": "code",
   "execution_count": 122,
   "metadata": {},
   "outputs": [
    {
     "name": "stdout",
     "output_type": "stream",
     "text": [
      "69.93% of the dataset is kept if the limit is set to 0\n",
      "86.59% of the dataset is kept if the limit is set to 8\n",
      "89.54% of the dataset is kept if the limit is set to 26\n"
     ]
    }
   ],
   "source": [
    "count_rows_under_limit(azdias_pp, nb_rows, limit=0)\n",
    "count_rows_under_limit(azdias_pp, nb_rows, limit=8)\n",
    "count_rows_under_limit(azdias_pp, nb_rows, limit=26)"
   ]
  },
  {
   "cell_type": "markdown",
   "metadata": {},
   "source": [
    "***Note:*** the major part of the rows have no missing values (623209 over 891211 ~= 70%). It is almost 87% by taking all rows that have at most 8 missing values. Let's try this treshold value."
   ]
  },
  {
   "cell_type": "code",
   "execution_count": 123,
   "metadata": {},
   "outputs": [
    {
     "name": "stdout",
     "output_type": "stream",
     "text": [
      "(771701, 80)\n",
      "(119520, 80)\n"
     ]
    }
   ],
   "source": [
    "# Write code to divide the data into two subsets based on the number of missing\n",
    "treshold = 8\n",
    "azdias_pp_subset1 = azdias_pp[azdias_pp['nb_missing_in_row'] <= treshold]\n",
    "azdias_pp_subset2 = azdias_pp[azdias_pp['nb_missing_in_row'] > treshold]\n",
    "# Sanity check\n",
    "print(azdias_pp_subset1.shape)\n",
    "print(azdias_pp_subset2.shape)"
   ]
  },
  {
   "cell_type": "markdown",
   "metadata": {},
   "source": [
    "#### Compare the distribution of values for at least five columns where there are no or few missing values, between the two subsets."
   ]
  },
  {
   "cell_type": "code",
   "execution_count": 124,
   "metadata": {},
   "outputs": [],
   "source": [
    "# Uncomment & comment one of the above lines to display the names of columns without missing values for each subset\n",
    "# azdias_pp_subset1.isna().sum().sort_values()\n",
    "# azdias_pp_subset2.isna().sum().sort_values()"
   ]
  },
  {
   "cell_type": "code",
   "execution_count": 125,
   "metadata": {},
   "outputs": [],
   "source": [
    "def plot_dist_comparison(col_list, subset1, subset2):\n",
    "    \"\"\"\n",
    "    Display plots about values distribution in both given subsets for each column in the given list\n",
    "    :parameter col_list: (list) a list of dataframe columns that will be analyzed\n",
    "    :parameter subset1: (pandas Dataframe) first subset to analyze (the one with no or few missing values)\n",
    "    :parameter subset2: (pandas Dataframe) the other subset (the one with more missing values)\n",
    "    \"\"\"\n",
    "    fig, ax = plt.subplots(len(col_list), 2, figsize=(15, len(col_list)*6))\n",
    "    for i, col in enumerate(col_list):\n",
    "        ax[i][0].set_title(\"Column {} in subset with few missing values\".format(col))\n",
    "        ax[i][1].set_title(\"Column {} in subset with more missing values\".format(col))\n",
    "        sns.countplot(x=col, data=subset1, ax=ax[i][0])\n",
    "        sns.countplot(x=col, data=subset2, ax=ax[i][1])\n",
    "    plt.show()"
   ]
  },
  {
   "cell_type": "code",
   "execution_count": 128,
   "metadata": {
    "scrolled": false
   },
   "outputs": [
    {
     "data": {
      "image/png": "[encoded data removed]",
      "text/plain": [
       "<matplotlib.figure.Figure at 0x7f862b57af98>"
      ]
     },
     "metadata": {
      "needs_background": "light"
     },
     "output_type": "display_data"
    }
   ],
   "source": [
    "col_list = ['ZABEOTYP', 'GREEN_AVANTGARDE', 'ANREDE_KZ', 'FINANZ_MINIMALIST', 'SEMIO_TRADV', 'FINANZ_VORSORGER', 'ALTERSKATEGORIE_GROB']\n",
    "plot_dist_comparison(col_list, azdias_pp_subset1, azdias_pp_subset2)"
   ]
  },
  {
   "cell_type": "markdown",
   "metadata": {},
   "source": [
    "---\n",
    "#### Discussion 1.1.3: Assess Missing Data in Each Row\n",
    "I have decided to split the whole dataset into 2 subsets with 8 as the treshold value. This treshold corresponds to the maximum number of missing values allowed per row. It remains an acceptable choice because:\n",
    "* With such a value, 87% of the dataset is kept in the first subset, all other rows going into the second subset (and we do not want to keep too few samples in our dataset so it seems to be a good trade-off)\n",
    "* 8 is still a low value in comparison to the maximum (49) or even 20\n",
    "\n",
    "Once this is done, we can see on above plots (**/!\\ be careful at the scale which is not the same between plots on the left than on the right**) that the data with many missing values looks different from the data with few or no missing values. Few columns have been 'randomly' picked among the list of columns that have no or few missing values in both subsets:\n",
    "* `ZABEOTYP`: Energy consumption typology (mostly 'fair supplied' in subset n°2)\n",
    "* `GREEN_AVANTGARDE`: Membership in environmental sustainability as part of youth (not a lot of member in subset n°2)\n",
    "* `ANREDE_KZ`: Gender, almost the same distribution in both subsets\n",
    "* `FINANZ_MINIMALIST`: Financial typology 'minimalist' section, mostly 'average' in subset n°2\n",
    "* `FINANZ_VORSORGER`: Financial typology 'be prepared' section, mostly 'average' in subset n°2\n",
    "* `SEMIO_TRADV`: Personality typology, mostly 'high affinity with tradional-minded' in subset n°2\n",
    "* `ALTERSKATEGORIE_GROB`: Estimated age, '46 - 60 years old' is the highest i subset n°2 like in subset n°1 but distribution is different (fewer old people for example).  \n",
    "\n",
    "Order is even sometimes different (meaning that the most frequent value on dataset with few or no missing value is not the same as in the other dataset). Apart from one of them (`ANREDE_KZ`) we can see that the distribution is slightly different so that would be too dangerous to just get rid of this subset.\n",
    "\n",
    "---"
   ]
  },
  {
   "cell_type": "markdown",
   "metadata": {},
   "source": [
    "### Step 1.2: Select and Re-Encode Features\n",
    "\n",
    "Checking for missing data isn't the only way in which you can prepare a dataset for analysis. Since the unsupervised learning techniques to be used will only work on data that is encoded numerically, you need to make a few encoding changes or additional assumptions to be able to make progress. In addition, while almost all of the values in the dataset are encoded using numbers, not all of them represent numeric values. Check the third column of the feature summary (`feat_info`) for a summary of types of measurement.\n",
    "- For numeric and interval data, these features can be kept without changes.\n",
    "- Most of the variables in the dataset are ordinal in nature. While ordinal values may technically be non-linear in spacing, make the simplifying assumption that the ordinal variables can be treated as being interval in nature (that is, kept without any changes).\n",
    "- Special handling may be necessary for the remaining two variable types: categorical, and 'mixed'.\n",
    "\n",
    "In the first two parts of this sub-step, you will perform an investigation of the categorical and mixed-type features and make a decision on each of them, whether you will keep, drop, or re-encode each. Then, in the last part, you will create a new data frame with only the selected and engineered columns.\n",
    "\n",
    "Data wrangling is often the trickiest part of the data analysis process, and there's a lot of it to be done here. But stick with it: once you're done with this step, you'll be ready to get to the machine learning parts of the project!"
   ]
  },
  {
   "cell_type": "code",
   "execution_count": 160,
   "metadata": {},
   "outputs": [
    {
     "data": {
      "text/plain": [
       "type\n",
       "categorical    21\n",
       "interval        1\n",
       "mixed           7\n",
       "numeric         7\n",
       "ordinal        49\n",
       "Name: type, dtype: int64"
      ]
     },
     "execution_count": 160,
     "metadata": {},
     "output_type": "execute_result"
    }
   ],
   "source": [
    "# How many features are there of each data type?\n",
    "feat_info.groupby('type').type.count()"
   ]
  },
  {
   "cell_type": "code",
   "execution_count": 161,
   "metadata": {},
   "outputs": [
    {
     "data": {
      "text/html": [
       "<div>\n",
       "<style scoped>\n",
       "    .dataframe tbody tr th:only-of-type {\n",
       "        vertical-align: middle;\n",
       "    }\n",
       "\n",
       "    .dataframe tbody tr th {\n",
       "        vertical-align: top;\n",
       "    }\n",
       "\n",
       "    .dataframe thead th {\n",
       "        text-align: right;\n",
       "    }\n",
       "</style>\n",
       "<table border=\"1\" class=\"dataframe\">\n",
       "  <thead>\n",
       "    <tr style=\"text-align: right;\">\n",
       "      <th></th>\n",
       "      <th>attribute</th>\n",
       "      <th>information_level</th>\n",
       "      <th>type</th>\n",
       "      <th>missing_or_unknown</th>\n",
       "    </tr>\n",
       "  </thead>\n",
       "  <tbody>\n",
       "    <tr>\n",
       "      <th>0</th>\n",
       "      <td>AGER_TYP</td>\n",
       "      <td>person</td>\n",
       "      <td>categorical</td>\n",
       "      <td>[-1, 0]</td>\n",
       "    </tr>\n",
       "    <tr>\n",
       "      <th>2</th>\n",
       "      <td>ANREDE_KZ</td>\n",
       "      <td>person</td>\n",
       "      <td>categorical</td>\n",
       "      <td>[-1, 0]</td>\n",
       "    </tr>\n",
       "    <tr>\n",
       "      <th>3</th>\n",
       "      <td>CJT_GESAMTTYP</td>\n",
       "      <td>person</td>\n",
       "      <td>categorical</td>\n",
       "      <td>[0]</td>\n",
       "    </tr>\n",
       "    <tr>\n",
       "      <th>10</th>\n",
       "      <td>FINANZTYP</td>\n",
       "      <td>person</td>\n",
       "      <td>categorical</td>\n",
       "      <td>[-1]</td>\n",
       "    </tr>\n",
       "    <tr>\n",
       "      <th>12</th>\n",
       "      <td>GFK_URLAUBERTYP</td>\n",
       "      <td>person</td>\n",
       "      <td>categorical</td>\n",
       "      <td>[]</td>\n",
       "    </tr>\n",
       "    <tr>\n",
       "      <th>13</th>\n",
       "      <td>GREEN_AVANTGARDE</td>\n",
       "      <td>person</td>\n",
       "      <td>categorical</td>\n",
       "      <td>[]</td>\n",
       "    </tr>\n",
       "    <tr>\n",
       "      <th>15</th>\n",
       "      <td>LP_LEBENSPHASE_FEIN</td>\n",
       "      <td>person</td>\n",
       "      <td>mixed</td>\n",
       "      <td>[0]</td>\n",
       "    </tr>\n",
       "    <tr>\n",
       "      <th>16</th>\n",
       "      <td>LP_LEBENSPHASE_GROB</td>\n",
       "      <td>person</td>\n",
       "      <td>mixed</td>\n",
       "      <td>[0]</td>\n",
       "    </tr>\n",
       "    <tr>\n",
       "      <th>17</th>\n",
       "      <td>LP_FAMILIE_FEIN</td>\n",
       "      <td>person</td>\n",
       "      <td>categorical</td>\n",
       "      <td>[0]</td>\n",
       "    </tr>\n",
       "    <tr>\n",
       "      <th>18</th>\n",
       "      <td>LP_FAMILIE_GROB</td>\n",
       "      <td>person</td>\n",
       "      <td>categorical</td>\n",
       "      <td>[0]</td>\n",
       "    </tr>\n",
       "    <tr>\n",
       "      <th>19</th>\n",
       "      <td>LP_STATUS_FEIN</td>\n",
       "      <td>person</td>\n",
       "      <td>categorical</td>\n",
       "      <td>[0]</td>\n",
       "    </tr>\n",
       "    <tr>\n",
       "      <th>20</th>\n",
       "      <td>LP_STATUS_GROB</td>\n",
       "      <td>person</td>\n",
       "      <td>categorical</td>\n",
       "      <td>[0]</td>\n",
       "    </tr>\n",
       "    <tr>\n",
       "      <th>21</th>\n",
       "      <td>NATIONALITAET_KZ</td>\n",
       "      <td>person</td>\n",
       "      <td>categorical</td>\n",
       "      <td>[-1, 0]</td>\n",
       "    </tr>\n",
       "    <tr>\n",
       "      <th>22</th>\n",
       "      <td>PRAEGENDE_JUGENDJAHRE</td>\n",
       "      <td>person</td>\n",
       "      <td>mixed</td>\n",
       "      <td>[-1, 0]</td>\n",
       "    </tr>\n",
       "    <tr>\n",
       "      <th>38</th>\n",
       "      <td>SHOPPER_TYP</td>\n",
       "      <td>person</td>\n",
       "      <td>categorical</td>\n",
       "      <td>[-1]</td>\n",
       "    </tr>\n",
       "    <tr>\n",
       "      <th>39</th>\n",
       "      <td>SOHO_KZ</td>\n",
       "      <td>person</td>\n",
       "      <td>categorical</td>\n",
       "      <td>[-1]</td>\n",
       "    </tr>\n",
       "    <tr>\n",
       "      <th>40</th>\n",
       "      <td>TITEL_KZ</td>\n",
       "      <td>person</td>\n",
       "      <td>categorical</td>\n",
       "      <td>[-1, 0]</td>\n",
       "    </tr>\n",
       "    <tr>\n",
       "      <th>41</th>\n",
       "      <td>VERS_TYP</td>\n",
       "      <td>person</td>\n",
       "      <td>categorical</td>\n",
       "      <td>[-1]</td>\n",
       "    </tr>\n",
       "    <tr>\n",
       "      <th>42</th>\n",
       "      <td>ZABEOTYP</td>\n",
       "      <td>person</td>\n",
       "      <td>categorical</td>\n",
       "      <td>[-1, 9]</td>\n",
       "    </tr>\n",
       "    <tr>\n",
       "      <th>47</th>\n",
       "      <td>KK_KUNDENTYP</td>\n",
       "      <td>household</td>\n",
       "      <td>categorical</td>\n",
       "      <td>[-1]</td>\n",
       "    </tr>\n",
       "    <tr>\n",
       "      <th>52</th>\n",
       "      <td>GEBAEUDETYP</td>\n",
       "      <td>building</td>\n",
       "      <td>categorical</td>\n",
       "      <td>[-1, 0]</td>\n",
       "    </tr>\n",
       "    <tr>\n",
       "      <th>55</th>\n",
       "      <td>OST_WEST_KZ</td>\n",
       "      <td>building</td>\n",
       "      <td>categorical</td>\n",
       "      <td>[-1]</td>\n",
       "    </tr>\n",
       "    <tr>\n",
       "      <th>56</th>\n",
       "      <td>WOHNLAGE</td>\n",
       "      <td>building</td>\n",
       "      <td>mixed</td>\n",
       "      <td>[-1]</td>\n",
       "    </tr>\n",
       "    <tr>\n",
       "      <th>57</th>\n",
       "      <td>CAMEO_DEUG_2015</td>\n",
       "      <td>microcell_rr4</td>\n",
       "      <td>categorical</td>\n",
       "      <td>[-1, X]</td>\n",
       "    </tr>\n",
       "    <tr>\n",
       "      <th>58</th>\n",
       "      <td>CAMEO_DEU_2015</td>\n",
       "      <td>microcell_rr4</td>\n",
       "      <td>categorical</td>\n",
       "      <td>[XX]</td>\n",
       "    </tr>\n",
       "    <tr>\n",
       "      <th>59</th>\n",
       "      <td>CAMEO_INTL_2015</td>\n",
       "      <td>microcell_rr4</td>\n",
       "      <td>mixed</td>\n",
       "      <td>[-1, XX]</td>\n",
       "    </tr>\n",
       "    <tr>\n",
       "      <th>64</th>\n",
       "      <td>KBA05_BAUMAX</td>\n",
       "      <td>microcell_rr3</td>\n",
       "      <td>mixed</td>\n",
       "      <td>[-1, 0]</td>\n",
       "    </tr>\n",
       "    <tr>\n",
       "      <th>79</th>\n",
       "      <td>PLZ8_BAUMAX</td>\n",
       "      <td>macrocell_plz8</td>\n",
       "      <td>mixed</td>\n",
       "      <td>[-1, 0]</td>\n",
       "    </tr>\n",
       "  </tbody>\n",
       "</table>\n",
       "</div>"
      ],
      "text/plain": [
       "                attribute information_level         type missing_or_unknown\n",
       "0                AGER_TYP            person  categorical            [-1, 0]\n",
       "2               ANREDE_KZ            person  categorical            [-1, 0]\n",
       "3           CJT_GESAMTTYP            person  categorical                [0]\n",
       "10              FINANZTYP            person  categorical               [-1]\n",
       "12        GFK_URLAUBERTYP            person  categorical                 []\n",
       "13       GREEN_AVANTGARDE            person  categorical                 []\n",
       "15    LP_LEBENSPHASE_FEIN            person        mixed                [0]\n",
       "16    LP_LEBENSPHASE_GROB            person        mixed                [0]\n",
       "17        LP_FAMILIE_FEIN            person  categorical                [0]\n",
       "18        LP_FAMILIE_GROB            person  categorical                [0]\n",
       "19         LP_STATUS_FEIN            person  categorical                [0]\n",
       "20         LP_STATUS_GROB            person  categorical                [0]\n",
       "21       NATIONALITAET_KZ            person  categorical            [-1, 0]\n",
       "22  PRAEGENDE_JUGENDJAHRE            person        mixed            [-1, 0]\n",
       "38            SHOPPER_TYP            person  categorical               [-1]\n",
       "39                SOHO_KZ            person  categorical               [-1]\n",
       "40               TITEL_KZ            person  categorical            [-1, 0]\n",
       "41               VERS_TYP            person  categorical               [-1]\n",
       "42               ZABEOTYP            person  categorical            [-1, 9]\n",
       "47           KK_KUNDENTYP         household  categorical               [-1]\n",
       "52            GEBAEUDETYP          building  categorical            [-1, 0]\n",
       "55            OST_WEST_KZ          building  categorical               [-1]\n",
       "56               WOHNLAGE          building        mixed               [-1]\n",
       "57        CAMEO_DEUG_2015     microcell_rr4  categorical            [-1, X]\n",
       "58         CAMEO_DEU_2015     microcell_rr4  categorical               [XX]\n",
       "59        CAMEO_INTL_2015     microcell_rr4        mixed           [-1, XX]\n",
       "64           KBA05_BAUMAX     microcell_rr3        mixed            [-1, 0]\n",
       "79            PLZ8_BAUMAX    macrocell_plz8        mixed            [-1, 0]"
      ]
     },
     "execution_count": 161,
     "metadata": {},
     "output_type": "execute_result"
    }
   ],
   "source": [
    "# Let's see what are the features with 'mixed' or 'categorical' type\n",
    "feat_info[(feat_info['type'] == 'mixed') | (feat_info['type'] == 'categorical')]"
   ]
  },
  {
   "cell_type": "markdown",
   "metadata": {},
   "source": [
    "#### Step 1.2.1: Re-Encode Categorical Features\n",
    "\n",
    "For categorical data, you would ordinarily need to encode the levels as dummy variables. Depending on the number of categories, perform one of the following:\n",
    "- For binary (two-level) categoricals that take numeric values, you can keep them without needing to do anything.\n",
    "- There is one binary variable that takes on non-numeric values. For this one, you need to re-encode the values as numbers or create a dummy variable.\n",
    "- For multi-level categoricals (three or more values), you can choose to encode the values using multiple dummy variables (e.g. via [OneHotEncoder](http://scikit-learn.org/stable/modules/generated/sklearn.preprocessing.OneHotEncoder.html)), or (to keep things straightforward) just drop them from the analysis. As always, document your choices in the Discussion section."
   ]
  },
  {
   "cell_type": "code",
   "execution_count": 162,
   "metadata": {},
   "outputs": [
    {
     "data": {
      "text/plain": [
       "['AGER_TYP',\n",
       " 'ANREDE_KZ',\n",
       " 'CJT_GESAMTTYP',\n",
       " 'FINANZTYP',\n",
       " 'GFK_URLAUBERTYP',\n",
       " 'GREEN_AVANTGARDE',\n",
       " 'LP_FAMILIE_FEIN',\n",
       " 'LP_FAMILIE_GROB',\n",
       " 'LP_STATUS_FEIN',\n",
       " 'LP_STATUS_GROB',\n",
       " 'NATIONALITAET_KZ',\n",
       " 'SHOPPER_TYP',\n",
       " 'SOHO_KZ',\n",
       " 'TITEL_KZ',\n",
       " 'VERS_TYP',\n",
       " 'ZABEOTYP',\n",
       " 'KK_KUNDENTYP',\n",
       " 'GEBAEUDETYP',\n",
       " 'OST_WEST_KZ',\n",
       " 'CAMEO_DEUG_2015',\n",
       " 'CAMEO_DEU_2015']"
      ]
     },
     "execution_count": 162,
     "metadata": {},
     "output_type": "execute_result"
    }
   ],
   "source": [
    "# Assess categorical variables: which are binary, which are multi-level, and\n",
    "# which one needs to be re-encoded?\n",
    "feat_info[feat_info['type'] == 'categorical'].attribute.tolist()"
   ]
  },
  {
   "cell_type": "markdown",
   "metadata": {},
   "source": [
    "***Note:*** remember that earlier we have decided to get rid of those 6 features: 'TITEL_KZ', 'AGER_TYP', 'KK_KUNDENTYP', 'KBA05_BAUMAX', 'GEBURTSJAHR', 'ALTER_HH' so they will not appear in this table.\n",
    "\n",
    "| Column | Description | Type | Decision |\n",
    "| --- | --- | --- | --- |\n",
    "| ANREDE_KZ | Gender | Binary | Keep |\n",
    "| SOHO_KZ | Small office / home office flag | Binary | Keep |\n",
    "| VERS_TYP | Insurance typology | Binary | Keep, re-encode as 0/1 |\n",
    "| GREEN_AVANTGARDE | Membership in environmental sustainability | Binary | Keep |\n",
    "| OST_WEST_KZ | Building location via former East / West Germany (GDR / FRG) | Binary (but not numeric !) | Keep, re-encode as 0/1 |\n",
    "| CJT_GESAMTTYP | Preferred information and buying channels for consumer | Multi-level (1 to 6) | Keep & 1-hot encode |\n",
    "| FINANZTYP | Most descriptive financial type for individual | Multi-level (1 to 6) | Keep & 1-hot encode |\n",
    "| GFK_URLAUBERTYP | Vacation habits | Multi-level (1 to 12) | Keep & 1-hot encode |\n",
    "| LP_FAMILIE_FEIN | Family type, fine scale | Multi-level (1 to 11) | Drop, data already included in rough scale |\n",
    "| LP_FAMILIE_GROB | Family type, rough scale | Multi-level (1 to 5) | Keep & 1-hot encode |\n",
    "| LP_STATUS_FEIN | Social status, fine scale | Multi-level (1 to 10) | Drop, data already included in rough scale |\n",
    "| LP_STATUS_GROB | Social status, rough scale | Multi-level (1 to 5) | Keep & 1-hot encode |\n",
    "| NATIONALITAET_KZ | Nationality based on given name analysis | Multi-level (1 to 3) | Keep & 1-hot encode |\n",
    "| SHOPPER_TYP | Shopper typology | Multi-level (1 to 3) | Keep & 1-hot encode |\n",
    "| ZABEOTYP | Energy consumption typology | Multi-level (1 to 9) | Keep & 1-hot encode |\n",
    "| GEBAEUDETYP | Type of building (residential vs. commercial) | Multi-level (1 to 8) | Keep & 1-hot encode |\n",
    "| CAMEO_DEUG_2015 | German CAMEO: Wealth / Life Stage Typology, rough scale | Multi-level (1 to 9) | Keep & 1-hot encode |\n",
    "| CAMEO_DEU_2015 | German CAMEO: Wealth / Life Stage Typology, detailed scale | Multi-level (not numeric !) | Drop, data already included in rough scale |"
   ]
  },
  {
   "cell_type": "code",
   "execution_count": 163,
   "metadata": {},
   "outputs": [
    {
     "data": {
      "text/plain": [
       "(771701, 76)"
      ]
     },
     "execution_count": 163,
     "metadata": {},
     "output_type": "execute_result"
    }
   ],
   "source": [
    "# Drop section\n",
    "cols_to_del_2 = ['LP_FAMILIE_FEIN', 'LP_STATUS_FEIN', 'CAMEO_DEU_2015', 'nb_missing_in_row']\n",
    "azdias_pp_subset1 = azdias_pp_subset1.drop(cols_to_del_2, axis=1)\n",
    "azdias_pp_subset1.shape"
   ]
  },
  {
   "cell_type": "code",
   "execution_count": 164,
   "metadata": {},
   "outputs": [],
   "source": [
    "# Re-encode binary as 0/1\n",
    "azdias_pp_subset1['VERS_TYP'] = azdias_pp_subset1['VERS_TYP'].apply(lambda x: 1 if x == 2 else 0 if x == 1 else x)\n",
    "azdias_pp_subset1['OST_WEST_KZ'] = azdias_pp_subset1['OST_WEST_KZ'].apply(lambda x: 1 if x == 'O' else 0 if x == 'W' else x)"
   ]
  },
  {
   "cell_type": "code",
   "execution_count": 165,
   "metadata": {},
   "outputs": [],
   "source": [
    "# Re-encode categorical variable(s) to be kept in the analysis.\n",
    "def encode_categorical(df, one_hot_encode_col_list):\n",
    "    \"\"\"\n",
    "    Transform the given dataset by creating dummy variables for each column in the given list\n",
    "    :parameter df: (pandas Dataframe) the dataframe to transform\n",
    "    :parameter one_hot_encode_col_list: (list) all columns to one-hot encode\n",
    "    :return: (pandas Dataframe) the given dataframe transformed\n",
    "    \"\"\"\n",
    "    for col in one_hot_encode_col_list:\n",
    "        dummies = pd.get_dummies(df[col], prefix=col)\n",
    "        df = pd.concat([df, dummies], axis=1)\n",
    "    \n",
    "    # Do not forget to remove the original columns as they are not needed anymore\n",
    "    df = df.drop(one_hot_encode_col_list, axis=1)\n",
    "    return df"
   ]
  },
  {
   "cell_type": "code",
   "execution_count": 166,
   "metadata": {},
   "outputs": [
    {
     "name": "stdout",
     "output_type": "stream",
     "text": [
      "Shape is now: (771701, 129)\n"
     ]
    }
   ],
   "source": [
    "one_hot_encode_col_list = ['CJT_GESAMTTYP', 'FINANZTYP', 'GFK_URLAUBERTYP', 'LP_FAMILIE_GROB', 'LP_STATUS_GROB', \n",
    "                           'NATIONALITAET_KZ', 'SHOPPER_TYP', 'ZABEOTYP', 'GEBAEUDETYP', 'CAMEO_DEUG_2015']\n",
    "azdias_pp_subset1 = encode_categorical(azdias_pp_subset1, one_hot_encode_col_list)\n",
    "print(\"Shape is now: {}\".format(azdias_pp_subset1.shape))"
   ]
  },
  {
   "cell_type": "code",
   "execution_count": 50,
   "metadata": {
    "scrolled": true
   },
   "outputs": [
    {
     "data": {
      "text/html": [
       "<div>\n",
       "<style scoped>\n",
       "    .dataframe tbody tr th:only-of-type {\n",
       "        vertical-align: middle;\n",
       "    }\n",
       "\n",
       "    .dataframe tbody tr th {\n",
       "        vertical-align: top;\n",
       "    }\n",
       "\n",
       "    .dataframe thead th {\n",
       "        text-align: right;\n",
       "    }\n",
       "</style>\n",
       "<table border=\"1\" class=\"dataframe\">\n",
       "  <thead>\n",
       "    <tr style=\"text-align: right;\">\n",
       "      <th></th>\n",
       "      <th>ALTERSKATEGORIE_GROB</th>\n",
       "      <th>ANREDE_KZ</th>\n",
       "      <th>FINANZ_MINIMALIST</th>\n",
       "      <th>FINANZ_SPARER</th>\n",
       "      <th>FINANZ_VORSORGER</th>\n",
       "      <th>FINANZ_ANLEGER</th>\n",
       "      <th>FINANZ_UNAUFFAELLIGER</th>\n",
       "      <th>FINANZ_HAUSBAUER</th>\n",
       "      <th>GREEN_AVANTGARDE</th>\n",
       "      <th>HEALTH_TYP</th>\n",
       "      <th>...</th>\n",
       "      <th>GEBAEUDETYP_8.0</th>\n",
       "      <th>CAMEO_DEUG_2015_1</th>\n",
       "      <th>CAMEO_DEUG_2015_2</th>\n",
       "      <th>CAMEO_DEUG_2015_3</th>\n",
       "      <th>CAMEO_DEUG_2015_4</th>\n",
       "      <th>CAMEO_DEUG_2015_5</th>\n",
       "      <th>CAMEO_DEUG_2015_6</th>\n",
       "      <th>CAMEO_DEUG_2015_7</th>\n",
       "      <th>CAMEO_DEUG_2015_8</th>\n",
       "      <th>CAMEO_DEUG_2015_9</th>\n",
       "    </tr>\n",
       "  </thead>\n",
       "  <tbody>\n",
       "    <tr>\n",
       "      <th>1</th>\n",
       "      <td>1.0</td>\n",
       "      <td>2</td>\n",
       "      <td>1</td>\n",
       "      <td>5</td>\n",
       "      <td>2</td>\n",
       "      <td>5</td>\n",
       "      <td>4</td>\n",
       "      <td>5</td>\n",
       "      <td>0</td>\n",
       "      <td>3.0</td>\n",
       "      <td>...</td>\n",
       "      <td>1</td>\n",
       "      <td>0</td>\n",
       "      <td>0</td>\n",
       "      <td>0</td>\n",
       "      <td>0</td>\n",
       "      <td>0</td>\n",
       "      <td>0</td>\n",
       "      <td>0</td>\n",
       "      <td>1</td>\n",
       "      <td>0</td>\n",
       "    </tr>\n",
       "    <tr>\n",
       "      <th>2</th>\n",
       "      <td>3.0</td>\n",
       "      <td>2</td>\n",
       "      <td>1</td>\n",
       "      <td>4</td>\n",
       "      <td>1</td>\n",
       "      <td>2</td>\n",
       "      <td>3</td>\n",
       "      <td>5</td>\n",
       "      <td>1</td>\n",
       "      <td>3.0</td>\n",
       "      <td>...</td>\n",
       "      <td>0</td>\n",
       "      <td>0</td>\n",
       "      <td>0</td>\n",
       "      <td>0</td>\n",
       "      <td>1</td>\n",
       "      <td>0</td>\n",
       "      <td>0</td>\n",
       "      <td>0</td>\n",
       "      <td>0</td>\n",
       "      <td>0</td>\n",
       "    </tr>\n",
       "    <tr>\n",
       "      <th>3</th>\n",
       "      <td>4.0</td>\n",
       "      <td>2</td>\n",
       "      <td>4</td>\n",
       "      <td>2</td>\n",
       "      <td>5</td>\n",
       "      <td>2</td>\n",
       "      <td>1</td>\n",
       "      <td>2</td>\n",
       "      <td>0</td>\n",
       "      <td>2.0</td>\n",
       "      <td>...</td>\n",
       "      <td>0</td>\n",
       "      <td>0</td>\n",
       "      <td>1</td>\n",
       "      <td>0</td>\n",
       "      <td>0</td>\n",
       "      <td>0</td>\n",
       "      <td>0</td>\n",
       "      <td>0</td>\n",
       "      <td>0</td>\n",
       "      <td>0</td>\n",
       "    </tr>\n",
       "    <tr>\n",
       "      <th>4</th>\n",
       "      <td>3.0</td>\n",
       "      <td>1</td>\n",
       "      <td>4</td>\n",
       "      <td>3</td>\n",
       "      <td>4</td>\n",
       "      <td>1</td>\n",
       "      <td>3</td>\n",
       "      <td>2</td>\n",
       "      <td>0</td>\n",
       "      <td>3.0</td>\n",
       "      <td>...</td>\n",
       "      <td>0</td>\n",
       "      <td>0</td>\n",
       "      <td>0</td>\n",
       "      <td>0</td>\n",
       "      <td>0</td>\n",
       "      <td>0</td>\n",
       "      <td>1</td>\n",
       "      <td>0</td>\n",
       "      <td>0</td>\n",
       "      <td>0</td>\n",
       "    </tr>\n",
       "    <tr>\n",
       "      <th>5</th>\n",
       "      <td>1.0</td>\n",
       "      <td>2</td>\n",
       "      <td>3</td>\n",
       "      <td>1</td>\n",
       "      <td>5</td>\n",
       "      <td>2</td>\n",
       "      <td>2</td>\n",
       "      <td>5</td>\n",
       "      <td>0</td>\n",
       "      <td>3.0</td>\n",
       "      <td>...</td>\n",
       "      <td>0</td>\n",
       "      <td>0</td>\n",
       "      <td>0</td>\n",
       "      <td>0</td>\n",
       "      <td>0</td>\n",
       "      <td>0</td>\n",
       "      <td>0</td>\n",
       "      <td>0</td>\n",
       "      <td>1</td>\n",
       "      <td>0</td>\n",
       "    </tr>\n",
       "  </tbody>\n",
       "</table>\n",
       "<p>5 rows × 129 columns</p>\n",
       "</div>"
      ],
      "text/plain": [
       "   ALTERSKATEGORIE_GROB  ANREDE_KZ  FINANZ_MINIMALIST  FINANZ_SPARER  \\\n",
       "1                   1.0          2                  1              5   \n",
       "2                   3.0          2                  1              4   \n",
       "3                   4.0          2                  4              2   \n",
       "4                   3.0          1                  4              3   \n",
       "5                   1.0          2                  3              1   \n",
       "\n",
       "   FINANZ_VORSORGER  FINANZ_ANLEGER  FINANZ_UNAUFFAELLIGER  FINANZ_HAUSBAUER  \\\n",
       "1                 2               5                      4                 5   \n",
       "2                 1               2                      3                 5   \n",
       "3                 5               2                      1                 2   \n",
       "4                 4               1                      3                 2   \n",
       "5                 5               2                      2                 5   \n",
       "\n",
       "   GREEN_AVANTGARDE  HEALTH_TYP        ...          GEBAEUDETYP_8.0  \\\n",
       "1                 0         3.0        ...                        1   \n",
       "2                 1         3.0        ...                        0   \n",
       "3                 0         2.0        ...                        0   \n",
       "4                 0         3.0        ...                        0   \n",
       "5                 0         3.0        ...                        0   \n",
       "\n",
       "   CAMEO_DEUG_2015_1  CAMEO_DEUG_2015_2  CAMEO_DEUG_2015_3  CAMEO_DEUG_2015_4  \\\n",
       "1                  0                  0                  0                  0   \n",
       "2                  0                  0                  0                  1   \n",
       "3                  0                  1                  0                  0   \n",
       "4                  0                  0                  0                  0   \n",
       "5                  0                  0                  0                  0   \n",
       "\n",
       "   CAMEO_DEUG_2015_5  CAMEO_DEUG_2015_6  CAMEO_DEUG_2015_7  CAMEO_DEUG_2015_8  \\\n",
       "1                  0                  0                  0                  1   \n",
       "2                  0                  0                  0                  0   \n",
       "3                  0                  0                  0                  0   \n",
       "4                  0                  1                  0                  0   \n",
       "5                  0                  0                  0                  1   \n",
       "\n",
       "   CAMEO_DEUG_2015_9  \n",
       "1                  0  \n",
       "2                  0  \n",
       "3                  0  \n",
       "4                  0  \n",
       "5                  0  \n",
       "\n",
       "[5 rows x 129 columns]"
      ]
     },
     "execution_count": 50,
     "metadata": {},
     "output_type": "execute_result"
    }
   ],
   "source": [
    "azdias_pp_subset1.head()"
   ]
  },
  {
   "cell_type": "markdown",
   "metadata": {},
   "source": [
    "---\n",
    "#### Discussion 1.2.1: Re-Encode Categorical Features\n",
    "\n",
    "There were some categorical features that have already been deleted with previous analysis (for example `TITEL_KZ`, `AGER_TYP`). All others have been analyzed one by one and you can see the decision made for each one in the table above.  \n",
    "Basically:\n",
    "* all binary features have been kept as the effort is small (pay attention though to the `OST_WEST_KZ` column wich is binary but not numeric => re-encoded as 0/1 with an apply method)\n",
    "* redundant features have been dropped when the information was already present: it is the case for some features where the same data is put on different scales. The simplest one has been kept.\n",
    "\n",
    "---"
   ]
  },
  {
   "cell_type": "markdown",
   "metadata": {},
   "source": [
    "#### Step 1.2.2: Engineer Mixed-Type Features\n",
    "\n",
    "There are a handful of features that are marked as \"mixed\" in the feature summary that require special treatment in order to be included in the analysis. There are two in particular that deserve attention; the handling of the rest are up to your own choices:\n",
    "- \"PRAEGENDE_JUGENDJAHRE\" combines information on three dimensions: generation by decade, movement (mainstream vs. avantgarde), and nation (east vs. west). While there aren't enough levels to disentangle east from west, you should create two new variables to capture the other two dimensions: an interval-type variable for decade, and a binary variable for movement.\n",
    "- \"CAMEO_INTL_2015\" combines information on two axes: wealth and life stage. Break up the two-digit codes by their 'tens'-place and 'ones'-place digits into two new ordinal variables (which, for the purposes of this project, is equivalent to just treating them as their raw numeric values).\n",
    "- If you decide to keep or engineer new features around the other mixed-type features, make sure you note your steps in the Discussion section.\n",
    "\n",
    "Be sure to check `Data_Dictionary.md` for the details needed to finish these tasks."
   ]
  },
  {
   "cell_type": "code",
   "execution_count": 51,
   "metadata": {},
   "outputs": [
    {
     "data": {
      "text/plain": [
       "['LP_LEBENSPHASE_FEIN',\n",
       " 'LP_LEBENSPHASE_GROB',\n",
       " 'PRAEGENDE_JUGENDJAHRE',\n",
       " 'WOHNLAGE',\n",
       " 'CAMEO_INTL_2015',\n",
       " 'KBA05_BAUMAX',\n",
       " 'PLZ8_BAUMAX']"
      ]
     },
     "execution_count": 51,
     "metadata": {},
     "output_type": "execute_result"
    }
   ],
   "source": [
    "feat_info[feat_info['type'] == 'mixed'].attribute.tolist()"
   ]
  },
  {
   "cell_type": "markdown",
   "metadata": {},
   "source": [
    "Note that `KBA05_BAUMAX` has already been dropped as per previous analysis on missing values.\n",
    "\n",
    "| Column | Description | Decision |\n",
    "| --- | --- | --- |\n",
    "| LP_LEBENSPHASE_FEIN | Life stage, fine scale | Drop, data already included in rough scale |\n",
    "| LP_LEBENSPHASE_GROB | Life stage, rough scale | Drop also, seems to be a combination of some other features (age, income, etc) |\n",
    "| PRAEGENDE_JUGENDJAHRE | generation by decade, movement (mainstream vs. avantgarde), and nation  | Keep, it is asked in the project to keep it |\n",
    "| WOHNLAGE | Neighborhood quality (or rural flag) | Create an interval from _very good_ to _very poor_ for the neighborhood and another feature binary telling whether it is a new building or not in case the value is 8 |\n",
    "| CAMEO_INTL_2015 | Wealth and life stage | Keep and deal with it |\n",
    "| PLZ8_BAUMAX | Most common building type within the PLZ8 region (interval for family homes or business) | Drop, could be a combination of `PLZ8_GBZ` and `PLZ8_ANTGx` |"
   ]
  },
  {
   "cell_type": "markdown",
   "metadata": {},
   "source": [
    "##### Investigate \"PRAEGENDE_JUGENDJAHRE\" and engineer two new variables.\n",
    "From Dictionnary.md we have:\n",
    "-  1: 40s - war years (Mainstream, E+W)\n",
    "-  2: 40s - reconstruction years (Avantgarde, E+W)\n",
    "-  3: 50s - economic miracle (Mainstream, E+W)\n",
    "-  4: 50s - milk bar / Individualisation (Avantgarde, E+W)\n",
    "-  5: 60s - economic miracle (Mainstream, E+W)\n",
    "-  6: 60s - generation 68 / student protestors (Avantgarde, W)\n",
    "-  7: 60s - opponents to the building of the Wall (Avantgarde, E)\n",
    "-  8: 70s - family orientation (Mainstream, E+W)\n",
    "-  9: 70s - peace movement (Avantgarde, E+W)\n",
    "- 10: 80s - Generation Golf (Mainstream, W)\n",
    "- 11: 80s - ecological awareness (Avantgarde, W)\n",
    "- 12: 80s - FDJ / communist party youth organisation (Mainstream, E)\n",
    "- 13: 80s - Swords into ploughshares (Avantgarde, E)\n",
    "- 14: 90s - digital media kids (Mainstream, E+W)\n",
    "- 15: 90s - ecological awareness (Avantgarde, E+W)\n",
    "\n",
    "Goal: it contains generation by decade, movement (mainstream vs. avantgarde), and nation (east vs. west) ==> create two new variables to capture 2 dimensions: an interval-type variable for decade, and a binary variable for movement."
   ]
  },
  {
   "cell_type": "code",
   "execution_count": 52,
   "metadata": {},
   "outputs": [],
   "source": [
    "def engineer_praegende_jugendjarhe(df):\n",
    "    \"\"\"\n",
    "    Handle the 'PRAEGENDE_JUGENDJAHRE' column by creating 2 new columns:\n",
    "        'movement' which is binary (0 stands for mainstream movement, 1 for avantgarde)\n",
    "        'decade' which is an interval from 1 to 6 for the decade (from 40s to 90s)\n",
    "    :parameter df: (pandas Dataframe) the dataframe to transform\n",
    "    :return: (pandas Dataframe) the dataframe transformed\n",
    "    \"\"\"\n",
    "    mainstream_col_values = [1, 3, 5, 8, 10, 12, 14]\n",
    "    interval_decade = {1: 1, 2:1, 3:2, 4:2, 5:3, 6:3, 7:3, 8:4, 9:4, 10:5, 11:5, 12:5, 13:5, 14:6, 15:6, 16:6}\n",
    "\n",
    "    df[\"movement\"] = df['PRAEGENDE_JUGENDJAHRE'].apply(lambda x: 0 if x in mainstream_col_values else 1 if str(x) != 'nan' else np.NaN)\n",
    "    df[\"decade\"] = df['PRAEGENDE_JUGENDJAHRE'].apply(lambda x: interval_decade[x] if str(x) != 'nan' else np.NaN)\n",
    "    df = df.drop(['PRAEGENDE_JUGENDJAHRE'], axis=1)\n",
    "    \n",
    "    return df"
   ]
  },
  {
   "cell_type": "code",
   "execution_count": 53,
   "metadata": {},
   "outputs": [
    {
     "name": "stdout",
     "output_type": "stream",
     "text": [
      "   PRAEGENDE_JUGENDJAHRE\n",
      "1                   14.0\n",
      "2                   15.0\n",
      "3                    8.0\n",
      "4                    8.0\n",
      "5                    3.0\n",
      "6                   10.0\n",
      "7                    8.0\n",
      "   movement  decade\n",
      "1       0.0     6.0\n",
      "2       1.0     6.0\n",
      "3       0.0     4.0\n",
      "4       0.0     4.0\n",
      "5       0.0     2.0\n",
      "6       0.0     5.0\n",
      "7       0.0     4.0\n",
      "Shape is now: (771701, 130)\n"
     ]
    }
   ],
   "source": [
    "# Sanity check around the method call\n",
    "print(azdias_pp_subset1[['PRAEGENDE_JUGENDJAHRE']].head(7))\n",
    "azdias_pp_subset1 = engineer_praegende_jugendjarhe(azdias_pp_subset1)\n",
    "print(azdias_pp_subset1[[\"movement\", \"decade\"]].head(7))\n",
    "print(\"Shape is now: {}\".format(azdias_pp_subset1.shape))"
   ]
  },
  {
   "cell_type": "markdown",
   "metadata": {},
   "source": [
    "##### Investigate \"CAMEO_INTL_2015\" and engineer two new variables.\n",
    "From Dictionnary.md we have:\n",
    "- 11: Wealthy Households - Pre-Family Couples & Singles\n",
    "- 12: Wealthy Households - Young Couples With Children\n",
    "- 13: Wealthy Households - Families With School Age Children\n",
    "- 14: Wealthy Households - Older Families &  Mature Couples\n",
    "- 15: Wealthy Households - Elders In Retirement\n",
    "- 21: Prosperous Households - Pre-Family Couples & Singles\n",
    "- 22: Prosperous Households - Young Couples With Children\n",
    "- 23: Prosperous Households - Families With School Age Children\n",
    "- 24: Prosperous Households - Older Families & Mature Couples\n",
    "- 25: Prosperous Households - Elders In Retirement\n",
    "- 31: Comfortable Households - Pre-Family Couples & Singles\n",
    "- 32: Comfortable Households - Young Couples With Children\n",
    "- 33: Comfortable Households - Families With School Age Children\n",
    "- 34: Comfortable Households - Older Families & Mature Couples\n",
    "- 35: Comfortable Households - Elders In Retirement\n",
    "- 41: Less Affluent Households - Pre-Family Couples & Singles\n",
    "- 42: Less Affluent Households - Young Couples With Children\n",
    "- 43: Less Affluent Households - Families With School Age Children\n",
    "- 44: Less Affluent Households - Older Families & Mature Couples\n",
    "- 45: Less Affluent Households - Elders In Retirement\n",
    "- 51: Poorer Households - Pre-Family Couples & Singles\n",
    "- 52: Poorer Households - Young Couples With Children\n",
    "- 53: Poorer Households - Families With School Age Children\n",
    "- 54: Poorer Households - Older Families & Mature Couples\n",
    "- 55: Poorer Households - Elders In Retirement\n",
    "\n",
    "Goal: it contains wealth and life stage ==> Break up the two-digit codes by their 'tens'-place and 'ones'-place digits into two new ordinal variables (which, for the purposes of this project, is equivalent to just treating them as their raw numeric values)."
   ]
  },
  {
   "cell_type": "code",
   "execution_count": 54,
   "metadata": {},
   "outputs": [],
   "source": [
    "def engineer_cameo_intl(df):\n",
    "    \"\"\"\n",
    "    Handle the 'CAMEO_INTL_2015' column by creating 2 new columns:\n",
    "        'wealth' which is ordinal (1 to 5 - from Wealthy to Poorer Households)\n",
    "        'lifestage' which is ordinal too (1 to 5)\n",
    "    :parameter df: (pandas Dataframe) the dataframe to transform\n",
    "    :return: (pandas Dataframe) the dataframe transformed\n",
    "    \"\"\"\n",
    "    df[\"wealth\"] = df['CAMEO_INTL_2015'].apply(lambda x: int(int(x)/10) if str(x) != 'nan' else np.NaN)\n",
    "    df[\"lifestage\"] = df['CAMEO_INTL_2015'].apply(lambda x: int(x)%10 if str(x) != 'nan' else np.NaN)\n",
    "    df = df.drop(['CAMEO_INTL_2015'], axis=1)\n",
    "    \n",
    "    return df"
   ]
  },
  {
   "cell_type": "code",
   "execution_count": 55,
   "metadata": {},
   "outputs": [
    {
     "name": "stdout",
     "output_type": "stream",
     "text": [
      "  CAMEO_INTL_2015\n",
      "1              51\n",
      "2              24\n",
      "3              12\n",
      "4              43\n",
      "5              54\n",
      "6              22\n",
      "7              14\n",
      "   wealth  lifestage\n",
      "1     5.0        1.0\n",
      "2     2.0        4.0\n",
      "3     1.0        2.0\n",
      "4     4.0        3.0\n",
      "5     5.0        4.0\n",
      "6     2.0        2.0\n",
      "7     1.0        4.0\n",
      "Shape is now: (771701, 131)\n"
     ]
    }
   ],
   "source": [
    "# Sanity check around the method call\n",
    "print(azdias_pp_subset1[['CAMEO_INTL_2015']].head(7))\n",
    "azdias_pp_subset1 = engineer_cameo_intl(azdias_pp_subset1)\n",
    "print(azdias_pp_subset1[[\"wealth\", \"lifestage\"]].head(7))\n",
    "print(\"Shape is now: {}\".format(azdias_pp_subset1.shape))"
   ]
  },
  {
   "cell_type": "markdown",
   "metadata": {},
   "source": [
    "##### Investigate \"WOHNLAGE\" and engineer two new variables.\n",
    "From Dictionnary.md we have:\n",
    "-  1: very good neighborhood\n",
    "-  2: good neighborhood\n",
    "-  3: average neighborhood\n",
    "-  4: poor neighborhood\n",
    "-  5: very poor neighborhood\n",
    "-  7: rural neighborhood\n",
    "-  8: new building in rural neighborhood\n"
   ]
  },
  {
   "cell_type": "code",
   "execution_count": 56,
   "metadata": {},
   "outputs": [],
   "source": [
    "def engineer_wohnlage(df):\n",
    "    \"\"\"\n",
    "    Handle the 'WOHNLAGE' column by creating 2 new columns:\n",
    "        'neighborhood' which is ordinal (1 to 7 - from very good to rural)\n",
    "        'new_building' which is binary (1 if value is 8, all others goes to 0)\n",
    "    :parameter df: (pandas Dataframe) the dataframe to transform\n",
    "    :return: (pandas Dataframe) the dataframe transformed\n",
    "    \"\"\"\n",
    "    df[\"neighborhood\"] = df['WOHNLAGE'].apply(lambda x: 7 if x == 8 else x if str(x) != 'nan' else np.NaN)\n",
    "    df[\"new_building\"] = df['WOHNLAGE'].apply(lambda x: 1 if x == 8 else 0 if str(x) != 'nan' else np.NaN)\n",
    "    df = df.drop(['WOHNLAGE'], axis=1)\n",
    "    \n",
    "    return df"
   ]
  },
  {
   "cell_type": "code",
   "execution_count": 57,
   "metadata": {},
   "outputs": [],
   "source": [
    "# azdias_pp_subset1[['WOHNLAGE']].isna().sum() ==> 0\n",
    "# azdias_pp_subset1[azdias_pp_subset1['WOHNLAGE'] == 8].shape[0] ==> 14405\n",
    "# azdias_pp_subset1['WOHNLAGE'].sum() ==> 3134149"
   ]
  },
  {
   "cell_type": "code",
   "execution_count": 58,
   "metadata": {},
   "outputs": [
    {
     "name": "stdout",
     "output_type": "stream",
     "text": [
      "   WOHNLAGE\n",
      "1       4.0\n",
      "2       2.0\n",
      "3       7.0\n",
      "4       3.0\n",
      "5       7.0\n",
      "6       5.0\n",
      "7       1.0\n",
      "   neighborhood  new_building\n",
      "1           4.0             0\n",
      "2           2.0             0\n",
      "3           7.0             0\n",
      "4           3.0             0\n",
      "5           7.0             0\n",
      "6           5.0             0\n",
      "7           1.0             0\n",
      "Shape is now: (771701, 132)\n"
     ]
    }
   ],
   "source": [
    "# Sanity check around the method call\n",
    "print(azdias_pp_subset1[['WOHNLAGE']].head(7))\n",
    "azdias_pp_subset1 = engineer_wohnlage(azdias_pp_subset1)\n",
    "print(azdias_pp_subset1[[\"neighborhood\", \"new_building\"]].head(7))\n",
    "print(\"Shape is now: {}\".format(azdias_pp_subset1.shape))"
   ]
  },
  {
   "cell_type": "code",
   "execution_count": 59,
   "metadata": {},
   "outputs": [
    {
     "name": "stdout",
     "output_type": "stream",
     "text": [
      "14405\n",
      "3119744.0\n"
     ]
    }
   ],
   "source": [
    "# Sanity check\n",
    "print(azdias_pp_subset1['new_building'].sum()) # Should print 14405 (same number as '8' values in the original column)\n",
    "print(azdias_pp_subset1['neighborhood'].sum()) # Should print 3134149 - 14405 = 3119744 ('8' values are converted to '7' so it is the original value - the number of '8' values)"
   ]
  },
  {
   "cell_type": "code",
   "execution_count": 60,
   "metadata": {},
   "outputs": [
    {
     "name": "stdout",
     "output_type": "stream",
     "text": [
      "Shape is now: (771701, 129)\n"
     ]
    }
   ],
   "source": [
    "# Do not forget to remove others mixed-type columns\n",
    "mixedtype_to_delete = ['LP_LEBENSPHASE_FEIN', 'LP_LEBENSPHASE_GROB', 'PLZ8_BAUMAX']\n",
    "azdias_pp_subset1 = azdias_pp_subset1.drop(mixedtype_to_delete, axis=1)\n",
    "print(\"Shape is now: {}\".format(azdias_pp_subset1.shape))"
   ]
  },
  {
   "cell_type": "markdown",
   "metadata": {},
   "source": [
    "---\n",
    "#### Discussion 1.2.2: Engineer Mixed-Type Features\n",
    "Among the 6 mixed-type, columns, 3 are dropped because information seems to be redundant with other features we have (Life stage, fine and rough scales with `LP_LEBENSPHASE_FEIN` and `LP_LEBENSPHASE_GROS` features + `PLZ8_BAUMAX`).  \n",
    "The 3 others are kept and each column gets its own transformation process through _apply_ method overall the whole dataset:\n",
    "* `PRAEGENDE_JUGENDJAHRE` is dropped and replaced by 2 new columns: _'decade'_ which holds the generation by decade information and _'movement'_ which is binary (0 for mainstream vs. 1 for avantgarde)\n",
    "* `WOHNLAGE` is dropped and replaced by 2 new columns: _'neighborhood'_ which is ordinal (1 to 7 - from very good to rural) and _'new_building'_ which is binary (1 if value is 8, all others goes to 0)\n",
    "* `CAMEO_INTL_2015` is dropped and replaced by 2 new columns: _'wealth'_ which is ordinal (1 to 5 - from Wealthy to Poorer Households) and _'lifestage'_ which is ordinal too (from 1 to 5)\n",
    "\n",
    "---"
   ]
  },
  {
   "cell_type": "markdown",
   "metadata": {},
   "source": [
    "#### Step 1.2.3: Complete Feature Selection\n",
    "\n",
    "In order to finish this step up, you need to make sure that your data frame now only has the columns that you want to keep. To summarize, the dataframe should consist of the following:\n",
    "- All numeric, interval, and ordinal type columns from the original dataset.\n",
    "- Binary categorical features (all numerically-encoded).\n",
    "- Engineered features from other multi-level categorical features and mixed features.\n",
    "\n",
    "Make sure that for any new columns that you have engineered, that you've excluded the original columns from the final dataset. Otherwise, their values will interfere with the analysis later on the project. For example, you should not keep \"PRAEGENDE_JUGENDJAHRE\", since its values won't be useful for the algorithm: only the values derived from it in the engineered features you created should be retained. As a reminder, your data should only be from **the subset with few or no missing values**."
   ]
  },
  {
   "cell_type": "code",
   "execution_count": 61,
   "metadata": {},
   "outputs": [
    {
     "name": "stdout",
     "output_type": "stream",
     "text": [
      "Check finished !\n"
     ]
    }
   ],
   "source": [
    "# Do whatever you need to in order to ensure that the dataframe only contains\n",
    "# the columns that should be passed to the algorithm functions.\n",
    "mixed_cols_removed = feat_info[feat_info['type'] == 'mixed'].attribute.tolist()\n",
    "for col in azdias_pp_subset1.columns:\n",
    "    if col in mixed_cols_removed:\n",
    "        print(\"Column {} should have been deleted !\".format(col))\n",
    "print(\"Check finished !\")"
   ]
  },
  {
   "cell_type": "markdown",
   "metadata": {},
   "source": [
    "### Step 1.3: Create a Cleaning Function\n",
    "\n",
    "Even though you've finished cleaning up the general population demographics data, it's important to look ahead to the future and realize that you'll need to perform the same cleaning steps on the customer demographics data. In this substep, complete the function below to execute the main feature selection, encoding, and re-engineering steps you performed above. Then, when it comes to looking at the customer data in Step 3, you can just run this function on that DataFrame to get the trimmed dataset in a single step."
   ]
  },
  {
   "cell_type": "code",
   "execution_count": 174,
   "metadata": {},
   "outputs": [],
   "source": [
    "def clean_data(df, feat_info, treshold, use_treshold=False):\n",
    "    \"\"\"\n",
    "    Perform feature trimming, re-encoding, and engineering for demographics\n",
    "    data\n",
    "    \n",
    "    INPUT: Demographics DataFrame + features_info DataFrame\n",
    "    OUTPUT: Trimmed and cleaned demographics DataFrame\n",
    "    \"\"\"\n",
    "    df_clean = df.copy()\n",
    "\n",
    "    # convert missing value codes into NaNs, ...\n",
    "    df_clean = replace_missing_with_NaN(df_clean, feat_info)\n",
    "    \n",
    "    # remove selected columns and rows, ...\n",
    "    cols_to_del = ['TITEL_KZ', 'AGER_TYP', 'KK_KUNDENTYP', 'KBA05_BAUMAX', 'GEBURTSJAHR', 'ALTER_HH']\n",
    "    df_clean = df_clean.drop(cols_to_del, axis=1)\n",
    "\n",
    "    if use_treshold:\n",
    "        df_clean['nb_missing_in_row'] = df_clean.isnull().sum(axis=1).sort_values(ascending=False)\n",
    "        df_clean = df_clean[df_clean['nb_missing_in_row'] <= treshold]\n",
    "        df_clean = df_clean.drop(['nb_missing_in_row'], axis=1)\n",
    "        \n",
    "    cols_to_del2 = ['LP_FAMILIE_FEIN', 'LP_STATUS_FEIN', 'CAMEO_DEU_2015']\n",
    "    df_clean = df_clean.drop(cols_to_del2, axis=1)\n",
    "\n",
    "    # select, re-encode, and engineer column values.\n",
    "    # Re-encode binary as 0/1\n",
    "    df_clean['VERS_TYP'] = df_clean['VERS_TYP'].apply(lambda x: 1 if x == 2 else 0 if x == 1 else x)\n",
    "    df_clean['OST_WEST_KZ'] = df_clean['OST_WEST_KZ'].apply(lambda x: 1 if x == 'O' else 0 if x == 'W' else x)\n",
    "\n",
    "    # Handle features to 1-hot encode\n",
    "    one_hot_encode_col_list = ['CJT_GESAMTTYP', 'FINANZTYP', 'GFK_URLAUBERTYP', 'LP_FAMILIE_GROB', 'LP_STATUS_GROB', \n",
    "                               'NATIONALITAET_KZ', 'SHOPPER_TYP', 'ZABEOTYP', 'GEBAEUDETYP', 'CAMEO_DEUG_2015']\n",
    "    df_clean = encode_categorical(df_clean, one_hot_encode_col_list)\n",
    "    \n",
    "    # Handle some mixed-type features\n",
    "    df_clean = engineer_praegende_jugendjarhe(df_clean)\n",
    "    df_clean = engineer_cameo_intl(df_clean)\n",
    "    df_clean = engineer_wohnlage(df_clean)\n",
    "    mixedtype_to_delete = ['LP_LEBENSPHASE_FEIN', 'LP_LEBENSPHASE_GROB', 'PLZ8_BAUMAX']\n",
    "    df_clean = df_clean.drop(mixedtype_to_delete, axis=1)\n",
    "    \n",
    "    # Return the cleaned dataframe.\n",
    "    return df_clean"
   ]
  },
  {
   "cell_type": "markdown",
   "metadata": {},
   "source": [
    "## Step 2: Feature Transformation\n",
    "\n",
    "### Step 2.1: Apply Feature Scaling\n",
    "\n",
    "Before we apply dimensionality reduction techniques to the data, we need to perform feature scaling so that the principal component vectors are not influenced by the natural differences in scale for features. Starting from this part of the project, you'll want to keep an eye on the [API reference page for sklearn](http://scikit-learn.org/stable/modules/classes.html) to help you navigate to all of the classes and functions that you'll need. In this substep, you'll need to check the following:\n",
    "\n",
    "- sklearn requires that data not have missing values in order for its estimators to work properly. So, before applying the scaler to your data, make sure that you've cleaned the DataFrame of the remaining missing values. This can be as simple as just removing all data points with missing data, or applying an [Imputer](http://scikit-learn.org/stable/modules/generated/sklearn.preprocessing.Imputer.html) to replace all missing values. You might also try a more complicated procedure where you temporarily remove missing values in order to compute the scaling parameters before re-introducing those missing values and applying imputation. Think about how much missing data you have and what possible effects each approach might have on your analysis, and justify your decision in the discussion section below.\n",
    "- For the actual scaling function, a [StandardScaler](http://scikit-learn.org/stable/modules/generated/sklearn.preprocessing.StandardScaler.html) instance is suggested, scaling each feature to mean 0 and standard deviation 1.\n",
    "- For these classes, you can make use of the `.fit_transform()` method to both fit a procedure to the data as well as apply the transformation to the data at the same time. Don't forget to keep the fit sklearn objects handy, since you'll be applying them to the customer demographics data towards the end of the project."
   ]
  },
  {
   "cell_type": "markdown",
   "metadata": {},
   "source": [
    "#### If you've not yet cleaned the dataset of all NaN values, then investigate and do that now."
   ]
  },
  {
   "cell_type": "code",
   "execution_count": 176,
   "metadata": {},
   "outputs": [
    {
     "name": "stdout",
     "output_type": "stream",
     "text": [
      "(771701, 129)\n",
      "CPU times: user 46.9 s, sys: 16.1 s, total: 1min 3s\n",
      "Wall time: 1min 3s\n"
     ]
    }
   ],
   "source": [
    "%%time\n",
    "# Check our cleaning method works fine (we should have 771701 rows and 129 columns in the end)\n",
    "azdias_clean = clean_data(azdias, feat_info, treshold=8, use_treshold=True)\n",
    "print(azdias_clean.shape)"
   ]
  },
  {
   "cell_type": "code",
   "execution_count": 178,
   "metadata": {
    "scrolled": false
   },
   "outputs": [],
   "source": [
    "# Uncomment this cell to display a list of columns that contains missing values\n",
    "# azdias_clean.isna().sum().sort_values(ascending=False).reset_index().head(40)"
   ]
  },
  {
   "cell_type": "markdown",
   "metadata": {},
   "source": [
    "Apart from `ANZ_HAUSHALTE_AKTIV, KBA13_ANZAHL_PKW, ANZ_HH_TITEL` which are _numeric_ all other columns are either _ordinal_ either _categorical_."
   ]
  },
  {
   "cell_type": "code",
   "execution_count": 65,
   "metadata": {},
   "outputs": [
    {
     "data": {
      "text/plain": [
       "'0.19.1'"
      ]
     },
     "execution_count": 65,
     "metadata": {},
     "output_type": "execute_result"
    }
   ],
   "source": [
    "import sklearn\n",
    "sklearn.__version__"
   ]
  },
  {
   "cell_type": "code",
   "execution_count": 179,
   "metadata": {},
   "outputs": [
    {
     "name": "stdout",
     "output_type": "stream",
     "text": [
      "(771701, 129)\n",
      "(771701, 129)\n"
     ]
    }
   ],
   "source": [
    "# Apply feature scaling to the general population demographics data.\n",
    "feat_imp = Imputer(missing_values=\"NaN\", strategy=\"median\") #give a try to 'most_frequent' also\n",
    "azdias_imputed = feat_imp.fit_transform(azdias_clean)\n",
    "\n",
    "feat_scaler = StandardScaler()\n",
    "azdias_scaled = feat_scaler.fit_transform(azdias_imputed)\n",
    "\n",
    "print(azdias_imputed.shape)\n",
    "print(azdias_scaled.shape)"
   ]
  },
  {
   "cell_type": "markdown",
   "metadata": {},
   "source": [
    "---\n",
    "### Discussion 2.1: Apply Feature Scaling\n",
    "First thing is to take care of missing values: we cannot just simply get rid of all samples that contains missing values because we have seen earlier that distribution of values in some columns are really different. We have already removed a lot by dropping all rows containing more than 8 missing values, removing any data point with missing value would introduce a bias in our work.\n",
    "\n",
    "Note that with a more recent of sklearn I would have use [ColumnTransformer](https://scikit-learn.org/stable/modules/generated/sklearn.compose.ColumnTransformer.html#sklearn.compose.ColumnTransformer) to build a pipeline:\n",
    "```\n",
    "numeric_features = ['ANZ_HAUSHALTE_AKTIV', 'KBA13_ANZAHL_PKW', 'ANZ_HH_TITEL']\n",
    "cat_ord_features = [x for x in azdias_clean.columns if x not in numeric_features]\n",
    "\n",
    "numeric_transformer = Pipeline(steps=[\n",
    "    ('imputer', SimpleImputer(strategy='median')),\n",
    "    ('scaler', StandardScaler())])\n",
    "\n",
    "cat_ord__transformer = Pipeline(steps=[\n",
    "    ('imputer', SimpleImputer(strategy='most_frequent')),\n",
    "    ('scaler', StandardScaler())])\n",
    "\n",
    "ct = ColumnTransformer(transformers=[\n",
    "        ('num', numeric_transformer, numeric_features),\n",
    "        ('cat', cat_ord__transformer, cat_ord_features)])\n",
    "cf.fit_transform(azdias_clean)\n",
    "```\n",
    "\n",
    "Instead of that, with what I have at disposal in this version and to keep things easy I will go for `median` or `most_frequent` for all columns, no matter if they are numeric or categorical/ordinal. This will introduce a bias but it remains better than just dropping everything ang get huge data information loss.\n",
    "\n",
    "---"
   ]
  },
  {
   "cell_type": "markdown",
   "metadata": {},
   "source": [
    "### Step 2.2: Perform Dimensionality Reduction\n",
    "\n",
    "On your scaled data, you are now ready to apply dimensionality reduction techniques.\n",
    "\n",
    "- Use sklearn's [PCA](http://scikit-learn.org/stable/modules/generated/sklearn.decomposition.PCA.html) class to apply principal component analysis on the data, thus finding the vectors of maximal variance in the data. To start, you should not set any parameters (so all components are computed) or set a number of components that is at least half the number of features (so there's enough features to see the general trend in variability).\n",
    "- Check out the ratio of variance explained by each principal component as well as the cumulative variance explained. Try plotting the cumulative or sequential values using matplotlib's [`plot()`](https://matplotlib.org/api/_as_gen/matplotlib.pyplot.plot.html) function. Based on what you find, select a value for the number of transformed features you'll retain for the clustering part of the project.\n",
    "- Once you've made a choice for the number of components to keep, make sure you re-fit a PCA instance to perform the decided-on transformation."
   ]
  },
  {
   "cell_type": "code",
   "execution_count": 180,
   "metadata": {},
   "outputs": [],
   "source": [
    "# Apply PCA to the data.\n",
    "pca = PCA()\n",
    "X_pca = pca.fit_transform(azdias_scaled)"
   ]
  },
  {
   "cell_type": "code",
   "execution_count": 181,
   "metadata": {},
   "outputs": [
    {
     "data": {
      "image/png": "[encoded data removed]",
      "text/plain": [
       "<matplotlib.figure.Figure at 0x7f86313fcb00>"
      ]
     },
     "metadata": {
      "needs_background": "light"
     },
     "output_type": "display_data"
    }
   ],
   "source": [
    "# Investigate the variance accounted for by each principal component.\n",
    "def scree_plot(pca):\n",
    "    '''\n",
    "    Creates a scree plot associated with the principal components (copied from helper file in lessons)\n",
    "    \n",
    "    :parameter pca: (object) the result of PCA method call in scikit learn\n",
    "    '''\n",
    "    num_components = len(pca.explained_variance_ratio_)\n",
    "    ind = np.arange(num_components)\n",
    "    vals = pca.explained_variance_ratio_\n",
    " \n",
    "    plt.figure(figsize=(15, 8))\n",
    "    ax = plt.subplot(111)\n",
    "    cumvals = np.cumsum(vals)\n",
    "    ax.bar(ind, vals)\n",
    "    ax.plot(ind, cumvals)\n",
    " \n",
    "    ax.set_xlabel(\"Principal Component\")\n",
    "    ax.set_ylabel(\"Variance Explained (%)\")\n",
    "    plt.title('Explained Variance Per Principal Component')\n",
    "\n",
    "scree_plot(pca)"
   ]
  },
  {
   "cell_type": "code",
   "execution_count": 183,
   "metadata": {},
   "outputs": [],
   "source": [
    "# Re-apply PCA to the data while selecting for number of components to retain.\n",
    "pca = PCA(n_components=80)\n",
    "X_pca = pca.fit_transform(azdias_scaled)"
   ]
  },
  {
   "cell_type": "markdown",
   "metadata": {},
   "source": [
    "---\n",
    "### Discussion 2.2: Perform Dimensionality Reduction\n",
    "\n",
    "***Observation:*** with 80 components, we can reach more than 93% of the variance explained. It seems to be a good choice as the 49 other components will hold the remaining 7%.\n",
    "\n",
    "---"
   ]
  },
  {
   "cell_type": "markdown",
   "metadata": {},
   "source": [
    "### Step 2.3: Interpret Principal Components\n",
    "\n",
    "Now that we have our transformed principal components, it's a nice idea to check out the weight of each variable on the first few components to see if they can be interpreted in some fashion.\n",
    "\n",
    "As a reminder, each principal component is a unit vector that points in the direction of highest variance (after accounting for the variance captured by earlier principal components). The further a weight is from zero, the more the principal component is in the direction of the corresponding feature. If two features have large weights of the same sign (both positive or both negative), then increases in one tend expect to be associated with increases in the other. To contrast, features with different signs can be expected to show a negative correlation: increases in one variable should result in a decrease in the other.\n",
    "\n",
    "- To investigate the features, you should map each weight to their corresponding feature name, then sort the features according to weight. The most interesting features for each principal component, then, will be those at the beginning and end of the sorted list. Use the data dictionary document to help you understand these most prominent features, their relationships, and what a positive or negative value on the principal component might indicate.\n",
    "- You should investigate and interpret feature associations from the first three principal components in this substep. To help facilitate this, you should write a function that you can call at any time to print the sorted list of feature weights, for the *i*-th principal component. This might come in handy in the next step of the project, when you interpret the tendencies of the discovered clusters."
   ]
  },
  {
   "cell_type": "code",
   "execution_count": 184,
   "metadata": {
    "scrolled": true
   },
   "outputs": [],
   "source": [
    "def sort_pca_weight(component_idx, nb_most_important):\n",
    "    \"\"\"\n",
    "    Given a component index, display the 'nb_most_important' features weight for this component\n",
    "    :parameter component_idx: (int) the indice of the component to analyze\n",
    "    :parameter nb_most_important: (int) number of most important features (with positive or negative weight)\n",
    "    \"\"\"\n",
    "    weights = dict(zip(azdias_clean.columns, pca.components_[component_idx]))\n",
    "    sorted_weights = sorted(weights.items(), key=lambda kv: kv[1], reverse=True)\n",
    "    \n",
    "    # Create a bar plot visualization\n",
    "    fig, ax = plt.subplots(figsize = (10,6))\n",
    "    begin = sorted_weights[:nb_most_important]\n",
    "    end = sorted_weights[-nb_most_important:]\n",
    "    lbl = [x[0] for x in begin]\n",
    "    lbl.extend(x[0] for x in end)\n",
    "    values = [x[1] for x in begin]\n",
    "    values.extend(x[1] for x in end)\n",
    "    \n",
    "    print(\"Labels are: {}\".format(lbl))\n",
    "    \n",
    "    ax = sns.barplot(x=lbl, y=values)\n",
    "    ax.set_ylabel(\"Feature Weights\")\n",
    "    ax.set_xticklabels(lbl, rotation=90)\n",
    "    plt.show()"
   ]
  },
  {
   "cell_type": "code",
   "execution_count": 71,
   "metadata": {
    "scrolled": false
   },
   "outputs": [
    {
     "name": "stdout",
     "output_type": "stream",
     "text": [
      "Labels are: ['LP_STATUS_GROB_1.0', 'PLZ8_ANTG3', 'HH_EINKOMMEN_SCORE', 'wealth', 'PLZ8_ANTG4', 'ORTSGR_KLS9', 'EWDICHTE', 'FINANZ_HAUSBAUER', 'FINANZ_SPARER', 'KBA05_ANTG4', 'LP_STATUS_GROB_5.0', 'LP_STATUS_GROB_4.0', 'INNENSTADT', 'PLZ8_GBZ', 'KONSUMNAEHE', 'KBA05_GBZ', 'PLZ8_ANTG1', 'KBA05_ANTG1', 'FINANZ_MINIMALIST', 'MOBI_REGIO']\n"
     ]
    },
    {
     "data": {
      "image/png": "[encoded data removed]",
      "text/plain": [
       "<matplotlib.figure.Figure at 0x7f86268a1c18>"
      ]
     },
     "metadata": {
      "needs_background": "light"
     },
     "output_type": "display_data"
    }
   ],
   "source": [
    "# Map weights for the first principal component to corresponding feature names\n",
    "sort_pca_weight(0, 10)"
   ]
  },
  {
   "cell_type": "code",
   "execution_count": 72,
   "metadata": {},
   "outputs": [
    {
     "name": "stdout",
     "output_type": "stream",
     "text": [
      "Labels are: ['ALTERSKATEGORIE_GROB', 'FINANZ_VORSORGER', 'ZABEOTYP_3', 'SEMIO_ERL', 'SEMIO_LUST', 'RETOURTYP_BK_S', 'W_KEIT_KIND_HH', 'FINANZ_HAUSBAUER', 'CJT_GESAMTTYP_2.0', 'FINANZTYP_5', 'SEMIO_RAT', 'ONLINE_AFFINITAET', 'SEMIO_KULT', 'FINANZ_ANLEGER', 'SEMIO_PFLICHT', 'SEMIO_TRADV', 'FINANZ_UNAUFFAELLIGER', 'FINANZ_SPARER', 'SEMIO_REL', 'decade']\n"
     ]
    },
    {
     "data": {
      "image/png": "[encoded data removed]",
      "text/plain": [
       "<matplotlib.figure.Figure at 0x7f8631214978>"
      ]
     },
     "metadata": {
      "needs_background": "light"
     },
     "output_type": "display_data"
    }
   ],
   "source": [
    "# Map weights for the second principal component to corresponding feature names\n",
    "sort_pca_weight(1, 10)"
   ]
  },
  {
   "cell_type": "code",
   "execution_count": 111,
   "metadata": {},
   "outputs": [
    {
     "name": "stdout",
     "output_type": "stream",
     "text": [
      "Labels are: ['SEMIO_VERT', 'SEMIO_SOZ', 'SEMIO_FAM', 'SEMIO_KULT', 'FINANZTYP_5', 'FINANZ_MINIMALIST', 'SHOPPER_TYP_0.0', 'ZABEOTYP_1', 'SEMIO_REL', 'RETOURTYP_BK_S', 'FINANZ_SPARER', 'SHOPPER_TYP_2.0', 'FINANZTYP_1', 'FINANZ_ANLEGER', 'SEMIO_RAT', 'SEMIO_ERL', 'SEMIO_KRIT', 'SEMIO_DOM', 'SEMIO_KAEM', 'ANREDE_KZ']\n"
     ]
    },
    {
     "data": {
      "image/png": "[encoded data removed]",
      "text/plain": [
       "<matplotlib.figure.Figure at 0x7fc880837fd0>"
      ]
     },
     "metadata": {
      "needs_background": "light"
     },
     "output_type": "display_data"
    }
   ],
   "source": [
    "# Map weights for the third principal component to corresponding feature names\n",
    "sort_pca_weight(2, 10)"
   ]
  },
  {
   "cell_type": "markdown",
   "metadata": {},
   "source": [
    "---\n",
    "### Discussion 2.3: Interpret Principal Components\n",
    "#### 1st component observations and interpreation\n",
    "We can see on the plot that there are some features really opposed, such as:\n",
    "* `LP_STATUS_GROB_1.0`: 'low-income earners' is opposed to level of 'Movement patterns' (`MOBI_REGIO`)\n",
    "* `PLZ8_ANTG3`: Number of 6-10 family houses is opposed to level of 'finance low financial interest' (`FINANZ_MINIMALIST`)\n",
    "* `HH_EINKOMMEN_SCORE`: level of 'Estimated household net income' is opposed to level of 'Number of 1-2 family houses' (`KBA05_ANTG1`)\n",
    "* `wealth`: opposed to 'Number of 1-2 family houses' (`PLZ8_ANTG1`)\n",
    "* `PLZ8_ANTG4`: 'Number of 10+ family houses' opposed to Number of buildings (`KBA05_GBZ`)\n",
    "* `ORTSGR_KLS9`: 'Size of community' opposed to 'Distance from building to point of sale (PoS)' (`KONSUMNAEHE`)\n",
    "* `EWDICHTE`: 'Density of households' opposed to 'Number of buildings' (`PLZ8_GBZ`)\n",
    "* `FINANZ_HAUSBAUER`: 'home ownership' opposed to 'Distance to city center (downtown)' (`INNENSTADT`)\n",
    "* `FINANZ_SPARER`: 'money-saver' opposed to 'houseowners' (`LP_STATUS_GROB_4.0`)\n",
    "* `KBA05_ANTG4`: 'Number of 10+ family houses' opposed to 'top earners' (`LP_STATUS_GROB_5.0`)\n",
    "\n",
    "==> Let's basically interpret this as \"rich people vs. poor people, or with lower income\".\n",
    "\n",
    "#### 2nd component observations and interpreation\n",
    "We can see on the plot that there are some features really opposed, such as:\n",
    "* `ALTERSKATEGORIE_GROB`: Estimated age is opposed to `decade` (this makes sense !)\n",
    "* `FINANZ_VORSORGER`: 'financial typology be prepared' is opposed to 'personality type religious' (`SEMIO_REL`)\n",
    "* `SEMIO_ERL`: 'personality type event-oriented' is opposed to level of 'financial typology inconspicuous' (`FINANZ_UNAUFFAELLIGER`)\n",
    "* `SEMIO_LUST`: 'personality type sensual-minded' is opposed to 'personality type traditional' (`SEMIO_TRADV`)\n",
    "* `CJT_GESAMTTYP_2.0`: 'customer-Journey-Typology' is opposed to 'Online affinity' (`ONLINE_AFFINITAET`): of course, if people never buy online those 2 will be totally opposed\n",
    "* `FINANZTYP_5`: 'financial type investor' opposed to 'personality type rational' (SEMIO_RAT). Makes sense, people too rational will not be likely to invest and take some risks.\n",
    "\n",
    "#### 3rd component observations and interpretation\n",
    "We can see on the plot that:\n",
    "* `'SEMIO_VERT', 'SEMIO_SOZ', 'SEMIO_FAM', 'SEMIO_KULT'`  \n",
    "are opposed to:\n",
    "* `'SEMIO_RAT', 'SEMIO_ERL', 'SEMIO_KRIT', 'SEMIO_DOM', 'SEMIO_KAEM'`\n",
    "\n",
    "That make perfect sense are elements in the first category (counting positive) are related to ersonality typology and means respectively: _dreamful, socially-minded, family-minded, cultural-minded_ (let's say people open to others, basically) whereas the ones counting negative means respectively: _rational, event-oriented, critical-minded, dominant-minded, combative attitude_ (pragmatic and more, let's say, kind of selfish, self-oriented people).\n",
    "\n",
    "* `'FINANZTYP_5', 'FINANZ_MINIMALIST', 'SHOPPER_TYP_0.0', 'ZABEOTYP_1', 'SEMIO_REL'`  \n",
    "are opposed to:\n",
    "* `'FINANZ_SPARER', 'SHOPPER_TYP_2.0', 'FINANZTYP_1', 'FINANZ_ANLEGER'`\n",
    "\n",
    "Here, it is the level of financiel interest and type of investment that are opposed (_investor, level of low financial interest, external supplied hedonists, Energy consumption green, religious_) opposed to _level of money-saver, family-shopper, low financial interest, level of investor_\n",
    "\n",
    "---"
   ]
  },
  {
   "cell_type": "markdown",
   "metadata": {},
   "source": [
    "## Step 3: Clustering\n",
    "\n",
    "### Step 3.1: Apply Clustering to General Population\n",
    "\n",
    "You've assessed and cleaned the demographics data, then scaled and transformed them. Now, it's time to see how the data clusters in the principal components space. In this substep, you will apply k-means clustering to the dataset and use the average within-cluster distances from each point to their assigned cluster's centroid to decide on a number of clusters to keep.\n",
    "\n",
    "- Use sklearn's [KMeans](http://scikit-learn.org/stable/modules/generated/sklearn.cluster.KMeans.html#sklearn.cluster.KMeans) class to perform k-means clustering on the PCA-transformed data.\n",
    "- Then, compute the average difference from each point to its assigned cluster's center. **Hint**: The KMeans object's `.score()` method might be useful here, but note that in sklearn, scores tend to be defined so that larger is better. Try applying it to a small, toy dataset, or use an internet search to help your understanding.\n",
    "- Perform the above two steps for a number of different cluster counts. You can then see how the average distance decreases with an increasing number of clusters. However, each additional cluster provides a smaller net benefit. Use this fact to select a final number of clusters in which to group the data. **Warning**: because of the large size of the dataset, it can take a long time for the algorithm to resolve. The more clusters to fit, the longer the algorithm will take. You should test for cluster counts through at least 10 clusters to get the full picture, but you shouldn't need to test for a number of clusters above about 30.\n",
    "- Once you've selected a final number of clusters to use, re-fit a KMeans instance to perform the clustering operation. Make sure that you also obtain the cluster assignments for the general demographics data, since you'll be using them in the final Step 3.3."
   ]
  },
  {
   "cell_type": "code",
   "execution_count": 73,
   "metadata": {},
   "outputs": [],
   "source": [
    "def get_kmeans_score(data, nb_clusters):\n",
    "    '''\n",
    "    Returns the absolute value of KMeans score\n",
    "    :parameter data: dataset we want to fit kmeans to\n",
    "    :parameter nb_clusters: (int) the number of clusters we want (i.e the 'K' value)\n",
    "    :return: (float) SSE score for the KMeans model\n",
    "    '''\n",
    "    #instantiate KMeans, fit and compute a score\n",
    "    kmeans = KMeans(n_clusters=nb_clusters, random_state=42)\n",
    "    model = kmeans.fit(data)\n",
    "    return np.abs(model.score(data))"
   ]
  },
  {
   "cell_type": "code",
   "execution_count": 79,
   "metadata": {},
   "outputs": [],
   "source": [
    "# I would highly recommend not to run this cell as it might take few hours to run\n",
    "scores = []\n",
    "nb_clusters = list(range(1, 25))\n",
    "\n",
    "# Over a number of different cluster counts...\n",
    "for k in nb_clusters:\n",
    "    # run k-means clustering on the data and compute the average within-cluster distances.\n",
    "    scores.append(get_kmeans_score(X_pca, k))"
   ]
  },
  {
   "cell_type": "code",
   "execution_count": 80,
   "metadata": {
    "scrolled": true
   },
   "outputs": [
    {
     "data": {
      "image/png": "[encoded data removed]",
      "text/plain": [
       "<matplotlib.figure.Figure at 0x7f86258e6160>"
      ]
     },
     "metadata": {
      "needs_background": "light"
     },
     "output_type": "display_data"
    }
   ],
   "source": [
    "# Let's plot scores in order to decide the right number of centroids to take\n",
    "plt.plot(nb_clusters, scores, linestyle='--', marker='o', color='b');\n",
    "plt.xlabel('K');\n",
    "plt.ylabel('SSE');\n",
    "plt.title('SSE vs. K');"
   ]
  },
  {
   "cell_type": "markdown",
   "metadata": {},
   "source": [
    "***Observation:*** it seems that the Sum of Squared Errors value flattens with K around **22** so I will go with this value."
   ]
  },
  {
   "cell_type": "code",
   "execution_count": 188,
   "metadata": {},
   "outputs": [],
   "source": [
    "# Re-fit the k-means model with the selected number of clusters and obtain\n",
    "# cluster predictions for the general population demographics data.\n",
    "kmeans = KMeans(n_clusters=22, random_state=42)\n",
    "predictions_general_pop = kmeans.fit_predict(X_pca)"
   ]
  },
  {
   "cell_type": "markdown",
   "metadata": {},
   "source": [
    "---\n",
    "\n",
    "### Discussion 3.1: Apply Clustering to General Population\n",
    "\n",
    "The _elbow method_ has been used to find the best number of clusters for KMeans. You can see on above picture that the best value is **k=22** because starting from here the average distance within cluster almost flattens.  \n",
    "So here we are with our 22 clusters from General Population, which is still quite a lot.\n",
    "\n",
    "---"
   ]
  },
  {
   "cell_type": "markdown",
   "metadata": {},
   "source": [
    "### Step 3.2: Apply All Steps to the Customer Data\n",
    "\n",
    "Now that you have clusters and cluster centers for the general population, it's time to see how the customer data maps on to those clusters. Take care to not confuse this for re-fitting all of the models to the customer data. Instead, you're going to use the fits from the general population to clean, transform, and cluster the customer data. In the last step of the project, you will interpret how the general population fits apply to the customer data.\n",
    "\n",
    "- Don't forget when loading in the customers data, that it is semicolon (`;`) delimited.\n",
    "- Apply the same feature wrangling, selection, and engineering steps to the customer demographics using the `clean_data()` function you created earlier. (You can assume that the customer demographics data has similar meaning behind missing data patterns as the general demographics data.)\n",
    "- Use the sklearn objects from the general demographics data, and apply their transformations to the customers data. That is, you should not be using a `.fit()` or `.fit_transform()` method to re-fit the old objects, nor should you be creating new sklearn objects! Carry the data through the feature scaling, PCA, and clustering steps, obtaining cluster assignments for all of the data in the customer demographics data."
   ]
  },
  {
   "cell_type": "code",
   "execution_count": 189,
   "metadata": {},
   "outputs": [
    {
     "data": {
      "text/plain": [
       "(191652, 85)"
      ]
     },
     "execution_count": 189,
     "metadata": {},
     "output_type": "execute_result"
    }
   ],
   "source": [
    "# Load in the customer demographics data.\n",
    "customers = pd.read_csv(RAW_CUSTOMERS_FILENAME, sep=';')\n",
    "customers.shape"
   ]
  },
  {
   "cell_type": "code",
   "execution_count": 235,
   "metadata": {},
   "outputs": [
    {
     "name": "stdout",
     "output_type": "stream",
     "text": [
      "(135799, 128)\n"
     ]
    }
   ],
   "source": [
    "# Apply preprocessing, feature transformation onto the customer data\n",
    "customers_clean = clean_data(customers, feat_info, treshold=8, use_treshold=True)\n",
    "print(customers_clean.shape)"
   ]
  },
  {
   "cell_type": "markdown",
   "metadata": {},
   "source": [
    "***Note:*** there is something to deal with here as we expected 129 columns/features and the clean_data gave only 128. We need to analyze why. First intuition is that one column which has been one-hot encoded was missing a value in the customers dataset so the column has not been created by `get_dummies` method. Let's ensure that and create the column if I am right."
   ]
  },
  {
   "cell_type": "code",
   "execution_count": 236,
   "metadata": {},
   "outputs": [
    {
     "data": {
      "text/plain": [
       "['GEBAEUDETYP_5.0']"
      ]
     },
     "execution_count": 236,
     "metadata": {},
     "output_type": "execute_result"
    }
   ],
   "source": [
    "[x for x in azdias_clean.columns if x not in customers_clean.columns]"
   ]
  },
  {
   "cell_type": "code",
   "execution_count": 237,
   "metadata": {},
   "outputs": [
    {
     "data": {
      "text/plain": [
       "1.0    95145\n",
       "3.0    23655\n",
       "8.0    20475\n",
       "2.0     2057\n",
       "4.0      251\n",
       "6.0      142\n",
       "Name: GEBAEUDETYP, dtype: int64"
      ]
     },
     "execution_count": 237,
     "metadata": {},
     "output_type": "execute_result"
    }
   ],
   "source": [
    "customers['GEBAEUDETYP'].value_counts()"
   ]
  },
  {
   "cell_type": "code",
   "execution_count": 238,
   "metadata": {},
   "outputs": [
    {
     "data": {
      "text/plain": [
       "1.0    460465\n",
       "3.0    178668\n",
       "8.0    152476\n",
       "2.0      4935\n",
       "4.0       900\n",
       "6.0       628\n",
       "5.0         1\n",
       "Name: GEBAEUDETYP, dtype: int64"
      ]
     },
     "execution_count": 238,
     "metadata": {},
     "output_type": "execute_result"
    }
   ],
   "source": [
    "azdias['GEBAEUDETYP'].value_counts()"
   ]
  },
  {
   "cell_type": "markdown",
   "metadata": {},
   "source": [
    "This is it, one value does not exist in the customers dataset, it does not matter, let's create the `'GEBAEUDETYP_5.0'` column in the `customers_clean` dataset."
   ]
  },
  {
   "cell_type": "code",
   "execution_count": 239,
   "metadata": {},
   "outputs": [],
   "source": [
    "customers_clean['GEBAEUDETYP_5.0'] = 0"
   ]
  },
  {
   "cell_type": "code",
   "execution_count": 240,
   "metadata": {},
   "outputs": [
    {
     "name": "stdout",
     "output_type": "stream",
     "text": [
      "(135799, 129)\n",
      "(135799, 129)\n"
     ]
    }
   ],
   "source": [
    "customers_imputed = feat_imp.transform(customers_clean)\n",
    "customers_scaled = feat_scaler.transform(customers_imputed)\n",
    "print(customers_imputed.shape)\n",
    "print(customers_scaled.shape)"
   ]
  },
  {
   "cell_type": "code",
   "execution_count": 241,
   "metadata": {},
   "outputs": [],
   "source": [
    "# Apply PCA + clustering onto the customer data, obtain cluster predictions for the\n",
    "# customer demographics data.\n",
    "X_pca_cust = pca.transform(customers_scaled)\n",
    "predictions_customers_pop = kmeans.predict(X_pca_cust)"
   ]
  },
  {
   "cell_type": "markdown",
   "metadata": {},
   "source": [
    "### Step 3.3: Compare Customer Data to Demographics Data\n",
    "\n",
    "At this point, you have clustered data based on demographics of the general population of Germany, and seen how the customer data for a mail-order sales company maps onto those demographic clusters. In this final substep, you will compare the two cluster distributions to see where the strongest customer base for the company is.\n",
    "\n",
    "Consider the proportion of persons in each cluster for the general population, and the proportions for the customers. If we think the company's customer base to be universal, then the cluster assignment proportions should be fairly similar between the two. If there are only particular segments of the population that are interested in the company's products, then we should see a mismatch from one to the other. If there is a higher proportion of persons in a cluster for the customer data compared to the general population (e.g. 5% of persons are assigned to a cluster for the general population, but 15% of the customer data is closest to that cluster's centroid) then that suggests the people in that cluster to be a target audience for the company. On the other hand, the proportion of the data in a cluster being larger in the general population than the customer data (e.g. only 2% of customers closest to a population centroid that captures 6% of the data) suggests that group of persons to be outside of the target demographics.\n",
    "\n",
    "Take a look at the following points in this step:\n",
    "\n",
    "- Compute the proportion of data points in each cluster for the general population and the customer data. Visualizations will be useful here: both for the individual dataset proportions, but also to visualize the ratios in cluster representation between groups. Seaborn's [`countplot()`](https://seaborn.pydata.org/generated/seaborn.countplot.html) or [`barplot()`](https://seaborn.pydata.org/generated/seaborn.barplot.html) function could be handy.\n",
    "  - Recall the analysis you performed in step 1.1.3 of the project, where you separated out certain data points from the dataset if they had more than a specified threshold of missing values. If you found that this group was qualitatively different from the main bulk of the data, you should treat this as an additional data cluster in this analysis. Make sure that you account for the number of data points in this subset, for both the general population and customer datasets, when making your computations!\n",
    "- Which cluster or clusters are overrepresented in the customer dataset compared to the general population? Select at least one such cluster and infer what kind of people might be represented by that cluster. Use the principal component interpretations from step 2.3 or look at additional components to help you make this inference. Alternatively, you can use the `.inverse_transform()` method of the PCA and StandardScaler objects to transform centroids back to the original data space and interpret the retrieved values directly.\n",
    "- Perform a similar investigation for the underrepresented clusters. Which cluster or clusters are underrepresented in the customer dataset compared to the general population, and what kinds of people are typified by these clusters?"
   ]
  },
  {
   "cell_type": "code",
   "execution_count": 242,
   "metadata": {
    "scrolled": true
   },
   "outputs": [
    {
     "name": "stdout",
     "output_type": "stream",
     "text": [
      "Demographic subset with few or no missing values contains 771701 rows whereas the other subset contains 119520 (13.41 % of the total)\n",
      "Customers subset with few or no missing values contains 135799 rows whereas the other subset contains 55853 (29.14 % of the total)\n"
     ]
    }
   ],
   "source": [
    "rows_pop = azdias.shape[0]\n",
    "rows_pop_sb1 = azdias_pp_subset1.shape[0]\n",
    "rows_pop_sb2 = azdias_pp_subset2.shape[0]\n",
    "rows_cust = customers.shape[0]\n",
    "rows_cust_sb = customers_clean.shape[0]\n",
    "diff_cust = rows_cust-rows_cust_sb\n",
    "\n",
    "print(\"Demographic subset with few or no missing values contains {} rows whereas the other subset contains {} ({:.2f} % of the total)\"\n",
    "      .format(rows_pop_sb1, rows_pop_sb2, 100 * (rows_pop_sb2/rows_pop)))\n",
    "print(\"Customers subset with few or no missing values contains {} rows whereas the other subset contains {} ({:.2f} % of the total)\"\n",
    "      .format(rows_cust_sb, diff_cust, 100 * (diff_cust/rows_cust)))"
   ]
  },
  {
   "cell_type": "markdown",
   "metadata": {},
   "source": [
    "#### Compare the proportion of data in each cluster for the customer data to the proportion of data in each cluster for the general population\n",
    "For that I will build a new dataframe which will contains all predictions, then group by cluster id and then compute proportion for both 'general population' and 'customers' dataset with respect to initial dataset size.  \n",
    "Cells below are the details to achieve that. In the end, there is a coherence control that everything worked as expected by summing all proportions for both origin and check that it is 100%"
   ]
  },
  {
   "cell_type": "code",
   "execution_count": 302,
   "metadata": {},
   "outputs": [
    {
     "data": {
      "text/html": [
       "<div>\n",
       "<style scoped>\n",
       "    .dataframe tbody tr th:only-of-type {\n",
       "        vertical-align: middle;\n",
       "    }\n",
       "\n",
       "    .dataframe tbody tr th {\n",
       "        vertical-align: top;\n",
       "    }\n",
       "\n",
       "    .dataframe thead th {\n",
       "        text-align: right;\n",
       "    }\n",
       "</style>\n",
       "<table border=\"1\" class=\"dataframe\">\n",
       "  <thead>\n",
       "    <tr style=\"text-align: right;\">\n",
       "      <th></th>\n",
       "      <th>cluster_id</th>\n",
       "      <th>origin</th>\n",
       "    </tr>\n",
       "  </thead>\n",
       "  <tbody>\n",
       "    <tr>\n",
       "      <th>0</th>\n",
       "      <td>9</td>\n",
       "      <td>general</td>\n",
       "    </tr>\n",
       "    <tr>\n",
       "      <th>1</th>\n",
       "      <td>16</td>\n",
       "      <td>general</td>\n",
       "    </tr>\n",
       "    <tr>\n",
       "      <th>2</th>\n",
       "      <td>4</td>\n",
       "      <td>general</td>\n",
       "    </tr>\n",
       "    <tr>\n",
       "      <th>3</th>\n",
       "      <td>5</td>\n",
       "      <td>general</td>\n",
       "    </tr>\n",
       "    <tr>\n",
       "      <th>4</th>\n",
       "      <td>16</td>\n",
       "      <td>general</td>\n",
       "    </tr>\n",
       "  </tbody>\n",
       "</table>\n",
       "</div>"
      ],
      "text/plain": [
       "   cluster_id   origin\n",
       "0           9  general\n",
       "1          16  general\n",
       "2           4  general\n",
       "3           5  general\n",
       "4          16  general"
      ]
     },
     "execution_count": 302,
     "metadata": {},
     "output_type": "execute_result"
    }
   ],
   "source": [
    "df_pop = pd.DataFrame(predictions_general_pop)\n",
    "df_pop[\"from\"] = 'general'\n",
    "df_cust = pd.DataFrame(predictions_customers_pop)\n",
    "df_cust[\"from\"] = 'customer'\n",
    "df_pop_cust = pd.concat([df_pop, df_cust])\n",
    "df_pop_cust.columns = ['cluster_id', 'origin']\n",
    "df_pop_cust.head()"
   ]
  },
  {
   "cell_type": "code",
   "execution_count": 303,
   "metadata": {},
   "outputs": [
    {
     "data": {
      "text/html": [
       "<div>\n",
       "<style scoped>\n",
       "    .dataframe tbody tr th:only-of-type {\n",
       "        vertical-align: middle;\n",
       "    }\n",
       "\n",
       "    .dataframe tbody tr th {\n",
       "        vertical-align: top;\n",
       "    }\n",
       "\n",
       "    .dataframe thead th {\n",
       "        text-align: right;\n",
       "    }\n",
       "</style>\n",
       "<table border=\"1\" class=\"dataframe\">\n",
       "  <thead>\n",
       "    <tr style=\"text-align: right;\">\n",
       "      <th>origin</th>\n",
       "      <th>cluster_id</th>\n",
       "      <th>origin</th>\n",
       "      <th>proportion</th>\n",
       "    </tr>\n",
       "  </thead>\n",
       "  <tbody>\n",
       "    <tr>\n",
       "      <th>0</th>\n",
       "      <td>0</td>\n",
       "      <td>customer</td>\n",
       "      <td>0.67</td>\n",
       "    </tr>\n",
       "    <tr>\n",
       "      <th>1</th>\n",
       "      <td>0</td>\n",
       "      <td>general</td>\n",
       "      <td>3.14</td>\n",
       "    </tr>\n",
       "    <tr>\n",
       "      <th>2</th>\n",
       "      <td>1</td>\n",
       "      <td>customer</td>\n",
       "      <td>5.42</td>\n",
       "    </tr>\n",
       "    <tr>\n",
       "      <th>3</th>\n",
       "      <td>1</td>\n",
       "      <td>general</td>\n",
       "      <td>4.60</td>\n",
       "    </tr>\n",
       "    <tr>\n",
       "      <th>4</th>\n",
       "      <td>2</td>\n",
       "      <td>general</td>\n",
       "      <td>1.58</td>\n",
       "    </tr>\n",
       "    <tr>\n",
       "      <th>5</th>\n",
       "      <td>3</td>\n",
       "      <td>customer</td>\n",
       "      <td>0.14</td>\n",
       "    </tr>\n",
       "    <tr>\n",
       "      <th>6</th>\n",
       "      <td>3</td>\n",
       "      <td>general</td>\n",
       "      <td>2.52</td>\n",
       "    </tr>\n",
       "    <tr>\n",
       "      <th>7</th>\n",
       "      <td>4</td>\n",
       "      <td>customer</td>\n",
       "      <td>0.14</td>\n",
       "    </tr>\n",
       "  </tbody>\n",
       "</table>\n",
       "</div>"
      ],
      "text/plain": [
       "origin  cluster_id    origin  proportion\n",
       "0                0  customer        0.67\n",
       "1                0   general        3.14\n",
       "2                1  customer        5.42\n",
       "3                1   general        4.60\n",
       "4                2   general        1.58\n",
       "5                3  customer        0.14\n",
       "6                3   general        2.52\n",
       "7                4  customer        0.14"
      ]
     },
     "execution_count": 303,
     "metadata": {},
     "output_type": "execute_result"
    }
   ],
   "source": [
    "df_pop_cust = pd.crosstab([df_pop_cust.cluster_id, df_pop_cust.origin], df_pop_cust.origin, margins=False).reset_index()\n",
    "df_pop_cust['proportion'] = df_pop_cust.apply(\n",
    "    lambda x: np.round(100 * (x['customer']/rows_cust), 2) if x['origin'] == 'customer' \n",
    "    else np.round(100 * (x['general']/rows_pop), 2) if x['origin'] == 'general' else x, axis=1)\n",
    "df_pop_cust = df_pop_cust.drop(['customer', 'general'], axis=1)\n",
    "df_pop_cust.head(8)"
   ]
  },
  {
   "cell_type": "code",
   "execution_count": 304,
   "metadata": {},
   "outputs": [],
   "source": [
    "# Do not forget to add the subset of 'missing value' proportion computed earlier as a new cluster with id 22\n",
    "df_pop_cust = df_pop_cust.append({\n",
    "    'cluster_id': 22,\n",
    "    'origin': 'general',\n",
    "    'proportion': np.round(100 * (rows_pop_sb2/rows_pop), 2)\n",
    "    }, ignore_index=True)\n",
    "df_pop_cust = df_pop_cust.append({\n",
    "    'cluster_id': 22,\n",
    "    'origin': 'customer',\n",
    "    'proportion': np.round(100 * (diff_cust/rows_cust), 2)\n",
    "    }, ignore_index=True)"
   ]
  },
  {
   "cell_type": "code",
   "execution_count": 305,
   "metadata": {},
   "outputs": [
    {
     "data": {
      "text/html": [
       "<div>\n",
       "<style scoped>\n",
       "    .dataframe tbody tr th:only-of-type {\n",
       "        vertical-align: middle;\n",
       "    }\n",
       "\n",
       "    .dataframe tbody tr th {\n",
       "        vertical-align: top;\n",
       "    }\n",
       "\n",
       "    .dataframe thead th {\n",
       "        text-align: right;\n",
       "    }\n",
       "</style>\n",
       "<table border=\"1\" class=\"dataframe\">\n",
       "  <thead>\n",
       "    <tr style=\"text-align: right;\">\n",
       "      <th>origin</th>\n",
       "      <th>cluster_id</th>\n",
       "      <th>origin</th>\n",
       "      <th>proportion</th>\n",
       "    </tr>\n",
       "  </thead>\n",
       "  <tbody>\n",
       "    <tr>\n",
       "      <th>40</th>\n",
       "      <td>20</td>\n",
       "      <td>general</td>\n",
       "      <td>0.00</td>\n",
       "    </tr>\n",
       "    <tr>\n",
       "      <th>41</th>\n",
       "      <td>21</td>\n",
       "      <td>customer</td>\n",
       "      <td>2.63</td>\n",
       "    </tr>\n",
       "    <tr>\n",
       "      <th>42</th>\n",
       "      <td>21</td>\n",
       "      <td>general</td>\n",
       "      <td>2.21</td>\n",
       "    </tr>\n",
       "    <tr>\n",
       "      <th>43</th>\n",
       "      <td>22</td>\n",
       "      <td>general</td>\n",
       "      <td>13.41</td>\n",
       "    </tr>\n",
       "    <tr>\n",
       "      <th>44</th>\n",
       "      <td>22</td>\n",
       "      <td>customer</td>\n",
       "      <td>29.14</td>\n",
       "    </tr>\n",
       "  </tbody>\n",
       "</table>\n",
       "</div>"
      ],
      "text/plain": [
       "origin  cluster_id    origin  proportion\n",
       "40              20   general        0.00\n",
       "41              21  customer        2.63\n",
       "42              21   general        2.21\n",
       "43              22   general       13.41\n",
       "44              22  customer       29.14"
      ]
     },
     "execution_count": 305,
     "metadata": {},
     "output_type": "execute_result"
    }
   ],
   "source": [
    "df_pop_cust.tail(5)"
   ]
  },
  {
   "cell_type": "code",
   "execution_count": 306,
   "metadata": {},
   "outputs": [
    {
     "name": "stdout",
     "output_type": "stream",
     "text": [
      "Sanity check proportion 'general' should sum to 100%, we have: 99.99%\n",
      "Sanity check proportion 'customers' should sum to 100%, we have: 100.00%\n"
     ]
    }
   ],
   "source": [
    "print(\"Sanity check proportion 'general' should sum to 100%, we have: {:.2f}%\".\n",
    "      format(df_pop_cust[df_pop_cust['origin'] == 'general'].proportion.sum()))\n",
    "print(\"Sanity check proportion 'customers' should sum to 100%, we have: {:.2f}%\".\n",
    "      format(df_pop_cust[df_pop_cust['origin'] == 'customer'].proportion.sum()))"
   ]
  },
  {
   "cell_type": "markdown",
   "metadata": {},
   "source": [
    "OK, now let's display that on same plot to observe difference:"
   ]
  },
  {
   "cell_type": "code",
   "execution_count": 307,
   "metadata": {
    "scrolled": false
   },
   "outputs": [
    {
     "data": {
      "image/png": "[encoded data removed]",
      "text/plain": [
       "<matplotlib.figure.Figure at 0x7f862a57ae48>"
      ]
     },
     "metadata": {
      "needs_background": "light"
     },
     "output_type": "display_data"
    }
   ],
   "source": [
    "fig, ax = plt.subplots(figsize = (10,6))\n",
    "ax.set_title(\"Proportion of perople per cluster per dataset origin (general demographic or customers)\")\n",
    "sns.barplot(x='cluster_id', y='proportion', hue='origin', data=df_pop_cust)\n",
    "plt.show()"
   ]
  },
  {
   "cell_type": "markdown",
   "metadata": {},
   "source": [
    "In order to display the difference between `customers` and `general` cluster proportions, I will use a trick and put all `general` as negative values then groupby the dataframe per cluster_id and sum the proportion. It will then give me just the difference per cluster."
   ]
  },
  {
   "cell_type": "code",
   "execution_count": 308,
   "metadata": {},
   "outputs": [],
   "source": [
    "df_pop_cust['proportion'] = df_pop_cust.apply(lambda x: 0-x['proportion'] if x['origin'] == 'general' else x['proportion'], axis=1)"
   ]
  },
  {
   "cell_type": "code",
   "execution_count": 309,
   "metadata": {},
   "outputs": [
    {
     "data": {
      "text/html": [
       "<div>\n",
       "<style scoped>\n",
       "    .dataframe tbody tr th:only-of-type {\n",
       "        vertical-align: middle;\n",
       "    }\n",
       "\n",
       "    .dataframe tbody tr th {\n",
       "        vertical-align: top;\n",
       "    }\n",
       "\n",
       "    .dataframe thead th {\n",
       "        text-align: right;\n",
       "    }\n",
       "</style>\n",
       "<table border=\"1\" class=\"dataframe\">\n",
       "  <thead>\n",
       "    <tr style=\"text-align: right;\">\n",
       "      <th>origin</th>\n",
       "      <th>cluster_id</th>\n",
       "      <th>origin</th>\n",
       "      <th>proportion</th>\n",
       "    </tr>\n",
       "  </thead>\n",
       "  <tbody>\n",
       "    <tr>\n",
       "      <th>0</th>\n",
       "      <td>0</td>\n",
       "      <td>customer</td>\n",
       "      <td>0.67</td>\n",
       "    </tr>\n",
       "    <tr>\n",
       "      <th>1</th>\n",
       "      <td>0</td>\n",
       "      <td>general</td>\n",
       "      <td>-3.14</td>\n",
       "    </tr>\n",
       "    <tr>\n",
       "      <th>2</th>\n",
       "      <td>1</td>\n",
       "      <td>customer</td>\n",
       "      <td>5.42</td>\n",
       "    </tr>\n",
       "    <tr>\n",
       "      <th>3</th>\n",
       "      <td>1</td>\n",
       "      <td>general</td>\n",
       "      <td>-4.60</td>\n",
       "    </tr>\n",
       "    <tr>\n",
       "      <th>4</th>\n",
       "      <td>2</td>\n",
       "      <td>general</td>\n",
       "      <td>-1.58</td>\n",
       "    </tr>\n",
       "  </tbody>\n",
       "</table>\n",
       "</div>"
      ],
      "text/plain": [
       "origin  cluster_id    origin  proportion\n",
       "0                0  customer        0.67\n",
       "1                0   general       -3.14\n",
       "2                1  customer        5.42\n",
       "3                1   general       -4.60\n",
       "4                2   general       -1.58"
      ]
     },
     "execution_count": 309,
     "metadata": {},
     "output_type": "execute_result"
    }
   ],
   "source": [
    "df_pop_cust.head()"
   ]
  },
  {
   "cell_type": "code",
   "execution_count": 310,
   "metadata": {},
   "outputs": [
    {
     "data": {
      "image/png": "[encoded data removed]",
      "text/plain": [
       "<matplotlib.figure.Figure at 0x7f86269d3a20>"
      ]
     },
     "metadata": {
      "needs_background": "light"
     },
     "output_type": "display_data"
    }
   ],
   "source": [
    "diff = df_pop_cust.groupby('cluster_id').proportion.sum().reset_index()\n",
    "fig, ax = plt.subplots(figsize = (10,6))\n",
    "ax.set_title(\"Difference per cluster between general demographic and customers datasets\")\n",
    "sns.barplot(x='cluster_id', y='proportion', data=diff)\n",
    "plt.show()"
   ]
  },
  {
   "cell_type": "markdown",
   "metadata": {},
   "source": [
    "#### What kinds of people are part of a cluster that is overrepresented in the customer data compared to the general population ?\n",
    "#### What kinds of people are part of a cluster that is underrepresented in the customer data compared to the general population ?\n",
    "We can see in the plot above that 2 clusters (if we forget our additional one which corresponds to rows with a lot of missing values) have the highest positive difference: cluster 15 and cluster 18. The highest negative are in cluster 7 and 9. \n",
    "Let's identify the people inside."
   ]
  },
  {
   "cell_type": "code",
   "execution_count": 330,
   "metadata": {},
   "outputs": [],
   "source": [
    "def retrieve_original_space_data(cluster_id):\n",
    "    return feat_scaler.inverse_transform(pca.inverse_transform(kmeans.cluster_centers_[cluster_id]))"
   ]
  },
  {
   "cell_type": "code",
   "execution_count": 331,
   "metadata": {},
   "outputs": [],
   "source": [
    "center15_original_space = retrieve_original_space_data(15)\n",
    "center18_original_space = retrieve_original_space_data(18)\n",
    "center7_original_space = retrieve_original_space_data(7)\n",
    "center9_original_space = retrieve_original_space_data(9)"
   ]
  },
  {
   "cell_type": "code",
   "execution_count": 334,
   "metadata": {
    "scrolled": true
   },
   "outputs": [
    {
     "data": {
      "text/html": [
       "<div>\n",
       "<style scoped>\n",
       "    .dataframe tbody tr th:only-of-type {\n",
       "        vertical-align: middle;\n",
       "    }\n",
       "\n",
       "    .dataframe tbody tr th {\n",
       "        vertical-align: top;\n",
       "    }\n",
       "\n",
       "    .dataframe thead th {\n",
       "        text-align: right;\n",
       "    }\n",
       "</style>\n",
       "<table border=\"1\" class=\"dataframe\">\n",
       "  <thead>\n",
       "    <tr style=\"text-align: right;\">\n",
       "      <th></th>\n",
       "      <th>ALTERSKATEGORIE_GROB</th>\n",
       "      <th>ANREDE_KZ</th>\n",
       "      <th>FINANZ_MINIMALIST</th>\n",
       "      <th>FINANZ_SPARER</th>\n",
       "      <th>FINANZ_VORSORGER</th>\n",
       "      <th>FINANZ_ANLEGER</th>\n",
       "      <th>FINANZ_UNAUFFAELLIGER</th>\n",
       "      <th>FINANZ_HAUSBAUER</th>\n",
       "      <th>GREEN_AVANTGARDE</th>\n",
       "      <th>HEALTH_TYP</th>\n",
       "      <th>...</th>\n",
       "      <th>CAMEO_DEUG_2015_6</th>\n",
       "      <th>CAMEO_DEUG_2015_7</th>\n",
       "      <th>CAMEO_DEUG_2015_8</th>\n",
       "      <th>CAMEO_DEUG_2015_9</th>\n",
       "      <th>movement</th>\n",
       "      <th>decade</th>\n",
       "      <th>wealth</th>\n",
       "      <th>lifestage</th>\n",
       "      <th>neighborhood</th>\n",
       "      <th>new_building</th>\n",
       "    </tr>\n",
       "  </thead>\n",
       "  <tbody>\n",
       "    <tr>\n",
       "      <th>0</th>\n",
       "      <td>3.480751</td>\n",
       "      <td>1.955576</td>\n",
       "      <td>4.251359</td>\n",
       "      <td>1.411307</td>\n",
       "      <td>4.438740</td>\n",
       "      <td>1.901320</td>\n",
       "      <td>1.940927</td>\n",
       "      <td>2.458064</td>\n",
       "      <td>0.998722</td>\n",
       "      <td>2.056988</td>\n",
       "      <td>...</td>\n",
       "      <td>0.095152</td>\n",
       "      <td>0.037801</td>\n",
       "      <td>0.028968</td>\n",
       "      <td>0.009767</td>\n",
       "      <td>0.998722</td>\n",
       "      <td>3.334675</td>\n",
       "      <td>1.993789</td>\n",
       "      <td>3.670204</td>\n",
       "      <td>3.366258</td>\n",
       "      <td>-0.001568</td>\n",
       "    </tr>\n",
       "    <tr>\n",
       "      <th>1</th>\n",
       "      <td>3.345030</td>\n",
       "      <td>1.037155</td>\n",
       "      <td>4.823049</td>\n",
       "      <td>1.514873</td>\n",
       "      <td>4.442286</td>\n",
       "      <td>1.401441</td>\n",
       "      <td>1.957699</td>\n",
       "      <td>1.974487</td>\n",
       "      <td>1.006028</td>\n",
       "      <td>2.039736</td>\n",
       "      <td>...</td>\n",
       "      <td>0.093660</td>\n",
       "      <td>0.044915</td>\n",
       "      <td>0.033780</td>\n",
       "      <td>0.015282</td>\n",
       "      <td>1.006028</td>\n",
       "      <td>3.426806</td>\n",
       "      <td>2.066169</td>\n",
       "      <td>3.705748</td>\n",
       "      <td>3.293163</td>\n",
       "      <td>-0.004519</td>\n",
       "    </tr>\n",
       "    <tr>\n",
       "      <th>2</th>\n",
       "      <td>1.854671</td>\n",
       "      <td>0.958954</td>\n",
       "      <td>1.747860</td>\n",
       "      <td>4.563370</td>\n",
       "      <td>1.920223</td>\n",
       "      <td>3.660023</td>\n",
       "      <td>3.934459</td>\n",
       "      <td>3.662237</td>\n",
       "      <td>0.107846</td>\n",
       "      <td>2.338015</td>\n",
       "      <td>...</td>\n",
       "      <td>0.110389</td>\n",
       "      <td>0.132394</td>\n",
       "      <td>0.317213</td>\n",
       "      <td>0.340321</td>\n",
       "      <td>0.107846</td>\n",
       "      <td>5.826694</td>\n",
       "      <td>4.413705</td>\n",
       "      <td>1.889876</td>\n",
       "      <td>3.616073</td>\n",
       "      <td>0.001678</td>\n",
       "    </tr>\n",
       "    <tr>\n",
       "      <th>3</th>\n",
       "      <td>1.613523</td>\n",
       "      <td>2.001359</td>\n",
       "      <td>1.128113</td>\n",
       "      <td>4.437006</td>\n",
       "      <td>2.178836</td>\n",
       "      <td>4.288398</td>\n",
       "      <td>3.860741</td>\n",
       "      <td>4.155899</td>\n",
       "      <td>0.025475</td>\n",
       "      <td>2.138529</td>\n",
       "      <td>...</td>\n",
       "      <td>0.145374</td>\n",
       "      <td>0.140332</td>\n",
       "      <td>0.337152</td>\n",
       "      <td>0.255299</td>\n",
       "      <td>0.025475</td>\n",
       "      <td>5.620903</td>\n",
       "      <td>4.329121</td>\n",
       "      <td>2.158954</td>\n",
       "      <td>3.457704</td>\n",
       "      <td>-0.000664</td>\n",
       "    </tr>\n",
       "  </tbody>\n",
       "</table>\n",
       "<p>4 rows × 129 columns</p>\n",
       "</div>"
      ],
      "text/plain": [
       "   ALTERSKATEGORIE_GROB  ANREDE_KZ  FINANZ_MINIMALIST  FINANZ_SPARER  \\\n",
       "0              3.480751   1.955576           4.251359       1.411307   \n",
       "1              3.345030   1.037155           4.823049       1.514873   \n",
       "2              1.854671   0.958954           1.747860       4.563370   \n",
       "3              1.613523   2.001359           1.128113       4.437006   \n",
       "\n",
       "   FINANZ_VORSORGER  FINANZ_ANLEGER  FINANZ_UNAUFFAELLIGER  FINANZ_HAUSBAUER  \\\n",
       "0          4.438740        1.901320               1.940927          2.458064   \n",
       "1          4.442286        1.401441               1.957699          1.974487   \n",
       "2          1.920223        3.660023               3.934459          3.662237   \n",
       "3          2.178836        4.288398               3.860741          4.155899   \n",
       "\n",
       "   GREEN_AVANTGARDE  HEALTH_TYP      ...       CAMEO_DEUG_2015_6  \\\n",
       "0          0.998722    2.056988      ...                0.095152   \n",
       "1          1.006028    2.039736      ...                0.093660   \n",
       "2          0.107846    2.338015      ...                0.110389   \n",
       "3          0.025475    2.138529      ...                0.145374   \n",
       "\n",
       "   CAMEO_DEUG_2015_7  CAMEO_DEUG_2015_8  CAMEO_DEUG_2015_9  movement  \\\n",
       "0           0.037801           0.028968           0.009767  0.998722   \n",
       "1           0.044915           0.033780           0.015282  1.006028   \n",
       "2           0.132394           0.317213           0.340321  0.107846   \n",
       "3           0.140332           0.337152           0.255299  0.025475   \n",
       "\n",
       "     decade    wealth  lifestage  neighborhood  new_building  \n",
       "0  3.334675  1.993789   3.670204      3.366258     -0.001568  \n",
       "1  3.426806  2.066169   3.705748      3.293163     -0.004519  \n",
       "2  5.826694  4.413705   1.889876      3.616073      0.001678  \n",
       "3  5.620903  4.329121   2.158954      3.457704     -0.000664  \n",
       "\n",
       "[4 rows x 129 columns]"
      ]
     },
     "execution_count": 334,
     "metadata": {},
     "output_type": "execute_result"
    }
   ],
   "source": [
    "centers_data = [center15_original_space, center18_original_space, center7_original_space, center9_original_space]\n",
    "centers_df = pd.DataFrame(centers_data)\n",
    "centers_df.columns = azdias_clean.columns\n",
    "centers_df.head()"
   ]
  },
  {
   "cell_type": "code",
   "execution_count": 336,
   "metadata": {},
   "outputs": [
    {
     "data": {
      "text/html": [
       "<div>\n",
       "<style scoped>\n",
       "    .dataframe tbody tr th:only-of-type {\n",
       "        vertical-align: middle;\n",
       "    }\n",
       "\n",
       "    .dataframe tbody tr th {\n",
       "        vertical-align: top;\n",
       "    }\n",
       "\n",
       "    .dataframe thead th {\n",
       "        text-align: right;\n",
       "    }\n",
       "</style>\n",
       "<table border=\"1\" class=\"dataframe\">\n",
       "  <thead>\n",
       "    <tr style=\"text-align: right;\">\n",
       "      <th></th>\n",
       "      <th>MOBI_REGIO</th>\n",
       "      <th>HH_EINKOMMEN_SCORE</th>\n",
       "      <th>SEMIO_REL</th>\n",
       "      <th>SEMIO_VERT</th>\n",
       "      <th>SEMIO_SOZ</th>\n",
       "      <th>SEMIO_FAM</th>\n",
       "      <th>SEMIO_KULT</th>\n",
       "    </tr>\n",
       "  </thead>\n",
       "  <tbody>\n",
       "    <tr>\n",
       "      <th>0</th>\n",
       "      <td>4.202172</td>\n",
       "      <td>2.572634</td>\n",
       "      <td>2.081906</td>\n",
       "      <td>3.109085</td>\n",
       "      <td>3.180004</td>\n",
       "      <td>2.029044</td>\n",
       "      <td>1.975210</td>\n",
       "    </tr>\n",
       "    <tr>\n",
       "      <th>1</th>\n",
       "      <td>4.219728</td>\n",
       "      <td>2.363536</td>\n",
       "      <td>3.755387</td>\n",
       "      <td>6.272608</td>\n",
       "      <td>4.937228</td>\n",
       "      <td>4.797161</td>\n",
       "      <td>4.961930</td>\n",
       "    </tr>\n",
       "    <tr>\n",
       "      <th>2</th>\n",
       "      <td>1.722480</td>\n",
       "      <td>5.549496</td>\n",
       "      <td>6.218499</td>\n",
       "      <td>6.079047</td>\n",
       "      <td>6.693613</td>\n",
       "      <td>6.755604</td>\n",
       "      <td>6.843033</td>\n",
       "    </tr>\n",
       "    <tr>\n",
       "      <th>3</th>\n",
       "      <td>2.065121</td>\n",
       "      <td>5.653729</td>\n",
       "      <td>5.586090</td>\n",
       "      <td>2.217099</td>\n",
       "      <td>3.001035</td>\n",
       "      <td>3.997289</td>\n",
       "      <td>4.290874</td>\n",
       "    </tr>\n",
       "  </tbody>\n",
       "</table>\n",
       "</div>"
      ],
      "text/plain": [
       "   MOBI_REGIO  HH_EINKOMMEN_SCORE  SEMIO_REL  SEMIO_VERT  SEMIO_SOZ  \\\n",
       "0    4.202172            2.572634   2.081906    3.109085   3.180004   \n",
       "1    4.219728            2.363536   3.755387    6.272608   4.937228   \n",
       "2    1.722480            5.549496   6.218499    6.079047   6.693613   \n",
       "3    2.065121            5.653729   5.586090    2.217099   3.001035   \n",
       "\n",
       "   SEMIO_FAM  SEMIO_KULT  \n",
       "0   2.029044    1.975210  \n",
       "1   4.797161    4.961930  \n",
       "2   6.755604    6.843033  \n",
       "3   3.997289    4.290874  "
      ]
     },
     "execution_count": 336,
     "metadata": {},
     "output_type": "execute_result"
    }
   ],
   "source": [
    "# Let's also display some others features that are truncated above\n",
    "# Those features are not picked randomly but provide from PCA interpretation earlier in the project.\n",
    "centers_df[['MOBI_REGIO', 'HH_EINKOMMEN_SCORE', 'SEMIO_REL', 'SEMIO_VERT', 'SEMIO_SOZ', 'SEMIO_FAM', 'SEMIO_KULT']].head()"
   ]
  },
  {
   "cell_type": "markdown",
   "metadata": {},
   "source": [
    "---\n",
    "\n",
    "### Discussion 3.3: Compare Customer Data to Demographics Data\n",
    "We can see in the above display that there is clear opposition on some columns between the 2 first lines and the 2 last ones:\n",
    "* `FINANZ_MINIMALIST` (the lower the value the less interest in finance): more than 4 in popular vs. less than 2 in unpopular\n",
    "* `FINANZ_SPARER` (money saver): it is the opposite: less than 2 vs. more than 4.\n",
    "* `FINANZ_ANLEGER` (investor): in popular segment, people are very likely to invest.\n",
    "* `GREEN_AVANTGARDE`: is 1 in popular segment, near 0 in unpopular segment.\n",
    "* `movement`: is 1 in popular segment, near 0 in unpopular segment.\n",
    "* `decade`: people in popular segment are more from the 60s (value 3) whereas they are more from the 90s in unpopular (value 6)\n",
    "* `wealth`: wealth is 2 ('Prosperous Households') in popular segment vs. 4 in unpopular => company should target wealthy people, obviously\n",
    "* `lifestage`: people which belong to 'Families With School Age Children' category are in popular vs. 'Young Couples With Children'\n",
    "\n",
    "Based on this clusters analysis we can say that people in popular segment:\n",
    "* are **wealthy**\n",
    "* are **from the 60s**\n",
    "* have **interest in finance**, likely to invest and **have money** ('very high income' to 'high income' in `HH_EINKOMMEN_SCORE`)\n",
    "* don't move a lot (`MOBI_REGIO` =~ 4)\n",
    "* are more religious (`SEMIO_REL`)\n",
    "\n",
    "**Those are the people this company should target in priority.**\n",
    "\n",
    "---"
   ]
  },
  {
   "cell_type": "markdown",
   "metadata": {},
   "source": [
    "> Congratulations on making it this far in the project! Before you finish, make sure to check through the entire notebook from top to bottom to make sure that your analysis follows a logical flow and all of your findings are documented in **Discussion** cells. Once you've checked over all of your work, you should export the notebook as an HTML document to submit for evaluation. You can do this from the menu, navigating to **File -> Download as -> HTML (.html)**. You will submit both that document and this notebook for your project submission."
   ]
  },
  {
   "cell_type": "code",
   "execution_count": null,
   "metadata": {},
   "outputs": [],
   "source": []
  }
 ],
 "metadata": {
  "kernelspec": {
   "display_name": "Python 3",
   "language": "python",
   "name": "python3"
  },
  "language_info": {
   "codemirror_mode": {
    "name": "ipython",
    "version": 3
   },
   "file_extension": ".py",
   "mimetype": "text/x-python",
   "name": "python",
   "nbconvert_exporter": "python",
   "pygments_lexer": "ipython3",
   "version": "3.6.3"
  }
 },
 "nbformat": 4,
 "nbformat_minor": 2
}
